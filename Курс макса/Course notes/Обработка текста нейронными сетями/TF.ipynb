{
 "cells": [
  {
   "cell_type": "markdown",
   "metadata": {},
   "source": [
    "# Введение в TensorFlow\n",
    "\n",
    "Принципы работы с tensorflow достаточно просты. Мы должны составить граф операций, затем передать в этот граф данные и дать команду произвести вычисления."
   ]
  },
  {
   "cell_type": "markdown",
   "metadata": {},
   "source": [
    "## Реализация нейрона"
   ]
  },
  {
   "cell_type": "markdown",
   "metadata": {},
   "source": [
    "### Graph mode (v1.x)"
   ]
  },
  {
   "cell_type": "code",
   "execution_count": 1,
   "metadata": {},
   "outputs": [
    {
     "name": "stdout",
     "output_type": "stream",
     "text": [
      "WARNING:tensorflow:From D:\\Users\\maxim\\Anaconda3\\envs\\maxim\\lib\\site-packages\\tensorflow_core\\python\\compat\\v2_compat.py:88: disable_resource_variables (from tensorflow.python.ops.variable_scope) is deprecated and will be removed in a future version.\n",
      "Instructions for updating:\n",
      "non-resource variables are not supported in the long term\n"
     ]
    }
   ],
   "source": [
    "import tensorflow.compat.v1 as tf\n",
    "tf.disable_v2_behavior()\n",
    "\n",
    "import numpy as np"
   ]
  },
  {
   "cell_type": "markdown",
   "metadata": {},
   "source": [
    "Для начала определим входы графа."
   ]
  },
  {
   "cell_type": "code",
   "execution_count": 2,
   "metadata": {},
   "outputs": [],
   "source": [
    "x = tf.keras.Input(shape=(2,))\n",
    "y = tf.keras.Input(shape=(1,))"
   ]
  },
  {
   "cell_type": "markdown",
   "metadata": {},
   "source": [
    "tf.Variable - обучаемые переменные. \n",
    "\n",
    "`tf.Variable(\n",
    "    initial_value=None, trainable=None, validate_shape=True, caching_device=None,\n",
    "    name=None, variable_def=None, dtype=None, import_scope=None, constraint=None,\n",
    "    synchronization=tf.VariableSynchronization.AUTO,\n",
    "    aggregation=tf.compat.v1.VariableAggregation.NONE, shape=None\n",
    ")`"
   ]
  },
  {
   "cell_type": "code",
   "execution_count": 3,
   "metadata": {},
   "outputs": [],
   "source": [
    "weights = tf.Variable(shape = (1, 2), initial_value=((0.1, 0.1),), dtype=tf.float32, name=\"w\")\n",
    "bias = tf.Variable(initial_value=0.0, dtype=tf.float32, name=\"b\")"
   ]
  },
  {
   "cell_type": "markdown",
   "metadata": {},
   "source": [
    "Присвоим переменной activation функцию `tf.keras.activations.sigmoid` - сигмоида."
   ]
  },
  {
   "cell_type": "code",
   "execution_count": 4,
   "metadata": {},
   "outputs": [],
   "source": [
    "activation = tf.keras.activations.sigmoid"
   ]
  },
  {
   "cell_type": "markdown",
   "metadata": {},
   "source": [
    "Свяжем узлы в граф с помощью функций + и -. Для умножения матрицы на вектор используем функцию `tf.matmul`."
   ]
  },
  {
   "cell_type": "code",
   "execution_count": 5,
   "metadata": {},
   "outputs": [],
   "source": [
    "model = activation(tf.matmul(x, tf.transpose(weights)) + bias)"
   ]
  },
  {
   "cell_type": "markdown",
   "metadata": {},
   "source": [
    "Любые вычисления в TensorFlow v1.x выполняются с помощью сессии. Создадим сессию с помощью команды `tf.Session()`."
   ]
  },
  {
   "cell_type": "code",
   "execution_count": 6,
   "metadata": {},
   "outputs": [],
   "source": [
    "session = tf.Session()"
   ]
  },
  {
   "cell_type": "markdown",
   "metadata": {},
   "source": [
    "Перед началом работы необходимо инициализировать переменные."
   ]
  },
  {
   "cell_type": "code",
   "execution_count": 7,
   "metadata": {},
   "outputs": [],
   "source": [
    "tf.global_variables_initializer().run(session=session)"
   ]
  },
  {
   "cell_type": "markdown",
   "metadata": {},
   "source": [
    "Попробуем подать модели что-нибудь на вход. Для этого воспользуемся методом `session.run`. Первый аргумент - список с графами, выходы которых необходимо вычислить, второй - словарь с парами вход графа - данные. Метод возвращает значения, полученные на выходе каждого графа из первого аргумента соответственно."
   ]
  },
  {
   "cell_type": "code",
   "execution_count": 8,
   "metadata": {},
   "outputs": [
    {
     "name": "stdout",
     "output_type": "stream",
     "text": [
      "[array([[0.54983395]], dtype=float32)]\n"
     ]
    }
   ],
   "source": [
    "output = session.run([model], feed_dict={x:np.array([[1.0, 1.0]])})\n",
    "print(output)"
   ]
  },
  {
   "cell_type": "markdown",
   "metadata": {},
   "source": [
    "Попробуем обучить модель функции \"И\". "
   ]
  },
  {
   "cell_type": "code",
   "execution_count": 9,
   "metadata": {},
   "outputs": [],
   "source": [
    "x_train=np.array([\n",
    "    [0, 0],\n",
    "    [0, 1],\n",
    "    [1, 0],\n",
    "    [1, 1]]).astype('float32')\n",
    "y_train=np.array([0, 0, 0, 1]).astype('float32').reshape((4, 1))"
   ]
  },
  {
   "cell_type": "markdown",
   "metadata": {},
   "source": [
    "Определим loss-функцию - тоже граф."
   ]
  },
  {
   "cell_type": "code",
   "execution_count": 10,
   "metadata": {},
   "outputs": [],
   "source": [
    "loss = tf.reduce_mean(tf.square(model-y))"
   ]
  },
  {
   "cell_type": "markdown",
   "metadata": {},
   "source": [
    "Создадим оптимизатор и настроим его на минимизацию нашей loss-функции."
   ]
  },
  {
   "cell_type": "code",
   "execution_count": 11,
   "metadata": {},
   "outputs": [
    {
     "name": "stdout",
     "output_type": "stream",
     "text": [
      "WARNING:tensorflow:From D:\\Users\\maxim\\Anaconda3\\envs\\maxim\\lib\\site-packages\\tensorflow_core\\python\\training\\rmsprop.py:119: calling Ones.__init__ (from tensorflow.python.ops.init_ops) with dtype is deprecated and will be removed in a future version.\n",
      "Instructions for updating:\n",
      "Call initializer instance with the dtype argument instead of passing it to the constructor\n"
     ]
    }
   ],
   "source": [
    "optimizer = tf.train.RMSPropOptimizer(0.001)\n",
    "optimizer_opt = optimizer.minimize(loss)"
   ]
  },
  {
   "cell_type": "markdown",
   "metadata": {},
   "source": [
    "После создания оптимизатора придется ещё раз инициализировать переменные."
   ]
  },
  {
   "cell_type": "code",
   "execution_count": 12,
   "metadata": {},
   "outputs": [],
   "source": [
    "tf.global_variables_initializer().run(session=session)"
   ]
  },
  {
   "cell_type": "markdown",
   "metadata": {},
   "source": [
    "Просто несколько раз подадим оптимизатор в `sess.run`."
   ]
  },
  {
   "cell_type": "code",
   "execution_count": 13,
   "metadata": {},
   "outputs": [
    {
     "name": "stdout",
     "output_type": "stream",
     "text": [
      ".................................................."
     ]
    }
   ],
   "source": [
    "epochs = 5000\n",
    "feed_dict={x:x_train, y:y_train}\n",
    "\n",
    "for epoch in range(epochs):\n",
    "    _, l = session.run([optimizer_opt, loss], feed_dict=feed_dict)\n",
    "    if epoch % 100 == 0:\n",
    "        print('.', end = '')"
   ]
  },
  {
   "cell_type": "code",
   "execution_count": 14,
   "metadata": {},
   "outputs": [
    {
     "name": "stdout",
     "output_type": "stream",
     "text": [
      "[array([[0.90961134],\n",
      "       [0.0036457 ]], dtype=float32)]\n"
     ]
    }
   ],
   "source": [
    "output = session.run([model], feed_dict={x:np.array([[1.1, 1.1], [-0.1, -0.1]])})\n",
    "print(output)"
   ]
  },
  {
   "cell_type": "markdown",
   "metadata": {},
   "source": [
    "После работы сессию необходимо закрыть."
   ]
  },
  {
   "cell_type": "code",
   "execution_count": 15,
   "metadata": {},
   "outputs": [],
   "source": [
    "session.close()"
   ]
  },
  {
   "cell_type": "markdown",
   "metadata": {},
   "source": [
    "Для удобства можно использовать конструкцию `with`, после выхода из которой сессия закроется сама. Кроме того, больше нет необходимости передавать сессию как аргумент в некоторые функции и методы."
   ]
  },
  {
   "cell_type": "code",
   "execution_count": 16,
   "metadata": {},
   "outputs": [
    {
     "name": "stdout",
     "output_type": "stream",
     "text": [
      "..................................................\n",
      "[array([[0.90961134],\n",
      "       [0.0036457 ]], dtype=float32)]\n"
     ]
    }
   ],
   "source": [
    "with tf.Session() as session:\n",
    "    tf.global_variables_initializer().run()\n",
    "    feed_dict={x:x_train, y:y_train}\n",
    "    \n",
    "    epochs = 5000\n",
    "    for epoch in range(epochs):\n",
    "        _, l = session.run([optimizer_opt, loss], feed_dict=feed_dict)\n",
    "        if epoch % 100 == 0:\n",
    "            print('.', end = '')\n",
    "    \n",
    "    print()\n",
    "    output = session.run([model], feed_dict={x:np.array([[1.1, 1.1], [-0.1, -0.1]])})\n",
    "    print(output)"
   ]
  },
  {
   "cell_type": "markdown",
   "metadata": {},
   "source": [
    "### Eager mode (v2.x)"
   ]
  },
  {
   "cell_type": "markdown",
   "metadata": {},
   "source": [
    "Основная идея api v2 - перевести графы в функции python. API v1: определение графа, вызов `sesssion.run`. API v2: определение функций python, вызов определенных функций."
   ]
  },
  {
   "cell_type": "code",
   "execution_count": 1,
   "metadata": {},
   "outputs": [
    {
     "name": "stdout",
     "output_type": "stream",
     "text": [
      "2.1.0\n"
     ]
    }
   ],
   "source": [
    "import tensorflow as tf\n",
    "import numpy as np\n",
    "\n",
    "print(tf.__version__)"
   ]
  },
  {
   "cell_type": "markdown",
   "metadata": {},
   "source": [
    "tf.Variable - обучаемые переменные. \n",
    "\n",
    "`tf.Variable(\n",
    "    initial_value=None, trainable=None, validate_shape=True, caching_device=None,\n",
    "    name=None, variable_def=None, dtype=None, import_scope=None, constraint=None,\n",
    "    synchronization=tf.VariableSynchronization.AUTO,\n",
    "    aggregation=tf.compat.v1.VariableAggregation.NONE, shape=None\n",
    ")`"
   ]
  },
  {
   "cell_type": "code",
   "execution_count": 2,
   "metadata": {},
   "outputs": [],
   "source": [
    "weights = tf.Variable(shape = (1, 2), initial_value=((0.1, 0.1),), dtype=tf.float32, name=\"w\")\n",
    "bias = tf.Variable(initial_value=0.0, dtype=tf.float32, name=\"b\")"
   ]
  },
  {
   "cell_type": "markdown",
   "metadata": {},
   "source": [
    "Присвоим переменной activation функцию `tf.keras.activations.sigmoid` - сигмоида."
   ]
  },
  {
   "cell_type": "code",
   "execution_count": 3,
   "metadata": {},
   "outputs": [],
   "source": [
    "activation = tf.keras.activations.sigmoid"
   ]
  },
  {
   "cell_type": "markdown",
   "metadata": {},
   "source": [
    "Свяжем узлы в граф с помощью функций + и -. Для умножения матрицы на вектор используем функцию `tf.matmul`. Для определения модели объявим функцию и применим [декоратор](https://pythonworld.ru/osnovy/dekoratory.html) `@tf.function`"
   ]
  },
  {
   "cell_type": "code",
   "execution_count": 4,
   "metadata": {},
   "outputs": [],
   "source": [
    "@tf.function\n",
    "def model(x):\n",
    "    return activation(tf.add(tf.matmul(x, tf.transpose(weights)), bias))"
   ]
  },
  {
   "cell_type": "markdown",
   "metadata": {},
   "source": [
    "Попробуем что-нибудь подать в такую модель."
   ]
  },
  {
   "cell_type": "code",
   "execution_count": 5,
   "metadata": {},
   "outputs": [
    {
     "name": "stdout",
     "output_type": "stream",
     "text": [
      "tf.Tensor(\n",
      "[[0.54983395]\n",
      " [0.5       ]], shape=(2, 1), dtype=float32)\n"
     ]
    }
   ],
   "source": [
    "output = model(tf.constant([[1.0, 1.0], [0.0, 0.0]]))\n",
    "print(output)"
   ]
  },
  {
   "cell_type": "markdown",
   "metadata": {},
   "source": [
    "Попробуем обучить модель функции \"И\". "
   ]
  },
  {
   "cell_type": "code",
   "execution_count": 6,
   "metadata": {},
   "outputs": [],
   "source": [
    "x_train=np.array([\n",
    "    [0, 0],\n",
    "    [0, 1],\n",
    "    [1, 0],\n",
    "    [1, 1]]).astype('float32')\n",
    "y_train=np.array([0, 0, 0, 1]).astype('float32').reshape((4, 1))"
   ]
  },
  {
   "cell_type": "markdown",
   "metadata": {},
   "source": [
    "Для этого определим лосс-функцию - в v2 это должна быть тоже функция python. В данном случае можно использовать инструкцию `lambda` для создания [анонимной функции](https://pythonworld.ru/tipy-dannyx-v-python/vse-o-funkciyax-i-ix-argumentax.html) без аргументов и с возвращаемым значением, которое необходимо минимизировать."
   ]
  },
  {
   "cell_type": "code",
   "execution_count": 8,
   "metadata": {},
   "outputs": [],
   "source": [
    "loss = lambda: tf.reduce_mean(tf.square(tf.subtract(model(x_train), y_train)))"
   ]
  },
  {
   "cell_type": "markdown",
   "metadata": {},
   "source": [
    "Соберем параметры, которые необходимо обучить."
   ]
  },
  {
   "cell_type": "code",
   "execution_count": 9,
   "metadata": {},
   "outputs": [],
   "source": [
    "var_list = [weights, bias]"
   ]
  },
  {
   "cell_type": "markdown",
   "metadata": {},
   "source": [
    "Также потребуется определить оптимизатор."
   ]
  },
  {
   "cell_type": "code",
   "execution_count": 10,
   "metadata": {},
   "outputs": [],
   "source": [
    "epochs = 5000\n",
    "optimizer = tf.keras.optimizers.RMSprop(0.001)"
   ]
  },
  {
   "cell_type": "markdown",
   "metadata": {},
   "source": [
    "Теперь можно запустить процесс обучения."
   ]
  },
  {
   "cell_type": "code",
   "execution_count": 11,
   "metadata": {},
   "outputs": [
    {
     "name": "stdout",
     "output_type": "stream",
     "text": [
      ".................................................."
     ]
    }
   ],
   "source": [
    "for epoch in range(epochs):\n",
    "    optimizer.minimize(loss, var_list)\n",
    "    if epoch % 100 == 0:\n",
    "        print('.', end = '')"
   ]
  },
  {
   "cell_type": "code",
   "execution_count": 12,
   "metadata": {},
   "outputs": [
    {
     "name": "stdout",
     "output_type": "stream",
     "text": [
      "tf.Tensor([[0.91108435]], shape=(1, 1), dtype=float32)\n",
      "tf.Tensor([[0.0035015]], shape=(1, 1), dtype=float32)\n"
     ]
    }
   ],
   "source": [
    "output = model(tf.constant([[1.1, 1.1]]))\n",
    "print(output)\n",
    "output = model(tf.constant([[-0.1, -0.1]]))\n",
    "print(output)"
   ]
  },
  {
   "cell_type": "markdown",
   "metadata": {},
   "source": [
    "## Сверточная нейронная сеть для классификации MNIST"
   ]
  },
  {
   "cell_type": "markdown",
   "metadata": {},
   "source": [
    "### Graph mode (v1.x)"
   ]
  },
  {
   "cell_type": "code",
   "execution_count": 1,
   "metadata": {},
   "outputs": [
    {
     "name": "stdout",
     "output_type": "stream",
     "text": [
      "WARNING:tensorflow:From D:\\Users\\maxim\\Anaconda3\\envs\\maxim\\lib\\site-packages\\tensorflow_core\\python\\compat\\v2_compat.py:88: disable_resource_variables (from tensorflow.python.ops.variable_scope) is deprecated and will be removed in a future version.\n",
      "Instructions for updating:\n",
      "non-resource variables are not supported in the long term\n"
     ]
    }
   ],
   "source": [
    "import tensorflow.compat.v1 as tf\n",
    "tf.disable_v2_behavior()\n",
    "\n",
    "from tensorflow.compat.v1 import keras\n",
    "\n",
    "import numpy as np"
   ]
  },
  {
   "cell_type": "markdown",
   "metadata": {},
   "source": [
    "Загрузка данных."
   ]
  },
  {
   "cell_type": "code",
   "execution_count": 2,
   "metadata": {},
   "outputs": [],
   "source": [
    "(x_train, y_train), (x_test, y_test) = keras.datasets.mnist.load_data()\n",
    "\n",
    "x_train = x_train.astype('float32') / 255.\n",
    "x_test  = x_test .astype('float32') / 255.\n",
    "x_train = np.reshape(x_train, (len(x_train), 28, 28, 1))\n",
    "x_test  = np.reshape(x_test,  (len(x_test),  28, 28, 1))\n",
    "\n",
    "y_train_cat = keras.utils.to_categorical(y_train)\n",
    "y_test_cat = keras.utils.to_categorical(y_test)"
   ]
  },
  {
   "cell_type": "markdown",
   "metadata": {},
   "source": [
    "Для создания батчей \"на месте\" объявим генератор. \n",
    "\n",
    "*Пользоваться python для подобных задач - медленно, однако аналогов пока не нашел*."
   ]
  },
  {
   "cell_type": "code",
   "execution_count": 3,
   "metadata": {},
   "outputs": [],
   "source": [
    "def datagen(x, y, batch_size, epochs, shuffle=True):\n",
    "    for epoch in range(epochs):\n",
    "        if shuffle:\n",
    "            p = np.random.permutation(len(x))\n",
    "            x, y = x[p], y[p]\n",
    "        for i in range(len(x)//batch_size):\n",
    "            yield x[i*batch_size:(i+1)*batch_size], y[i*batch_size:(i+1)*batch_size]"
   ]
  },
  {
   "cell_type": "markdown",
   "metadata": {},
   "source": [
    "Создание нейронной сети с помощью keras. Один из способов потом получить переменные сети - `tf.variable_scope`."
   ]
  },
  {
   "cell_type": "code",
   "execution_count": 4,
   "metadata": {},
   "outputs": [],
   "source": [
    "height = 28\n",
    "width = 28\n",
    "channels = 1"
   ]
  },
  {
   "cell_type": "code",
   "execution_count": 5,
   "metadata": {},
   "outputs": [
    {
     "name": "stdout",
     "output_type": "stream",
     "text": [
      "WARNING:tensorflow:From D:\\Users\\maxim\\Anaconda3\\envs\\maxim\\lib\\site-packages\\tensorflow_core\\python\\ops\\resource_variable_ops.py:1635: calling BaseResourceVariable.__init__ (from tensorflow.python.ops.resource_variable_ops) with constraint is deprecated and will be removed in a future version.\n",
      "Instructions for updating:\n",
      "If using Keras pass *_constraint arguments to layers.\n"
     ]
    }
   ],
   "source": [
    "with tf.variable_scope('mnist_classifier'):\n",
    "    model_input = keras.layers.Input(shape=(height, width, channels))\n",
    "    x = keras.layers.Conv2D(32, 3)(model_input)\n",
    "    x = keras.layers.LeakyReLU()(x)\n",
    "    x = keras.layers.Conv2D(64, 4, strides=2)(x)\n",
    "    x = keras.layers.LeakyReLU()(x)\n",
    "    x = keras.layers.MaxPooling2D(pool_size=(2, 2))(x)\n",
    "    x = keras.layers.Dropout(0.25)(x)\n",
    "    x = keras.layers.Flatten()(x)\n",
    "    x = keras.layers.Dense(128, activation='relu')(x)\n",
    "    x = keras.layers.Dropout(0.5)(x)\n",
    "\n",
    "    # Classification layer\n",
    "    model_output = keras.layers.Dense(10, activation='softmax')(x)"
   ]
  },
  {
   "cell_type": "markdown",
   "metadata": {},
   "source": [
    "Пользуясь синтаксисом TensorFlow, объявим граф вычислений для целевой функции."
   ]
  },
  {
   "cell_type": "code",
   "execution_count": 6,
   "metadata": {},
   "outputs": [],
   "source": [
    "y = keras.layers.Input(shape=(10, ))\n",
    "loss = tf.losses.softmax_cross_entropy(y, model_output)"
   ]
  },
  {
   "cell_type": "markdown",
   "metadata": {},
   "source": [
    "Чтобы получить переменные сети из коллекции, созданной выше, воспользуемся следующей командой."
   ]
  },
  {
   "cell_type": "code",
   "execution_count": 7,
   "metadata": {},
   "outputs": [],
   "source": [
    "train_vars = tf.get_collection(tf.GraphKeys.TRAINABLE_VARIABLES, \"mnist_classifier\")"
   ]
  },
  {
   "cell_type": "markdown",
   "metadata": {},
   "source": [
    "Ещё один способ получить параметры: воспользоваться `keras.Model`. **Важно**: могут возникнуть проблемы с `Lambda`-слоями."
   ]
  },
  {
   "cell_type": "code",
   "execution_count": 7,
   "metadata": {},
   "outputs": [],
   "source": [
    "model = keras.Model(model_input, model_output)\n",
    "train_vars = model.trainable_weights"
   ]
  },
  {
   "cell_type": "markdown",
   "metadata": {},
   "source": [
    "Вместе с loss-функцией в оптимизатор можно передать список с переменными, которые необходимо обучать. Это полезно в тех случаях, когда в одном графе вычислений присутствует несколько сетей, а обучать необходимо только одну."
   ]
  },
  {
   "cell_type": "code",
   "execution_count": 8,
   "metadata": {},
   "outputs": [],
   "source": [
    "optimizer = tf.train.AdamOptimizer(0.001)\n",
    "step_opt = optimizer.minimize(loss, var_list=train_vars)"
   ]
  },
  {
   "cell_type": "markdown",
   "metadata": {},
   "source": [
    "Запустим алгоритм обучения."
   ]
  },
  {
   "cell_type": "code",
   "execution_count": 9,
   "metadata": {},
   "outputs": [
    {
     "name": "stdout",
     "output_type": "stream",
     "text": [
      "..........1.4964266\n",
      "..........1.469913\n",
      "..........1.483226\n",
      "..........1.4807158\n",
      "..........1.4764936\n"
     ]
    }
   ],
   "source": [
    "epochs = 5\n",
    "batch_size = 128\n",
    "buffer_size = 1000\n",
    "\n",
    "dg = datagen(x_train, y_train_cat, batch_size, epochs)\n",
    "\n",
    "sess = tf.Session()\n",
    "sess.run(tf.global_variables_initializer())\n",
    "\n",
    "count = 0\n",
    "for (x_batch, y_batch) in dg:\n",
    "    _, l = sess.run([step_opt, loss], feed_dict={model_input:x_batch, y:y_batch})\n",
    "    count += 1\n",
    "    \n",
    "    if count % (len(x_train)//batch_size//10) == 0:\n",
    "        print('.', end='')\n",
    "    if count >= len(x_train)//batch_size:\n",
    "        count = 0\n",
    "        print(l)"
   ]
  },
  {
   "cell_type": "markdown",
   "metadata": {},
   "source": [
    "Посчитаем точность полученной модели с помощью `tf.metrics.accuracy`. **Обратите внимание**: для работы после объявления графа для точности необходимо инициализировать локальные переменные с помощью `tf.local_variables_initializer()`."
   ]
  },
  {
   "cell_type": "code",
   "execution_count": 10,
   "metadata": {},
   "outputs": [
    {
     "name": "stdout",
     "output_type": "stream",
     "text": [
      "[0.9832]\n"
     ]
    }
   ],
   "source": [
    "acc, acc_op = tf.metrics.accuracy(labels=tf.argmax(y, 1), \n",
    "                                  predictions=tf.argmax(model_output, 1))\n",
    "sess.run(tf.local_variables_initializer())\n",
    "\n",
    "accuracy = sess.run([acc_op], feed_dict={model_input:x_test, y:y_test_cat})\n",
    "print(accuracy)"
   ]
  },
  {
   "cell_type": "markdown",
   "metadata": {},
   "source": [
    "Закроем сессию."
   ]
  },
  {
   "cell_type": "code",
   "execution_count": 11,
   "metadata": {},
   "outputs": [],
   "source": [
    "sess.close()"
   ]
  },
  {
   "cell_type": "markdown",
   "metadata": {},
   "source": [
    "## Источники"
   ]
  },
  {
   "cell_type": "markdown",
   "metadata": {},
   "source": [
    "[Документация. Работа с оптимизаторами.](https://www.tensorflow.org/api_docs/python/tf/keras/optimizers/Optimizer)\n",
    "\n",
    "[Сравнение синтаксиса v1.x и v2.x](https://github.com/tensorflow/community/blob/master/rfcs/20180918-functions-not-sessions-20.md)\n",
    "\n",
    "[Пример TensorFlow v2 для MNIST](https://github.com/dragen1860/TensorFlow-2.x-Tutorials/tree/master/03-Play-with-MNIST)"
   ]
  }
 ],
 "metadata": {
  "kernelspec": {
   "display_name": "Python 3",
   "language": "python",
   "name": "python3"
  },
  "language_info": {
   "codemirror_mode": {
    "name": "ipython",
    "version": 3
   },
   "file_extension": ".py",
   "mimetype": "text/x-python",
   "name": "python",
   "nbconvert_exporter": "python",
   "pygments_lexer": "ipython3",
   "version": "3.7.7"
  }
 },
 "nbformat": 4,
 "nbformat_minor": 4
}
