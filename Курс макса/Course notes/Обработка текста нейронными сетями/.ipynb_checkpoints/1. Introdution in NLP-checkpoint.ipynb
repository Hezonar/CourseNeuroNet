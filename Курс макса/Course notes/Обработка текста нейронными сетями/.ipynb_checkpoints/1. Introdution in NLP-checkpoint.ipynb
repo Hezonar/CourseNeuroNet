{
 "cells": [
  {
   "cell_type": "markdown",
   "metadata": {},
   "source": [
    "# Введение в автоматическую обработку текстов"
   ]
  },
  {
   "cell_type": "markdown",
   "metadata": {},
   "source": [
    "## Компьютерное представление текстов\n",
    "\n",
    "Для начала вспомним о том, что тексты в программах представлены в виде последовательности символов. Символы при этом являются некоторыми числами-кодами. Можно привести в пример кодировки ASCII, Unicode и многие другие.\n",
    "\n",
    "![title](https://upload.wikimedia.org/wikipedia/commons/thumb/4/4f/ASCII_Code_Chart.svg/1920px-ASCII_Code_Chart.svg.png)"
   ]
  },
  {
   "cell_type": "code",
   "execution_count": 6,
   "metadata": {},
   "outputs": [
    {
     "name": "stdout",
     "output_type": "stream",
     "text": [
      "Text:'Hello world!''\n",
      "Code:'[72, 101, 108, 108, 111, 32, 119, 111, 114, 108, 100, 33]'\n"
     ]
    }
   ],
   "source": [
    "text = \"Hello world!\"\n",
    "code = [ord(c) for c in text]\n",
    "print(\"Text:'Hello world!''\\nCode:'\" + str(code)+\"'\")"
   ]
  },
  {
   "cell_type": "markdown",
   "metadata": {},
   "source": [
    "Таким образом тексты в компьютере - последовательности чисел. Какие можно выделить свойства у данных последовательностей?\n",
    "- Тексты имеют переменную длину\n",
    "- Символы составляют слова, расположены не случайно. Большая часть комбинаций символов не имеет смысла, осмысленные тексты - очень небольшое подмножество всех возможных комбинаций символов\n",
    "- Слова связаны с друг другом, связи могут быть через длительные промежутки"
   ]
  },
  {
   "cell_type": "code",
   "execution_count": 10,
   "metadata": {},
   "outputs": [
    {
     "name": "stdout",
     "output_type": "stream",
     "text": [
      "Generated: 'Z:Gg52n\u001c",
      "Q%p,.]`n5cv\u001d",
      "~{tw<)g6Oao@_E^<D\u0018+\u0018:B4x\"\u0014\u001d",
      "\u001d",
      "kiHHNygB{T&@(F48*\u001a\u0014 \u001fGxlLu5<\u0015Na7%?\u0019kKd!VW{)5\u001b\u001f!JM?C<'\n"
     ]
    }
   ],
   "source": [
    "from random import randint\n",
    "\n",
    "randtext = \"\"\n",
    "for c in [chr(randint(20, 126)) for _ in range(100)]:\n",
    "    randtext += c\n",
    "print(\"Generated: '\"+randtext+\"'\")"
   ]
  },
  {
   "cell_type": "markdown",
   "metadata": {},
   "source": [
    "Первое и третье замечания, на самом деле, очень сильно усложняет задачу. В качестве примера рассмотрим нейронную сеть:\n",
    "\n",
    "![title](https://wiki.loginom.ru/images/multilayer-neural-net.svg)\n",
    "\n",
    "Стандартные полносвязные и сверточные сети принимают на вход тензоры *фиксированного* размера, а, как мы отмечали ранее, тексты это последовательности *переменной* длины. \n",
    "\n",
    "Самое простое решение - пройтись окном фиксированного размера по всему тексту. Рассмотрим на примере задачи генерации: будем подавать на вход нескольки предыдущих символов и требовать предсказать следующий.\n",
    "\n",
    "![title](img\\Французские_булки.png)\n",
    "\n",
    "1) input=\"съешь ещё этих мягких ф\", output=\"р\"\n",
    "\n",
    "2) input=\"ъешь ещё этих мягких фр\", output=\"а\"\n",
    "\n",
    "3) input=\"ешь ещё этих мягких фра\", output=\"н\""
   ]
  },
  {
   "cell_type": "markdown",
   "metadata": {},
   "source": [
    "<details>\n",
    "  <summary>Результаты генерации текста</summary>\n",
    "  \n",
    "  x x x\n",
    "\n",
    "по катых оспродиться в куках — все в неплу да в суде хлебе.\n",
    "и под вечернем из тамаки\n",
    "привада свечкой горого брать.\n",
    "\n",
    "x x x\n",
    "\n",
    "скоро сыни мось в петахи в трам\n",
    "пахнет радости незримый свет,\n",
    "оттого мне сколоткай росет\n",
    "о ненеком не будешь сык.\n",
    "\n",
    "сердце стругать в стахой огорой,\n",
    "уж не стари злакат супает,\n",
    "я стражно мость на бала сороветь.\n",
    "\n",
    "в так и хорода дарин в добой,\n",
    "слышу я в сердце снего на руку.\n",
    "наше пой белой колько нежный думиной\n",
    "отвотила рудовой бесть волоть.\n",
    "\n",
    "x x x\n",
    "\n",
    "вет распуя весерцы закланом\n",
    "и под забылинким пролил.\n",
    "и ты, ставь, как с веткам кубой\n",
    "светят в оночест.\n",
    "о весели на закото\n",
    "с тровенной полет молокы.\n",
    "\n",
    "о вдерь вы розой, светья\n",
    "свет облака на рука:\n",
    "и на заре скатался,\n",
    "как ты, моя всададилан!\n",
    "\n",
    "он вечер по служу, не в кость,\n",
    "в нечь по тани свет синились,\n",
    "как сородная грусть.\n",
    "  \n",
    "</details>\n",
    "\n",
    "[Источник: Бредогенератор: создаем тексты на любом языке с помощью нейронной сети](https://habr.com/ru/post/470035/)"
   ]
  },
  {
   "cell_type": "markdown",
   "metadata": {},
   "source": [
    "## Естественный язык и текст\n",
    "\n",
    "*Глокая куздра штеко будланула бокра и курдячит бокрёнка (Л.В. Щерба 1930)*\n",
    "\n",
    "Для решения проблемы выше и не только попробуем обратиться к науке, изучающей естественный язык - лингвистике.\n",
    "\n",
    "### Что такое естественный язык?\n",
    "\n",
    "Существует масса определений естественного языка, однако в данном курсе мы не испытываем в нем необходимости. Вместо этого давайте рассмотрим ключевые особенности естественных языков:\n",
    "- Естественные языки никем специально не составлялись, а образовались в ходе коммуникации людей*.\n",
    "- Их правила строго не регламентированы\n",
    "- Некоторые правила меняются от региона к региону и во времени\n",
    "- От правил можно отклоняться, и все всё равно будут понимать, о чём идет речь\n",
    "- Правила неоднозначные\n",
    "\n",
    "\\*Есть и другие гипотезы происхождения языка.\n",
    "\n",
    "Естественным языкам часто противопоставляются формальные языки, например, языки программирования (C++, Python) или математические формулы:\n",
    "- Формальные языки строго определены\n",
    "- Процесс разбора и поиска ошибок детерменирован\n",
    "- Существуют эффективные алгоритмы (LL*-, LR-парсеры)"
   ]
  },
  {
   "cell_type": "markdown",
   "metadata": {},
   "source": [
    "### Уровни языка\n",
    "\n",
    "Давайте рассмотрим, из каких элементов состоит язык, как они связаны друг с другом, какие отношения устанавливаются между ними, в чем проявляется их единство. К языковым единицам относятся звуки, фонемы, морфемы, слова, фразеологизмы, словосочетания, предложения, тексты. Единицы языка тесно связаны друг с другом. Однородные единицы объединяются и образуют *уровни языка*.\n",
    "\n",
    "| Единицы языка  | Уровни языка |\n",
    "|:-------------:|:-------------:|\n",
    "| Звуки, фонемы  | Фонетический  |\n",
    "| Пробелы, точки и пр. | Графематический |\n",
    "| Морфемы  | Морфемный  |\n",
    "| Формы и классы слов  | Морфологический  |\n",
    "| Словосочетания и предложения | Синтаксический  |\n",
    "\n",
    "В задачах обработки текста традиционно выделяют следующие уровни языка:\n",
    "\n",
    "*Графематический* - как разделять слова и предложения между собой.\n",
    "\n",
    "*Морфологический* - как строить и изменять слова.\n",
    "\n",
    "*Синтаксический* - как согласовывать между собой слова.\n",
    "\n",
    "*Семантический* - как сообщить необходимую информацию.\n",
    "\n",
    "*Стилистический* - насколько \"уместно\" применять те или иные слова, конструкции и т.п. в данном контексте.\n",
    "\n",
    "Замечание: существуют и другие уровни языка, которые не будут рассматриваться в данном курсе."
   ]
  },
  {
   "cell_type": "markdown",
   "metadata": {},
   "source": [
    "## Графематический разбор\n",
    "\n",
    "Дан \"сырой\" текст, например: \n",
    "\n",
    "    \"Roses are red. Violets are blue.\"\n",
    "\n",
    "Требуется разбить его на слова и предложения:\n",
    "\n",
    "    [[\"Roses\", \"are\", red\"], [\"Violets\", \"are\", \"blue\"]]\n",
    "    \n",
    "Иногда возникают проблемы:\n",
    "    \n",
    "    \"Я прочитал роман М.А. Булгакова. Великий писатель\"\n",
    "    \n",
    "На какой из трёх точек заканчивается предложение?   "
   ]
  },
  {
   "cell_type": "markdown",
   "metadata": {},
   "source": [
    "### Свойства различных языков\n",
    "\n",
    "Естественные языки могут отличаться друг от друга. Рассмотрим наиболее существенные различия на примере русского и английского языков.\n",
    "\n",
    "|                              | Русский        | Английский     |\n",
    "|:----------------------------:|:-------------: |:--------------:|\n",
    "|Флективность (словоизменение) | Сильная        | Слабая         |\n",
    "|Порядок слов                  | свободный      | фиксированный  |\n",
    "|Смысловая омонимия            | высокая        | высокая        |\n",
    "|Частеречная омонимия          | умеренная      | сильная        |"
   ]
  },
  {
   "cell_type": "markdown",
   "metadata": {},
   "source": [
    "#### Флективность (словоизменение)    \n",
    "\n",
    "- Английский: a cat, many cat**s**, to the cat...\n",
    "\n",
    "- Русский: кошка, много кош**ек**, кошк**е**\n",
    "\n",
    "Для очищения текста от лишней информации можно применить *стемминг* - отбрасывание всех морфем кроме главных: \n",
    "- cats -> cat\n",
    "- кошке -> кош\n",
    "\n",
    "В каком языке в результате применения стемминга будет теряться больше информации?"
   ]
  },
  {
   "cell_type": "markdown",
   "metadata": {},
   "source": [
    "#### Порядок слов\n",
    "\n",
    "*Только рупор капитана их к отплытью призовёт - призовёт капитана или рупор капитана?*\n",
    "    \n",
    "Русский (свободный):\n",
    "- Вы говорите по-английски?\n",
    "- Говорите вы по-английски?\n",
    "- По-английски говорите вы?\n",
    "\n",
    "Английский (утверждение: подлежащее, сказуемое, дополнение; общий вопрос: сказуемое, подлежащее, дополнение):\n",
    " - Do you speak English?\n",
    " \n",
    " \n",
    " Порядок слов в английском можно менять, но от этого будет сильно меняться значение или стиль (утверждение, вопрос и т.д.).\n",
    " \n",
    " ![title](img\\English.jpg)\n",
    " \n",
    " Связанная задача - синтаксический разбор (построение синтаксического дерева). \n",
    " ![title](https://studme.org/htm/img/15/1720/238.png)"
   ]
  },
  {
   "cell_type": "markdown",
   "metadata": {},
   "source": [
    "#### Смысловая омонимия\n",
    "\n",
    "Как определить значение, в котором находится слово в данном тексе? \n",
    "\n",
    "    Ключ - предмет/устройство для хапирания/отпирания замков, шифров и т.п. (отпереть ключом)\n",
    "\n",
    "    Ключ - источник воды (бить ключом)\n",
    "\n",
    "    Перебор - поочередное взятие чего-либо (перебор двигателя)\n",
    "\n",
    "    Перебор - лишнее, больше, чем нужно (это был бы уже явный перебор)\n",
    "\n",
    "Задача снятие смысловой неоднозначности (word sense disambigation). Способы:\n",
    "- Cистемы правил\n",
    "- Hidden Markov Model\n",
    "- Conditional Random Fields\n",
    "- Нейронные сети"
   ]
  },
  {
   "cell_type": "markdown",
   "metadata": {},
   "source": [
    "#### Частеречная омонимия\n",
    "\n",
    "*Печь - существительное или глагол?*\n",
    "\n",
    "- Мама **мыла** раму (мыть=гл.)\n",
    "\n",
    "- В ванной нет **мыла** (мыло=сущ.)\n",
    "\n",
    "- Косил косой косой косой\n",
    "\n",
    "- Green green greens green green\n",
    "\n",
    "Необходимо снять неоднозначность частей речи: Part of speech(POS) tagging или POS-теггинг. \n",
    "- Cловари, системы правил\n",
    "- Hidden Markov Model\n",
    "- Conditional Random Fields"
   ]
  },
  {
   "cell_type": "markdown",
   "metadata": {},
   "source": [
    "## Морфологический анализ\n",
    "\n",
    "Морфология - раздел лингвистики, основным предметом изучения которого является:\n",
    "- Словоизменение: бежать - бегу - бежишь - бежит - бегут...\n",
    "- Словобразование: рыба - рыбка - рыбный - рыбак...\n",
    "\n",
    "Ещё раз вернемся к примеру c словоизменением слова \"кошка\". \n",
    "\n",
    "    В.И. Алия гладил кошку, удобно расположившись на кресле.\n",
    "\n",
    "*Словоформа* - слово в тексте **кошку**\n",
    "\n",
    "*Лемма* - словарная словарная форма слова **кошка**\n",
    "\n",
    "*Морфема* - минимальная морфологическая единица **кош**, **к**\n",
    "\n",
    "*Граммема* - грамматические значения **существительное**, **ед. число**, **женский род**, **Винительный падеж**\n",
    "\n",
    "*Парадигма* - список словоформ одной лексемы (слова)\n",
    "\n",
    "![title](img\\cat.png)\n",
    "\n",
    "Последовательно применим всё, что мы изучили, для слова \"кошка\":\n",
    "\n",
    "    Стемминг: кош\n",
    "    Лемматизация: кошка\n",
    "    POS-теггинг: кошка|S\n",
    "    Определение граммем: кошка|S,sg,f,acc\n",
    "    Синтаксическое дерево (определение предка): кошка|S,sg,f,acc,parent=1\n",
    "    \n",
    "[Используемые обозначения](https://yandex.ru/dev/mystem/doc/grammemes-values.html)\n",
    "\n",
    "**Задание**: проделайте то же самое с выделенным словом.\n",
    "\n",
    "- Лично я **ловлю** покемонов не одобряю."
   ]
  },
  {
   "cell_type": "markdown",
   "metadata": {},
   "source": [
    "### Извлечение именнованных сущностей\n",
    "\n",
    "Bill  Gates  is  one  of  the  founders  of  Microsoft,  a company well-known in USA and all over the world. \n",
    "\n",
    "\\[PERSON  Bill  Gates\\]  is  one  of  the  founders  of  \\[ORGANIZATION Microsoft\\],  a company well-known in \\[LOCATION USA\\] and all over the world. \n",
    "\n",
    "[Список инструментов](https://nlpub.ru/%D0%98%D0%B7%D0%B2%D0%BB%D0%B5%D1%87%D0%B5%D0%BD%D0%B8%D0%B5_%D0%B8%D0%BC%D0%B5%D0%BD%D0%BE%D0%B2%D0%B0%D0%BD%D0%BD%D1%8B%D1%85_%D1%81%D1%83%D1%89%D0%BD%D0%BE%D1%81%D1%82%D0%B5%D0%B9)"
   ]
  },
  {
   "cell_type": "markdown",
   "metadata": {},
   "source": [
    "# Инструменты\n",
    "## Корпусы текстов\n",
    "\n",
    "- [НКРЯ](https://ruscorpora.ru/new/)\n",
    "- [OpenCorpora](http://opencorpora.org/)\n",
    "- [ГКРЯ](http://www.webcorpora.ru/ru/)\n",
    "- [WordNet](https://wordnet.princeton.edu/)\n",
    "\n",
    "#### Простой пример: снятие неоднозначности на основе частоты\n",
    "\n",
    "    стекла{стекло:101.30=S|стекать:7.40=V}\n",
    "\n",
    "    печь{печь:34.50=S|печь:7.40=V}"
   ]
  },
  {
   "cell_type": "markdown",
   "metadata": {},
   "source": [
    "## Готовые решения\n",
    "\n",
    "- [mystem](https://yandex.ru/dev/mystem/)\n",
    "- [TreeTagger](https://www.cis.lmu.de/~schmid/tools/TreeTagger/)\n",
    "- [nltk](https://www.nltk.org/)\n",
    "- [pymorphy2](https://pymorphy2.readthedocs.io/en/stable/)\n",
    "- [AOT](http://aot.ru/)\n",
    "\n",
    "[Ещё](https://nlpub.ru/%D0%93%D1%80%D0%B0%D1%84%D0%B5%D0%BC%D0%B0%D1%82%D0%B8%D1%87%D0%B5%D1%81%D0%BA%D0%B8%D0%B9_%D0%B0%D0%BD%D0%B0%D0%BB%D0%B8%D0%B7)"
   ]
  },
  {
   "cell_type": "markdown",
   "metadata": {},
   "source": [
    "## pymystem\n",
    "\n",
    "[Инструкция по установке](https://pypi.org/project/pymystem3/)"
   ]
  },
  {
   "cell_type": "code",
   "execution_count": 26,
   "metadata": {},
   "outputs": [
    {
     "name": "stdout",
     "output_type": "stream",
     "text": [
      "красивый мама красиво мыть рама\n",
      "\n"
     ]
    }
   ],
   "source": [
    "# Лемматизация\n",
    "from pymystem3 import Mystem\n",
    "\n",
    "\n",
    "text = \"Красивая мама красиво мыла раму\"\n",
    "m = Mystem()\n",
    "lemmas = m.lemmatize(text)\n",
    "print(''.join(lemmas))"
   ]
  },
  {
   "cell_type": "code",
   "execution_count": 30,
   "metadata": {},
   "outputs": [
    {
     "name": "stdout",
     "output_type": "stream",
     "text": [
      "lemmas: красивый мама красиво мыть рама\n",
      "\n",
      "full info: [{\"analysis\": [{\"lex\": \"красивый\", \"wt\": 1, \"gr\": \"A=им,ед,полн,жен\"}], \"text\": \"Красивая\"}, {\"text\": \" \"}, {\"analysis\": [{\"lex\": \"мама\", \"wt\": 1, \"gr\": \"S,жен,од=им,ед\"}], \"text\": \"мама\"}, {\"text\": \" \"}, {\"analysis\": [{\"lex\": \"красиво\", \"wt\": 0.8149252476, \"gr\": \"ADV=\"}], \"text\": \"красиво\"}, {\"text\": \" \"}, {\"analysis\": [{\"lex\": \"мыть\", \"wt\": 0.441520999, \"gr\": \"V,несов,пе=прош,ед,изъяв,жен\"}], \"text\": \"мыла\"}, {\"text\": \" \"}, {\"analysis\": [{\"lex\": \"рама\", \"wt\": 0.9993591156, \"gr\": \"S,жен,неод=вин,ед\"}], \"text\": \"раму\"}, {\"text\": \"\\n\"}]\n"
     ]
    }
   ],
   "source": [
    "import json\n",
    "from pymystem3 import Mystem\n",
    "\n",
    "\n",
    "text = \"Красивая мама красиво мыла раму\"\n",
    "m = Mystem()\n",
    "lemmas = m.lemmatize(text)\n",
    "\n",
    "print(\"lemmas:\", ''.join(lemmas))\n",
    "print(\"full info:\", json.dumps(m.analyze(text), ensure_ascii=False))"
   ]
  },
  {
   "cell_type": "markdown",
   "metadata": {},
   "source": [
    "## NLTK\n",
    "\n",
    "Установите библиотеку nltk и скачайте WordNet."
   ]
  },
  {
   "cell_type": "code",
   "execution_count": 5,
   "metadata": {},
   "outputs": [
    {
     "name": "stderr",
     "output_type": "stream",
     "text": [
      "[nltk_data] Downloading package wordnet to\n",
      "[nltk_data]     C:\\Users\\maxim\\AppData\\Roaming\\nltk_data...\n",
      "[nltk_data]   Unzipping corpora\\wordnet.zip.\n"
     ]
    },
    {
     "data": {
      "text/plain": [
       "True"
      ]
     },
     "execution_count": 5,
     "metadata": {},
     "output_type": "execute_result"
    }
   ],
   "source": [
    "import nltk\n",
    "nltk.download('wordnet')"
   ]
  },
  {
   "cell_type": "code",
   "execution_count": 35,
   "metadata": {},
   "outputs": [
    {
     "name": "stdout",
     "output_type": "stream",
     "text": [
      "Synset('farming.n.02')\n",
      "\n",
      "Synset name :   farming.n.02\n",
      "Synset meaning :  agriculture considered as an occupation or way of life\n",
      "Synset example :  ['farming is a strenuous life', \"there's no work on the land any more\"]\n"
     ]
    }
   ],
   "source": [
    "from nltk.corpus import wordnet as wn\n",
    "\n",
    "\n",
    "def lesk(sentence, ambiguous_word):\n",
    "    max_overlaps = 0\n",
    "    lesk_dictionary = []\n",
    "    lesk_sense = \"Not found\"\n",
    "    context = sentence.split()\n",
    "    \n",
    "    for sense in wn.synsets(ambiguous_word):\n",
    "        lesk_dictionary += sense.definition().split()\n",
    "        lesk_dictionary += sense.lemma_names()\n",
    "        \n",
    "        overlaps = set(lesk_dictionary).intersection(context)\n",
    "        \n",
    "        # print(sense)\n",
    "        # print(len(overlaps))\n",
    "        if len(overlaps) > max_overlaps:\n",
    "            lesk_sense = sense\n",
    "            max_overlaps = len(overlaps)\n",
    "    \n",
    "    return lesk_sense\n",
    "\n",
    "\n",
    "sentence = \"\"\"I met a traveller from an antique land\n",
    "Who said: Two vast and trunkless legs of stone\n",
    "Stand in the desert. Near them on the sand,\n",
    "Half sunk, a shattered visage lies, whose frown\n",
    "And wrinkled lip and sneer of cold command\n",
    "Tell that its sculptor well those passions read\n",
    "Which yet survive, stamped on these lifeless things,\n",
    "The hand that mocked them and the heart that fed.\n",
    "And on the pedestal these words appear:\n",
    "\"My name is Ozymandias, King of Kings:\n",
    "Look on my works, ye mighty, and despair!\"\n",
    "Nothing beside remains. Round the decay\n",
    "Of that colossal wreck, boundless and bare,\n",
    "The lone and level sands stretch far away.\"\"\"\n",
    "\n",
    "ambiguous_word = 'land'\n",
    "\n",
    "answer = lesk(sentence, ambiguous_word)\n",
    "\n",
    "print(answer)\n",
    "\n",
    "if answer is not \"Not found\":\n",
    "    print (\"\\nSynset name :  \", answer.name())\n",
    "\n",
    "    # Defining the word\n",
    "    print (\"Synset meaning : \", answer.definition())\n",
    "\n",
    "    # list of phrases that use the word in context\n",
    "    print (\"Synset example : \", answer.examples())"
   ]
  },
  {
   "cell_type": "markdown",
   "metadata": {},
   "source": [
    "[Примеры лемматизации и пр.](https://iccl.inf.tu-dresden.de/w/images/f/f5/Lecture-02.pdf)"
   ]
  },
  {
   "cell_type": "markdown",
   "metadata": {},
   "source": [
    "## Задание по курсу\n",
    "\n",
    "1) Найдите текст и задачу (интересные!). Например: (IMDB, классификация), (Ф.М. Достоевский \"Преступление и наказание\", генерация) и т.п.\n",
    "\n",
    "2) Предобработайте текст разными  способами: только графематический анализ, только стемминг, только лемматизация, всё что можно и т.п.\n",
    "\n",
    "3) Обучите простую модель (GRU, LSTM).\n",
    "\n",
    "4) Попробуйте обучить трансформер (BERT, Small BERT, ELMO, GPT-3). С \"нуля\" и уже предобученный.\n",
    "\n",
    "![title](img\\Bert.jpg)\n",
    "\n",
    "\n",
    "Если нет мощной видеокарты Nvidia, для обучения рекомедную использовать облачные сервисы, например, Google Colab (требуется включить использование GPU)."
   ]
  },
  {
   "cell_type": "markdown",
   "metadata": {},
   "source": [
    "## Ссылки\n",
    "- Русский язык и культура речи: Учебник. – 2-е изд., перераб. и доп./Под ред. проф. О.Я. Гойхман\n",
    "- [Stepik: Введение в обработку естественного языка](https://stepik.org/lesson/39814/step/4?unit=18596)\n",
    "- [Semantic Computing Course with SWS 2/2/0 (lecture/exercise/practical) in WS 2018](https://iccl.inf.tu-dresden.de/web/Semantic_Computing_(WS_2018/2019)_(WS2018)/en)\n",
    "- [TensorFlow tutorial: Classify text with BERT](https://www.tensorflow.org/tutorials/text/classify_text_with_bert?hl=en)\n"
   ]
  }
 ],
 "metadata": {
  "kernelspec": {
   "display_name": "Python 3",
   "language": "python",
   "name": "python3"
  },
  "language_info": {
   "codemirror_mode": {
    "name": "ipython",
    "version": 3
   },
   "file_extension": ".py",
   "mimetype": "text/x-python",
   "name": "python",
   "nbconvert_exporter": "python",
   "pygments_lexer": "ipython3",
   "version": "3.7.7"
  }
 },
 "nbformat": 4,
 "nbformat_minor": 4
}
