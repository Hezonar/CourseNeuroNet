{
 "cells": [
  {
   "cell_type": "markdown",
   "metadata": {},
   "source": [
    "# Автоматическая обработка текста искуственными нейронными сетями"
   ]
  },
  {
   "cell_type": "markdown",
   "metadata": {},
   "source": [
    "## Задачи\n",
    "\n",
    "Приведем примеры стандартных задач автоматической обработки текста. Для удобства разделим их на 3 категории по \"сложности\". Конечно, существуют и другие классификации.\n",
    "\n",
    "1. Задачи, связанные с лингвистикой. \n",
    "    - частеречная разметка (part of speach tagging); разметить в тексте части речи\n",
    "    - морфологическая сегментация (morphological segmentation); разбить слова на морфемы.\n",
    "    - стемминг (stemming); выделение основы слова.\n",
    "    - лемматизация (lemmatization); поставить слова в словарную форму.\n",
    "    - выделение границ предложения (sentence boundary disambligation) и пословная сегментация (word segmentation);\n",
    "    - распознавание именнованных сущностей (named entity recognition); найти в тексте имена, названия городов, стран, компаний и пр.\n",
    "    - разрешение смысла слов (word sense disambligation); выбрать значение слова среди омонимов.\n",
    "    - синтаксический парсинг (syntactic parsing); построить синаксическое дерево.\n",
    "    - разрешением кореференций (coreferece resolution); определить, к каким объектам или словам относится данное слово.\n",
    "\n",
    "\n",
    "2. Задачи, требующие некоторого понимания текста.\n",
    "    - языковые модели (language models); по отрывку текста предсказать следующее слово, важно для распознавания речи.\n",
    "    - информационный поиск (informational retrieval); найти наиболее релевантный текст по заданному запросу.\n",
    "    - анализ тональности (sentiment analysis); определить по тексту его тональность.\n",
    "    - выделение отношений или фактов (relationship extraction, fact extraction); выделить из текста хорошо определенные отношения или факты.\n",
    "    - ответы на вопросы (question answering); дать ответ на заданный вопрос: классификация или порождения небольшого текста.\n",
    "\n",
    "\n",
    "3. Задачи порождения текста.\n",
    "    - порождение текста (text generation).\n",
    "    - автоматическое реферирование (automatic summarization); написать краткое содержание текста, summary.\n",
    "    - машинный перевод (machine translation).\n",
    "    - диалоговые модели (dialog and conversational models)."
   ]
  },
  {
   "cell_type": "markdown",
   "metadata": {},
   "source": [
    "## Метрики оценки качества текста\n",
    "\n",
    "Как оценить правильность порожденного текста?\n",
    "\n",
    "- BLEU (Bilingual Evaluation Understudy)\n",
    "- TER (Translation Edit Rate)\n",
    "- ROUGE\n",
    "- LEPOR\n",
    "- METEOR"
   ]
  },
  {
   "cell_type": "markdown",
   "metadata": {},
   "source": [
    "## Простой пример: Bag of words"
   ]
  },
  {
   "cell_type": "code",
   "execution_count": 1,
   "metadata": {},
   "outputs": [],
   "source": [
    "import numpy\n",
    "from tensorflow.keras.datasets import imdb\n",
    "from tensorflow.keras.models import Sequential\n",
    "from tensorflow.keras.layers import Dense, Dropout\n",
    "\n",
    "from tensorflow.keras.preprocessing import sequence"
   ]
  },
  {
   "cell_type": "code",
   "execution_count": 2,
   "metadata": {},
   "outputs": [
    {
     "name": "stderr",
     "output_type": "stream",
     "text": [
      "<__array_function__ internals>:5: VisibleDeprecationWarning: Creating an ndarray from ragged nested sequences (which is a list-or-tuple of lists-or-tuples-or ndarrays with different lengths or shapes) is deprecated. If you meant to do this, you must specify 'dtype=object' when creating the ndarray\n",
      "D:\\Users\\maxim\\Anaconda3\\envs\\deep_learning\\lib\\site-packages\\tensorflow\\python\\keras\\datasets\\imdb.py:159: VisibleDeprecationWarning: Creating an ndarray from ragged nested sequences (which is a list-or-tuple of lists-or-tuples-or ndarrays with different lengths or shapes) is deprecated. If you meant to do this, you must specify 'dtype=object' when creating the ndarray\n",
      "  x_train, y_train = np.array(xs[:idx]), np.array(labels[:idx])\n",
      "D:\\Users\\maxim\\Anaconda3\\envs\\deep_learning\\lib\\site-packages\\tensorflow\\python\\keras\\datasets\\imdb.py:160: VisibleDeprecationWarning: Creating an ndarray from ragged nested sequences (which is a list-or-tuple of lists-or-tuples-or ndarrays with different lengths or shapes) is deprecated. If you meant to do this, you must specify 'dtype=object' when creating the ndarray\n",
      "  x_test, y_test = np.array(xs[idx:]), np.array(labels[idx:])\n"
     ]
    }
   ],
   "source": [
    "top_words = 5000\n",
    "max_review_length = 500\n",
    "(X_train, y_train), (X_test, y_test) = imdb.load_data(num_words=top_words)"
   ]
  },
  {
   "cell_type": "code",
   "execution_count": 3,
   "metadata": {},
   "outputs": [
    {
     "data": {
      "text/plain": [
       "(25000,)"
      ]
     },
     "execution_count": 3,
     "metadata": {},
     "output_type": "execute_result"
    }
   ],
   "source": [
    "X_train.shape"
   ]
  },
  {
   "cell_type": "code",
   "execution_count": 4,
   "metadata": {},
   "outputs": [],
   "source": [
    "def get_words(sentences, words=[]):\n",
    "    for sentence in sentences:\n",
    "        words.extend(sentence)\n",
    "        words = sorted(list(set(words)))\n",
    "    return words"
   ]
  },
  {
   "cell_type": "code",
   "execution_count": 5,
   "metadata": {},
   "outputs": [
    {
     "name": "stdout",
     "output_type": "stream",
     "text": [
      "4998\n"
     ]
    }
   ],
   "source": [
    "words = get_words(X_train)\n",
    "words = get_words(X_test, words)\n",
    "print(len(words))"
   ]
  },
  {
   "cell_type": "code",
   "execution_count": 6,
   "metadata": {},
   "outputs": [
    {
     "name": "stdout",
     "output_type": "stream",
     "text": [
      "the thought solid thought and do making to is spot nomination and while he of jack in where picked as getting on was did hands fact characters to always life thrillers not as me can't in at are br of sure your way of little it strongly random to view of love it so and of guy it used producer of where it of here icon film of outside to don't all unique some like of direction it if out her imagination below keep of queen he and to makes this stretch and of solid it thought begins br and and budget worthwhile though ok and and for ever better were and and for budget look kicked any to of making it out and follows for effects show to show cast this family us scenes more it severe making and to and finds tv tend to of and these thing wants but and an and cult as it is video do you david see scenery it in few those are of ship for with of wild to one is very work dark they don't do dvd with those them\n",
      "negative\n"
     ]
    }
   ],
   "source": [
    "word_index = imdb.get_word_index() # get {word : index}\n",
    "index_word = {v : k for k,v in word_index.items()} # get {index : word}\n",
    "index_word.update({0 : \"\"})\n",
    "\n",
    "index = 1\n",
    "print(\" \".join([index_word[idx] for idx in X_train[index]]))\n",
    "print(\"positive\" if y_train[index]==1 else \"negative\")"
   ]
  },
  {
   "cell_type": "code",
   "execution_count": 9,
   "metadata": {},
   "outputs": [
    {
     "name": "stdout",
     "output_type": "stream",
     "text": [
      "rocks : rock\n",
      "corpora : corpus\n",
      "better : better\n"
     ]
    }
   ],
   "source": [
    "from nltk.stem import WordNetLemmatizer\n",
    "\n",
    "# import these modules\n",
    "lemmatizer = WordNetLemmatizer()\n",
    "  \n",
    "print(\"rocks :\", lemmatizer.lemmatize(\"rocks\"))\n",
    "print(\"corpora :\", lemmatizer.lemmatize(\"corpora\"))\n",
    "  \n",
    "# a denotes adjective in \"pos\"\n",
    "print(\"better :\", lemmatizer.lemmatize(\"better\"))"
   ]
  },
  {
   "cell_type": "code",
   "execution_count": 10,
   "metadata": {},
   "outputs": [],
   "source": [
    "from nltk.stem import WordNetLemmatizer\n",
    "\n",
    "\n",
    "def get_words_lem(sentences, words=[]):\n",
    "    lemmatizer = WordNetLemmatizer()\n",
    "    \n",
    "    for sentence in sentences:\n",
    "        lemmatized_sentence = []\n",
    "        for word in sentence:\n",
    "            lemma = lemmatizer.lemmatize(index_word[word])\n",
    "            lemmatized_sentence.append(lemma)\n",
    "        words.extend(lemmatized_sentence)\n",
    "        words = sorted(list(set(words)))\n",
    "    return words"
   ]
  },
  {
   "cell_type": "code",
   "execution_count": 12,
   "metadata": {},
   "outputs": [
    {
     "name": "stdout",
     "output_type": "stream",
     "text": [
      "4458\n"
     ]
    }
   ],
   "source": [
    "words = get_words_lem(X_train)\n",
    "words = get_words_lem(X_test, words)\n",
    "print(len(words))"
   ]
  },
  {
   "cell_type": "code",
   "execution_count": null,
   "metadata": {},
   "outputs": [],
   "source": [
    "print(X_train[0][:20])"
   ]
  },
  {
   "cell_type": "code",
   "execution_count": 13,
   "metadata": {},
   "outputs": [],
   "source": [
    "def lemmatized_bow(sentences, words):\n",
    "    bow = numpy.zeros((len(sentences), len(words)))\n",
    "    for i in range(len(sentences)):\n",
    "        for word in sentences[i]:\n",
    "            lemma = lemmatizer.lemmatize(index_word[word])\n",
    "            idx = words.index(lemma)\n",
    "            bow[i][idx] += 1\n",
    "    return bow"
   ]
  },
  {
   "cell_type": "code",
   "execution_count": 17,
   "metadata": {},
   "outputs": [],
   "source": [
    "X_train_bow = lemmatized_bow(X_train, words)\n",
    "X_test_bow = lemmatized_bow(X_test, words)"
   ]
  },
  {
   "cell_type": "code",
   "execution_count": 18,
   "metadata": {},
   "outputs": [
    {
     "data": {
      "text/plain": [
       "(25000, 4458)"
      ]
     },
     "execution_count": 18,
     "metadata": {},
     "output_type": "execute_result"
    }
   ],
   "source": [
    "X_train_bow.shape"
   ]
  },
  {
   "cell_type": "markdown",
   "metadata": {},
   "source": [
    "#### Модель"
   ]
  },
  {
   "cell_type": "code",
   "execution_count": 31,
   "metadata": {},
   "outputs": [
    {
     "name": "stdout",
     "output_type": "stream",
     "text": [
      "Epoch 1/5\n",
      "196/196 [==============================] - 1s 2ms/step - loss: 0.4701 - accuracy: 0.7787\n",
      "Epoch 2/5\n",
      "196/196 [==============================] - 0s 2ms/step - loss: 0.2124 - accuracy: 0.9211\n",
      "Epoch 3/5\n",
      "196/196 [==============================] - 0s 2ms/step - loss: 0.1282 - accuracy: 0.9517\n",
      "Epoch 4/5\n",
      "196/196 [==============================] - 0s 2ms/step - loss: 0.0559 - accuracy: 0.9825\n",
      "Epoch 5/5\n",
      "196/196 [==============================] - 0s 2ms/step - loss: 0.0175 - accuracy: 0.9954\n"
     ]
    }
   ],
   "source": [
    "model = Sequential([\n",
    "    Dense(128, input_shape=(len(words),), activation='relu'),\n",
    "    Dropout(0.5),\n",
    "    Dense(64, activation='relu'),\n",
    "    Dense(1, activation='sigmoid')\n",
    "])\n",
    "model.compile(optimizer='adam',\n",
    "              loss='binary_crossentropy',\n",
    "              metrics=['accuracy'])\n",
    "history = model.fit(\n",
    "    X_train_bow, \n",
    "    y_train, \n",
    "    epochs=5, \n",
    "    batch_size=128, \n",
    ")"
   ]
  },
  {
   "cell_type": "code",
   "execution_count": 32,
   "metadata": {},
   "outputs": [
    {
     "name": "stdout",
     "output_type": "stream",
     "text": [
      "782/782 - 1s - loss: 0.6100 - accuracy: 0.8622\n",
      "\n",
      "Точность на проверочных данных: 0.8622400164604187\n"
     ]
    }
   ],
   "source": [
    "test_loss, test_acc = model.evaluate(X_test_bow, y_test, verbose=2)\n",
    "print('\\nТочность на проверочных данных:', test_acc)"
   ]
  },
  {
   "cell_type": "markdown",
   "metadata": {},
   "source": [
    "## Gensim: триграммы, word2vec"
   ]
  },
  {
   "cell_type": "code",
   "execution_count": 21,
   "metadata": {},
   "outputs": [
    {
     "name": "stderr",
     "output_type": "stream",
     "text": [
      "D:\\Users\\maxim\\Anaconda3\\envs\\deep_learning\\lib\\site-packages\\gensim\\utils.py:1268: UserWarning: detected Windows; aliasing chunkize to chunkize_serial\n",
      "  warnings.warn(\"detected %s; aliasing chunkize to chunkize_serial\" % entity)\n"
     ]
    },
    {
     "name": "stdout",
     "output_type": "stream",
     "text": [
      "['литва', 'официальное', 'название', 'лито', 'вская', 'респу', 'блика', 'государство', 'расположенное', 'северной', 'части', 'европы', 'площадь', 'км²', 'протяжённость', 'севера', 'на', 'юг', 'км', 'запада']\n"
     ]
    }
   ],
   "source": [
    "from gensim.corpora.wikicorpus import WikiCorpus\n",
    "wiki = WikiCorpus('ruwiki-20201220-pages-articles-multistream1.xml-p1p224167.bz2', dictionary=False)\n",
    "\n",
    "el = wiki.get_texts().__next__() # Получить первый элемент генератора\n",
    "print(el[:20])"
   ]
  },
  {
   "cell_type": "code",
   "execution_count": 22,
   "metadata": {},
   "outputs": [],
   "source": [
    "from gensim.models.phrases import Phrases, Phraser\n",
    "bigram = Phrases(wiki.get_texts())\n",
    "bigram_transformer = Phraser(bigram)"
   ]
  },
  {
   "cell_type": "code",
   "execution_count": 25,
   "metadata": {},
   "outputs": [],
   "source": [
    "def text_generator_bigram():\n",
    "    for text in wiki.get_texts():\n",
    "        yield bigram_transformer[ [ word for word in text] ]"
   ]
  },
  {
   "cell_type": "code",
   "execution_count": 28,
   "metadata": {},
   "outputs": [
    {
     "name": "stdout",
     "output_type": "stream",
     "text": [
      "['литва', 'официальное_название', 'лито_вская', 'респу_блика', 'государство_расположенное', 'северной_части', 'европы', 'площадь_км²', 'протяжённость_севера', 'на_юг', 'км_запада', 'на_восток', 'км', 'население_составляет', 'человек', 'сентябрь', 'занимает_место', 'мире', 'по_численности', 'населения']\n"
     ]
    }
   ],
   "source": [
    "examples = 1\n",
    "for el in text_generator_bigram():\n",
    "    print(el[:20])\n",
    "    examples -= 1\n",
    "    if examples <= 0:\n",
    "        break"
   ]
  },
  {
   "cell_type": "code",
   "execution_count": 31,
   "metadata": {},
   "outputs": [],
   "source": [
    "trigram = Phrases(text_generator_bigram())\n",
    "trigram_transformer = Phraser(trigram)"
   ]
  },
  {
   "cell_type": "code",
   "execution_count": 32,
   "metadata": {},
   "outputs": [],
   "source": [
    "def text_generator_trigram():\n",
    "    for text in wiki.get_texts():\n",
    "        yield trigram_transformer[ bigram_transformer[  [word for word in text] ] ]"
   ]
  },
  {
   "cell_type": "code",
   "execution_count": null,
   "metadata": {},
   "outputs": [],
   "source": [
    "from gensim.models.word2vec import Word2Vec\n",
    "model = Word2Vec(size=100, window=7, min_count=10, workers=10)\n",
    "model.build_vocab(text_generator_trigram())"
   ]
  },
  {
   "cell_type": "code",
   "execution_count": 44,
   "metadata": {},
   "outputs": [
    {
     "data": {
      "text/plain": [
       "(38754848, 45017532)"
      ]
     },
     "execution_count": 44,
     "metadata": {},
     "output_type": "execute_result"
    }
   ],
   "source": [
    "model.train(text_generator_trigram(), total_examples=model.corpus_count, epochs=1)"
   ]
  },
  {
   "cell_type": "code",
   "execution_count": 56,
   "metadata": {},
   "outputs": [],
   "source": [
    "model.save(\"word2vec.model\")"
   ]
  },
  {
   "cell_type": "code",
   "execution_count": 48,
   "metadata": {},
   "outputs": [],
   "source": [
    "from gensim.models.word2vec import Word2Vec\n",
    "model = Word2Vec.load(\"word2vec.model\")"
   ]
  },
  {
   "cell_type": "code",
   "execution_count": 49,
   "metadata": {},
   "outputs": [
    {
     "data": {
      "text/plain": [
       "[('крематорий', 0.9801654815673828),\n",
       " ('лучшие_песни', 0.980141282081604),\n",
       " ('трибьют', 0.9800820350646973),\n",
       " ('хит', 0.9794871211051941),\n",
       " ('альбом_группы', 0.9782088398933411),\n",
       " ('калейдоскоп', 0.9775331616401672),\n",
       " ('полнометражного', 0.9769081473350525),\n",
       " ('году_был_выпущен', 0.9765214920043945),\n",
       " ('песен_группы', 0.9758527278900146),\n",
       " ('приквел', 0.9751590490341187)]"
      ]
     },
     "execution_count": 49,
     "metadata": {},
     "output_type": "execute_result"
    }
   ],
   "source": [
    "model.wv.most_similar('машина_времени')"
   ]
  },
  {
   "cell_type": "code",
   "execution_count": 13,
   "metadata": {},
   "outputs": [
    {
     "data": {
      "text/plain": [
       "[('поведенческие', 0.9747592210769653),\n",
       " ('диагностика', 0.9740830659866333),\n",
       " ('функциональные', 0.9739323854446411),\n",
       " ('структурные', 0.9730919599533081),\n",
       " ('дискретные', 0.9727703332901001),\n",
       " ('алгоритмы', 0.972390353679657),\n",
       " ('подсистемы', 0.972325325012207),\n",
       " ('оптические', 0.9720180034637451),\n",
       " ('векторные', 0.9719081521034241),\n",
       " ('семантических', 0.9718116521835327)]"
      ]
     },
     "execution_count": 13,
     "metadata": {},
     "output_type": "execute_result"
    }
   ],
   "source": [
    "model.wv.most_similar('нейронные_сети')"
   ]
  },
  {
   "cell_type": "markdown",
   "metadata": {},
   "source": [
    "### Векторная алгебра\n",
    "*король + женщина - мужчина =*"
   ]
  },
  {
   "cell_type": "code",
   "execution_count": 42,
   "metadata": {},
   "outputs": [
    {
     "data": {
      "text/plain": [
       "[('газета', 0.8673749566078186),\n",
       " ('могут_короли', 0.8527016639709473),\n",
       " ('московская_правда', 0.8360667824745178),\n",
       " ('ооо_студия', 0.8272526264190674),\n",
       " ('документальный_фильм', 0.8246611952781677),\n",
       " ('хихоне', 0.823471188545227),\n",
       " ('русская_жизнь', 0.8226134181022644),\n",
       " ('москва', 0.815395176410675),\n",
       " ('моя_семья', 0.8153678178787231),\n",
       " ('первый_канал', 0.8142729997634888)]"
      ]
     },
     "execution_count": 42,
     "metadata": {},
     "output_type": "execute_result"
    }
   ],
   "source": [
    "vector = model.wv[u'париж'] +  model.wv[u'россия'] - model.wv[u'франция']\n",
    "model.wv.similar_by_vector(vector, topn=10, restrict_vocab=None)"
   ]
  },
  {
   "cell_type": "markdown",
   "metadata": {},
   "source": [
    "## Загрузка обученной модели"
   ]
  },
  {
   "cell_type": "code",
   "execution_count": 50,
   "metadata": {},
   "outputs": [],
   "source": [
    "import gensim.downloader as api"
   ]
  },
  {
   "cell_type": "code",
   "execution_count": null,
   "metadata": {},
   "outputs": [],
   "source": [
    "import json\n",
    "info = api.info()\n",
    "# print(json.dumps(info, indent=4))"
   ]
  },
  {
   "cell_type": "code",
   "execution_count": 52,
   "metadata": {},
   "outputs": [],
   "source": [
    "model_word2vec_rus = api.load(\"word2vec-ruscorpora-300\")"
   ]
  },
  {
   "cell_type": "code",
   "execution_count": 53,
   "metadata": {},
   "outputs": [
    {
     "data": {
      "text/plain": [
       "[('пойти_VERB', 0.7285876274108887),\n",
       " ('брести_VERB', 0.5698232650756836),\n",
       " ('плестись_VERB', 0.5263214111328125),\n",
       " ('шагать_VERB', 0.5238106846809387),\n",
       " ('тащиться_VERB', 0.5215544104576111),\n",
       " ('бежать_VERB', 0.521239161491394),\n",
       " ('двигаться_VERB', 0.5206477642059326),\n",
       " ('шествовать_VERB', 0.5173883438110352),\n",
       " ('двинуться_VERB', 0.5140303373336792),\n",
       " ('ехать_VERB', 0.5131384134292603)]"
      ]
     },
     "execution_count": 53,
     "metadata": {},
     "output_type": "execute_result"
    }
   ],
   "source": [
    "model_word2vec_rus.most_similar(u'идти_VERB')"
   ]
  },
  {
   "cell_type": "markdown",
   "metadata": {},
   "source": [
    "### Векторная алгебра\n",
    "*король + женщина - мужчина =*"
   ]
  },
  {
   "cell_type": "code",
   "execution_count": 29,
   "metadata": {},
   "outputs": [
    {
     "data": {
      "text/plain": [
       "[('париж_NOUN', 0.714914083480835),\n",
       " ('москва_NOUN', 0.6828794479370117),\n",
       " ('франция_NOUN', 0.6285260319709778),\n",
       " ('берлин_NOUN', 0.5847430229187012),\n",
       " ('лондон_NOUN', 0.583754301071167),\n",
       " ('италия_NOUN', 0.5666607618331909),\n",
       " ('кольмар_NOUN', 0.5666133165359497),\n",
       " ('лион_NOUN', 0.5562111139297485),\n",
       " ('флоренция_NOUN', 0.5482500791549683),\n",
       " ('симплона_NOUN', 0.5437489748001099)]"
      ]
     },
     "execution_count": 29,
     "metadata": {},
     "output_type": "execute_result"
    }
   ],
   "source": [
    "vector = model_word2vec_rus[u'москва_NOUN'] +  model_word2vec_rus[u'франция_NOUN'] - model_word2vec_rus[u'россия_NOUN']\n",
    "model_word2vec_rus.similar_by_vector(vector, topn=10, restrict_vocab=None)"
   ]
  },
  {
   "cell_type": "code",
   "execution_count": 30,
   "metadata": {},
   "outputs": [
    {
     "data": {
      "text/plain": [
       "[('король_NOUN', 0.880538821220398),\n",
       " ('королева_NOUN', 0.7313904166221619),\n",
       " ('герцог_NOUN', 0.6502389311790466),\n",
       " ('принцесса_NOUN', 0.6266285181045532),\n",
       " ('герцогиня_NOUN', 0.6240381002426147),\n",
       " ('королевство_NOUN', 0.6094207167625427),\n",
       " ('зюдерманландский_ADJ', 0.6084389686584473),\n",
       " ('дурлахский_ADJ', 0.6081665754318237),\n",
       " ('ульрик::элеонора_NOUN', 0.6073107123374939),\n",
       " ('максимилианов_NOUN', 0.6057004332542419)]"
      ]
     },
     "execution_count": 30,
     "metadata": {},
     "output_type": "execute_result"
    }
   ],
   "source": [
    "vector = model_word2vec_rus[u'король_NOUN'] +  model_word2vec_rus[u'женщина_NOUN'] - model_word2vec_rus[u'мужчина_NOUN']\n",
    "model_word2vec_rus.similar_by_vector(vector, topn=10, restrict_vocab=None)"
   ]
  },
  {
   "cell_type": "markdown",
   "metadata": {},
   "source": [
    "## Пример: распознавание спама\n",
    "\n",
    "Первым делом нужно загрузить датасет. Воспользуемся [следующей задачей с Kaggle](https://www.kaggle.com/team-ai/spam-text-message-classification). Поместите файл \"SPAM text message 20170820 - Data.csv\" в папку с ноутбуком."
   ]
  },
  {
   "cell_type": "markdown",
   "metadata": {},
   "source": [
    "## Пример обработки текста с помощью GRU"
   ]
  },
  {
   "cell_type": "markdown",
   "metadata": {},
   "source": [
    "### Предоработка данных"
   ]
  },
  {
   "cell_type": "code",
   "execution_count": 3,
   "metadata": {},
   "outputs": [],
   "source": [
    "import pandas as pd\n",
    "import numpy as np\n",
    "import matplotlib.pyplot as plt\n",
    "\n",
    "\n",
    "from tensorflow.keras.layers import Embedding, Dense, GRU\n",
    "from tensorflow.keras.models import Sequential\n",
    "\n",
    "from tensorflow.keras.preprocessing.text import Tokenizer\n",
    "from tensorflow.keras.preprocessing.sequence import pad_sequences"
   ]
  },
  {
   "cell_type": "code",
   "execution_count": 4,
   "metadata": {},
   "outputs": [
    {
     "name": "stdout",
     "output_type": "stream",
     "text": [
      "number of texts : 5572\n",
      "number of labels:  5572\n"
     ]
    }
   ],
   "source": [
    "data = pd.read_csv(\"SPAM text message 20170820 - Data.csv\")\n",
    "texts = []\n",
    "labels = []\n",
    "for i, label in enumerate(data['Category']):\n",
    "    texts.append(data['Message'][i])\n",
    "    if label == 'ham':\n",
    "        labels.append(0)\n",
    "    else:\n",
    "        labels.append(1)\n",
    "\n",
    "texts = np.asarray(texts)\n",
    "labels = np.asarray(labels)\n",
    "\n",
    "\n",
    "print(\"number of texts :\" , len(texts))\n",
    "print(\"number of labels: \", len(labels))"
   ]
  },
  {
   "cell_type": "code",
   "execution_count": 5,
   "metadata": {},
   "outputs": [
    {
     "name": "stdout",
     "output_type": "stream",
     "text": [
      "True\n",
      "The number of training 4457, validation 1115 \n",
      "Found 9004 unique words: \n",
      "data shape:  (5572, 500)\n"
     ]
    }
   ],
   "source": [
    "# number of words used as features\n",
    "max_features = 10000\n",
    "# cut off the words after seeing 500 words in each document(email)\n",
    "maxlen = 500\n",
    "\n",
    "# we will use 80% of data as training, 20% as validation data\n",
    "training_samples = int(len(texts) * 0.8)\n",
    "validation_samples = len(texts) - training_samples\n",
    "# sanity check\n",
    "print(len(texts) == (training_samples + validation_samples))\n",
    "print(\"The number of training {0}, validation {1} \".format(training_samples, validation_samples))"
   ]
  },
  {
   "cell_type": "code",
   "execution_count": null,
   "metadata": {},
   "outputs": [],
   "source": [
    "tokenizer = Tokenizer()\n",
    "tokenizer.fit_on_texts(texts)\n",
    "sequences = tokenizer.texts_to_sequences(texts)\n",
    "\n",
    "word_index = tokenizer.word_index\n",
    "print(\"Found {0} unique words: \".format(len(word_index)))\n",
    "\n",
    "data = pad_sequences(sequences, maxlen=maxlen)\n",
    "\n",
    "print(\"data shape: \", data.shape)"
   ]
  },
  {
   "cell_type": "code",
   "execution_count": null,
   "metadata": {},
   "outputs": [],
   "source": [
    "# shuffle data\n",
    "indices = np.arange(data.shape[0])\n",
    "np.random.shuffle(indices)\n",
    "data = data[indices]\n",
    "labels = labels[indices]\n",
    "\n",
    "texts_train = data[:training_samples]\n",
    "y_train = labels[:training_samples]\n",
    "texts_test = data[training_samples:]\n",
    "y_test = labels[training_samples:]"
   ]
  },
  {
   "cell_type": "markdown",
   "metadata": {},
   "source": [
    "### Обучение модели и вывод результатов"
   ]
  },
  {
   "cell_type": "code",
   "execution_count": 6,
   "metadata": {},
   "outputs": [],
   "source": [
    "model = Sequential()\n",
    "model.add(Embedding(max_features, 32))\n",
    "#model.add(GRU(32,return_sequences=True))\n",
    "model.add(GRU(32))\n",
    "model.add(Dense(1, activation='sigmoid'))\n",
    "model.compile(optimizer='adam', loss='binary_crossentropy', metrics=['acc'])"
   ]
  },
  {
   "cell_type": "code",
   "execution_count": 7,
   "metadata": {},
   "outputs": [
    {
     "name": "stdout",
     "output_type": "stream",
     "text": [
      "Epoch 1/10\n",
      "60/60 [==============================] - 12s 34ms/step - loss: 0.4584 - acc: 0.8328 - val_loss: 0.1541 - val_acc: 0.9720\n",
      "Epoch 2/10\n",
      "60/60 [==============================] - 2s 28ms/step - loss: 0.1014 - acc: 0.9755 - val_loss: 0.0663 - val_acc: 0.9809\n",
      "Epoch 3/10\n",
      "60/60 [==============================] - 1s 23ms/step - loss: 0.0404 - acc: 0.9913 - val_loss: 0.0418 - val_acc: 0.9843\n",
      "Epoch 4/10\n",
      "60/60 [==============================] - 1s 24ms/step - loss: 0.0261 - acc: 0.9923 - val_loss: 0.0397 - val_acc: 0.9832\n",
      "Epoch 5/10\n",
      "60/60 [==============================] - 1s 20ms/step - loss: 0.0207 - acc: 0.9954 - val_loss: 0.0448 - val_acc: 0.9832\n",
      "Epoch 6/10\n",
      "60/60 [==============================] - 1s 18ms/step - loss: 0.0078 - acc: 0.9983 - val_loss: 0.0481 - val_acc: 0.9798\n",
      "Epoch 7/10\n",
      "60/60 [==============================] - 1s 20ms/step - loss: 0.0048 - acc: 0.9991 - val_loss: 0.0517 - val_acc: 0.9821\n",
      "Epoch 8/10\n",
      "60/60 [==============================] - 1s 19ms/step - loss: 0.0036 - acc: 0.9992 - val_loss: 0.0736 - val_acc: 0.9697\n",
      "Epoch 9/10\n",
      "60/60 [==============================] - 1s 24ms/step - loss: 0.0033 - acc: 0.9995 - val_loss: 0.0651 - val_acc: 0.9787\n",
      "Epoch 10/10\n",
      "60/60 [==============================] - 2s 25ms/step - loss: 0.0020 - acc: 0.9995 - val_loss: 0.0743 - val_acc: 0.9776\n"
     ]
    }
   ],
   "source": [
    "history_gru = model.fit(texts_train, y_train, epochs=10, batch_size=60, validation_split=0.2)"
   ]
  },
  {
   "cell_type": "code",
   "execution_count": null,
   "metadata": {},
   "outputs": [],
   "source": [
    "def show_loss(history):\n",
    "    loss = history.history['loss']\n",
    "    val_loss = history.history['val_loss']\n",
    "    epochs = range(1, len(loss) + 1)\n",
    "    plt.plot(epochs, loss, 'bo', label='Training loss')\n",
    "    plt.plot(epochs, val_loss, 'b', label='Validation loss')\n",
    "    plt.xlabel('Epochs')\n",
    "    plt.ylabel('Loss')\n",
    "    plt.legend(['Train', 'Test'], loc='upper left')\n",
    "\n",
    "    plt.show()\n",
    "\n",
    "    plt.plot(history.history['accuracy'])\n",
    "    plt.plot(history.history['val_accuracy'])\n",
    "    plt.title('Model accuracy')\n",
    "    plt.ylabel('Accuracy')\n",
    "    plt.xlabel('Epoch')\n",
    "    plt.legend(['Train', 'Test'], loc='upper left')\n",
    "    plt.show()"
   ]
  },
  {
   "cell_type": "code",
   "execution_count": 8,
   "metadata": {},
   "outputs": [
    {
     "data": {
      "image/png": "[encoded data removed]",
      "text/plain": [
       "<Figure size 432x288 with 1 Axes>"
      ]
     },
     "metadata": {
      "needs_background": "light"
     },
     "output_type": "display_data"
    },
    {
     "data": {
      "image/png": "[encoded data removed]",
      "text/plain": [
       "<Figure size 432x288 with 1 Axes>"
      ]
     },
     "metadata": {
      "needs_background": "light"
     },
     "output_type": "display_data"
    }
   ],
   "source": [
    "show_loss(history_gru)"
   ]
  },
  {
   "cell_type": "markdown",
   "metadata": {},
   "source": [
    "### Проверка результата"
   ]
  },
  {
   "cell_type": "code",
   "execution_count": 12,
   "metadata": {},
   "outputs": [
    {
     "name": "stdout",
     "output_type": "stream",
     "text": [
      "35/35 [==============================] - 0s 9ms/step - loss: 0.0654 - acc: 0.9812\n",
      "Test loss is 0.07 accuracy is 0.98  \n",
      "[[952  12]\n",
      " [  9 142]]\n"
     ]
    }
   ],
   "source": [
    "acc = model.evaluate(texts_test, y_test)\n",
    "\n",
    "\n",
    "from sklearn.metrics import confusion_matrix\n",
    "print(\"Test loss is {0:.2f} accuracy is {1:.2f}  \".format(acc[0],acc[1]))\n",
    "print(confusion_matrix(pred, y_test))"
   ]
  },
  {
   "cell_type": "markdown",
   "metadata": {},
   "source": [
    "### Использование"
   ]
  },
  {
   "cell_type": "code",
   "execution_count": 38,
   "metadata": {},
   "outputs": [
    {
     "name": "stdout",
     "output_type": "stream",
     "text": [
      "Wait that's still not all that clear, were you not sure about me being sarcastic or that that's why x doesn't want to live with us\n",
      "0\n"
     ]
    }
   ],
   "source": [
    "a=29\n",
    "print(texts[training_samples+a])\n",
    "pre=model.predict(texts_test)\n",
    "print(np.argmax(pre[a]))"
   ]
  },
  {
   "cell_type": "markdown",
   "metadata": {},
   "source": [
    "## LSTM"
   ]
  },
  {
   "cell_type": "code",
   "execution_count": 39,
   "metadata": {},
   "outputs": [],
   "source": [
    "import pandas as pd\n",
    "import numpy as np\n",
    "import matplotlib.pyplot as plt\n",
    "\n",
    "from tensorflow.keras.layers import Embedding, Dense, LSTM\n",
    "from tensorflow.keras.models import Sequential\n",
    "\n",
    "from tensorflow.keras.preprocessing.text import Tokenizer\n",
    "from tensorflow.keras.preprocessing.sequence import pad_sequences"
   ]
  },
  {
   "cell_type": "code",
   "execution_count": 40,
   "metadata": {},
   "outputs": [
    {
     "name": "stdout",
     "output_type": "stream",
     "text": [
      "number of texts : 5572\n",
      "number of labels:  5572\n",
      "True\n",
      "The number of training 4457, validation 1115 \n",
      "Found 9004 unique words: \n"
     ]
    }
   ],
   "source": [
    "data = pd.read_csv(\"SPAM text message 20170820 - Data.csv\")\n",
    "texts = []\n",
    "labels = []\n",
    "for i, label in enumerate(data['Category']):\n",
    "    texts.append(data['Message'][i])\n",
    "    if label == 'ham':\n",
    "        labels.append(0)\n",
    "    else:\n",
    "        labels.append(1)\n",
    "\n",
    "texts = np.asarray(texts)\n",
    "labels = np.asarray(labels)\n",
    "labels_test=labels\n",
    "print(\"number of texts :\" , len(texts))\n",
    "print(\"number of labels: \", len(labels))\n",
    "\n",
    "# number of words used as features\n",
    "max_features = 10000\n",
    "# cut off the words after seeing 500 words in each document(email)\n",
    "maxlen = 500\n",
    "\n",
    "\n",
    "# we will use 80% of data as training, 20% as validation data\n",
    "training_samples = int(5572 * .8)\n",
    "validation_samples = int(5572 - training_samples)\n",
    "# sanity check\n",
    "print(len(texts) == (training_samples + validation_samples))\n",
    "print(\"The number of training {0}, validation {1} \".format(training_samples, validation_samples))\n",
    "\n",
    "tokenizer = Tokenizer()\n",
    "tokenizer.fit_on_texts(texts)\n",
    "sequences = tokenizer.texts_to_sequences(texts)\n",
    "\n",
    "word_index = tokenizer.word_index\n",
    "print(\"Found {0} unique words: \".format(len(word_index)))\n",
    "\n",
    "data = pad_sequences(sequences, maxlen=maxlen)\n",
    "data_test=data\n",
    "\n",
    "\n",
    "np.random.seed(42)\n",
    "# shuffle data\n",
    "indices = np.arange(data.shape[0])\n",
    "np.random.shuffle(indices)\n",
    "data = data[indices]\n",
    "labels = labels[indices]\n",
    "\n",
    "#share data\n",
    "texts_train = data[:training_samples]\n",
    "y_train = labels[:training_samples]\n",
    "texts_test = data[training_samples:]\n",
    "y_test = labels[training_samples:]"
   ]
  },
  {
   "cell_type": "code",
   "execution_count": 41,
   "metadata": {},
   "outputs": [],
   "source": [
    "model = Sequential()\n",
    "model.add(Embedding(max_features, 32))\n",
    "model.add(LSTM(32,return_sequences=True))\n",
    "model.add(LSTM(32))\n",
    "model.add(Dense(1, activation='sigmoid'))\n",
    "model.compile(optimizer='adam', loss='binary_crossentropy', metrics=['acc'])"
   ]
  },
  {
   "cell_type": "code",
   "execution_count": null,
   "metadata": {},
   "outputs": [],
   "source": [
    "def show_loss(history):\n",
    "    loss = history.history['loss']\n",
    "    val_loss = history.history['val_loss']\n",
    "    epochs = range(1, len(loss) + 1)\n",
    "    plt.plot(epochs, loss, 'bo', label='Training loss')\n",
    "    plt.plot(epochs, val_loss, 'b', label='Validation loss')\n",
    "    plt.xlabel('Epochs')\n",
    "    plt.ylabel('Loss')\n",
    "    plt.legend(['Train', 'Test'], loc='upper left')\n",
    "\n",
    "    plt.show()\n",
    "\n",
    "    plt.plot(history.history['accuracy'])\n",
    "    plt.plot(history.history['val_accuracy'])\n",
    "    plt.title('Model accuracy')\n",
    "    plt.ylabel('Accuracy')\n",
    "    plt.xlabel('Epoch')\n",
    "    plt.legend(['Train', 'Test'], loc='upper left')\n",
    "    plt.show()"
   ]
  },
  {
   "cell_type": "code",
   "execution_count": 51,
   "metadata": {},
   "outputs": [
    {
     "name": "stdout",
     "output_type": "stream",
     "text": [
      "Epoch 1/30\n",
      "60/60 [==============================] - 3s 46ms/step - loss: 2.9271e-04 - acc: 1.0000 - val_loss: 0.1396 - val_acc: 0.9776\n",
      "Epoch 2/30\n",
      "60/60 [==============================] - 3s 50ms/step - loss: 2.2817e-04 - acc: 1.0000 - val_loss: 0.1522 - val_acc: 0.9787\n",
      "Epoch 3/30\n",
      "60/60 [==============================] - 2s 31ms/step - loss: 0.0521 - acc: 0.9916 - val_loss: 0.2053 - val_acc: 0.9731\n",
      "Epoch 4/30\n",
      "60/60 [==============================] - 2s 41ms/step - loss: 0.0040 - acc: 0.9994 - val_loss: 0.1735 - val_acc: 0.9765\n",
      "Epoch 5/30\n",
      "60/60 [==============================] - 2s 37ms/step - loss: 0.0025 - acc: 0.9994 - val_loss: 0.1553 - val_acc: 0.9720\n",
      "Epoch 6/30\n",
      "60/60 [==============================] - 2s 34ms/step - loss: 5.1370e-05 - acc: 1.0000 - val_loss: 0.1687 - val_acc: 0.9720\n",
      "Epoch 7/30\n",
      "60/60 [==============================] - 3s 45ms/step - loss: 5.0842e-05 - acc: 1.0000 - val_loss: 0.1679 - val_acc: 0.9753\n",
      "Epoch 8/30\n",
      "60/60 [==============================] - 3s 47ms/step - loss: 1.3884e-04 - acc: 1.0000 - val_loss: 0.1909 - val_acc: 0.9742\n",
      "Epoch 9/30\n",
      "60/60 [==============================] - 3s 44ms/step - loss: 2.5297e-05 - acc: 1.0000 - val_loss: 0.1978 - val_acc: 0.9765\n",
      "Epoch 10/30\n",
      "60/60 [==============================] - 2s 40ms/step - loss: 9.8532e-04 - acc: 0.9994 - val_loss: 0.2493 - val_acc: 0.9664\n",
      "Epoch 11/30\n",
      "60/60 [==============================] - 2s 38ms/step - loss: 1.4123e-05 - acc: 1.0000 - val_loss: 0.2341 - val_acc: 0.9664\n",
      "Epoch 12/30\n",
      "60/60 [==============================] - 3s 47ms/step - loss: 9.2085e-06 - acc: 1.0000 - val_loss: 0.2433 - val_acc: 0.9697\n",
      "Epoch 13/30\n",
      "60/60 [==============================] - 2s 36ms/step - loss: 7.3422e-06 - acc: 1.0000 - val_loss: 0.2606 - val_acc: 0.9765\n",
      "Epoch 14/30\n",
      "60/60 [==============================] - 3s 46ms/step - loss: 3.0318e-05 - acc: 1.0000 - val_loss: 0.2399 - val_acc: 0.9697\n",
      "Epoch 15/30\n",
      "60/60 [==============================] - 2s 29ms/step - loss: 4.3686e-06 - acc: 1.0000 - val_loss: 0.3300 - val_acc: 0.9596\n",
      "Epoch 16/30\n",
      "60/60 [==============================] - 2s 40ms/step - loss: 6.7821e-06 - acc: 1.0000 - val_loss: 0.2828 - val_acc: 0.9664\n",
      "Epoch 17/30\n",
      "60/60 [==============================] - 3s 43ms/step - loss: 9.4159e-07 - acc: 1.0000 - val_loss: 0.3336 - val_acc: 0.9608\n",
      "Epoch 18/30\n",
      "60/60 [==============================] - 2s 39ms/step - loss: 2.8722e-06 - acc: 1.0000 - val_loss: 0.3037 - val_acc: 0.9675\n",
      "Epoch 19/30\n",
      "60/60 [==============================] - 2s 37ms/step - loss: 9.4771e-07 - acc: 1.0000 - val_loss: 0.3366 - val_acc: 0.9641\n",
      "Epoch 20/30\n",
      "60/60 [==============================] - 2s 41ms/step - loss: 1.3926e-06 - acc: 1.0000 - val_loss: 0.2811 - val_acc: 0.9709\n",
      "Epoch 21/30\n",
      "60/60 [==============================] - 3s 43ms/step - loss: 1.4686e-06 - acc: 1.0000 - val_loss: 0.2856 - val_acc: 0.9720\n",
      "Epoch 22/30\n",
      "60/60 [==============================] - 2s 37ms/step - loss: 6.1594e-07 - acc: 1.0000 - val_loss: 0.3681 - val_acc: 0.9652\n",
      "Epoch 23/30\n",
      "60/60 [==============================] - 2s 40ms/step - loss: 7.0518e-07 - acc: 1.0000 - val_loss: 0.3379 - val_acc: 0.9675\n",
      "Epoch 24/30\n",
      "60/60 [==============================] - 3s 43ms/step - loss: 5.5718e-07 - acc: 1.0000 - val_loss: 0.3759 - val_acc: 0.9664\n",
      "Epoch 25/30\n",
      "60/60 [==============================] - 3s 43ms/step - loss: 4.4280e-06 - acc: 1.0000 - val_loss: 0.3695 - val_acc: 0.9630\n",
      "Epoch 26/30\n",
      "60/60 [==============================] - 3s 47ms/step - loss: 1.3683e-07 - acc: 1.0000 - val_loss: 0.3793 - val_acc: 0.9652\n",
      "Epoch 27/30\n",
      "60/60 [==============================] - 2s 35ms/step - loss: 8.3312e-08 - acc: 1.0000 - val_loss: 0.3775 - val_acc: 0.9664\n",
      "Epoch 28/30\n",
      "60/60 [==============================] - 2s 28ms/step - loss: 2.6565e-07 - acc: 1.0000 - val_loss: 0.4233 - val_acc: 0.9619\n",
      "Epoch 29/30\n",
      "60/60 [==============================] - 3s 45ms/step - loss: 7.1777e-08 - acc: 1.0000 - val_loss: 0.3188 - val_acc: 0.9697\n",
      "Epoch 30/30\n",
      "60/60 [==============================] - 3s 44ms/step - loss: 5.2958e-08 - acc: 1.0000 - val_loss: 0.4008 - val_acc: 0.9641\n"
     ]
    },
    {
     "data": {
      "image/png": "[encoded data removed]",
      "text/plain": [
       "<Figure size 432x288 with 1 Axes>"
      ]
     },
     "metadata": {
      "needs_background": "light"
     },
     "output_type": "display_data"
    },
    {
     "data": {
      "image/png": "[encoded data removed]",
      "text/plain": [
       "<Figure size 432x288 with 1 Axes>"
      ]
     },
     "metadata": {
      "needs_background": "light"
     },
     "output_type": "display_data"
    }
   ],
   "source": [
    "history_ltsm = model.fit(texts_train, y_train, epochs=30, batch_size=60, validation_split=0.2)\n",
    "\n",
    "show_loss(history_ltsm)"
   ]
  },
  {
   "cell_type": "code",
   "execution_count": 52,
   "metadata": {},
   "outputs": [
    {
     "name": "stdout",
     "output_type": "stream",
     "text": [
      "35/35 [==============================] - 0s 12ms/step - loss: 0.3776 - acc: 0.9668\n",
      "Test loss is 0.38 accuracy is 0.97  \n",
      "[[952  12]\n",
      " [  9 142]]\n"
     ]
    }
   ],
   "source": [
    "acc = model.evaluate(texts_test, y_test)\n",
    "\n",
    "from sklearn.metrics import confusion_matrix\n",
    "print(\"Test loss is {0:.2f} accuracy is {1:.2f}  \".format(acc[0],acc[1]))\n",
    "print(confusion_matrix(pred, y_test))"
   ]
  },
  {
   "cell_type": "markdown",
   "metadata": {},
   "source": [
    "### Использование"
   ]
  },
  {
   "cell_type": "code",
   "execution_count": 59,
   "metadata": {},
   "outputs": [],
   "source": [
    "pre=model.predict(texts_test)"
   ]
  },
  {
   "cell_type": "code",
   "execution_count": 70,
   "metadata": {},
   "outputs": [
    {
     "name": "stdout",
     "output_type": "stream",
     "text": [
      "10 15 27 61 79 87 97 101 107 113 133 138 148 184 185 203 227 230 237 245 255 257 270 287 293 308 338 361 364 370 371 380 416 420 428 430 465 466 467 482 491 518 530 532 538 546 558 561 581 600 606 614 620 630 647 656 660 673 676 680 718 724 729 769 774 791 800 805 813 818 830 831 840 856 864 865 891 901 904 907 912 928 938 939 940 952 954 963 968 969 970 971 991 1001 1025 1031 1043 1058 1062 1074 1079 1080 1089 1109 "
     ]
    }
   ],
   "source": [
    "i = 0\n",
    "for el in pre:\n",
    "    if el == 1:\n",
    "        print(i, end=' ')\n",
    "    i+=1"
   ]
  },
  {
   "cell_type": "code",
   "execution_count": 75,
   "metadata": {},
   "outputs": [
    {
     "name": "stdout",
     "output_type": "stream",
     "text": [
      "What to think no one saying clearly. Ok leave no need to ask her. I will go if she come or not\n",
      "Predicted: 0 True: 0\n"
     ]
    }
   ],
   "source": [
    "a=64\n",
    "print (texts[training_samples+a])\n",
    "print(\"Predicted:\", np.argmax(pre[a]), \"True:\", y_test[a])"
   ]
  },
  {
   "cell_type": "markdown",
   "metadata": {},
   "source": [
    "# Встраивание GloVe в keras.layers.Embedding\n",
    "\n",
    "Вы можете использовать обученную модель GloVe в модели keras, встроив её в Embedding. \n",
    "https://keras.io/examples/nlp/pretrained_word_embeddings/"
   ]
  },
  {
   "cell_type": "markdown",
   "metadata": {},
   "source": [
    "# Ссылки\n",
    "- Николенко \"Глубокое обучение\"\n",
    "- https://webdevblog.ru/gensim-rukovodstvo-dlya-nachinajushhih/\n",
    "- https://code.google.com/archive/p/word2vec/"
   ]
  }
 ],
 "metadata": {
  "kernelspec": {
   "display_name": "Python 3",
   "language": "python",
   "name": "python3"
  },
  "language_info": {
   "codemirror_mode": {
    "name": "ipython",
    "version": 3
   },
   "file_extension": ".py",
   "mimetype": "text/x-python",
   "name": "python",
   "nbconvert_exporter": "python",
   "pygments_lexer": "ipython3",
   "version": "3.7.7"
  }
 },
 "nbformat": 4,
 "nbformat_minor": 4
}
