{
 "cells": [
  {
   "cell_type": "markdown",
   "metadata": {},
   "source": [
    "# Encoder-Decoder\n",
    "\n",
    "Обучим модель переводу с американского анлийского на русский.\n",
    "\n",
    "[Воспользуемся датасетом Anki](http://www.manythings.org/anki/)"
   ]
  },
  {
   "cell_type": "code",
   "execution_count": 1,
   "metadata": {},
   "outputs": [],
   "source": [
    "import numpy as np\n",
    "import tensorflow as tf\n",
    "from tensorflow import keras"
   ]
  },
  {
   "cell_type": "code",
   "execution_count": 2,
   "metadata": {},
   "outputs": [],
   "source": [
    "batch_size = 64  # Batch size for training.\n",
    "epochs = 100  # Number of epochs to train for.\n",
    "latent_dim = 256  # Latent dimensionality of the encoding space.\n",
    "num_samples = 10000  # Number of samples to train on.\n",
    "# Path to the data txt file on disk.\n",
    "data_path = \"rus.txt\""
   ]
  },
  {
   "cell_type": "markdown",
   "metadata": {},
   "source": [
    "Подготовка данных"
   ]
  },
  {
   "cell_type": "code",
   "execution_count": 3,
   "metadata": {},
   "outputs": [
    {
     "name": "stdout",
     "output_type": "stream",
     "text": [
      "Number of samples: 10000\n",
      "Number of unique input tokens: 73\n",
      "Number of unique output tokens: 85\n",
      "Max sequence length for inputs: 14\n",
      "Max sequence length for outputs: 60\n"
     ]
    }
   ],
   "source": [
    "# Vectorize the data.\n",
    "input_texts = []\n",
    "target_texts = []\n",
    "input_characters = set()\n",
    "target_characters = set()\n",
    "with open(data_path, \"r\", encoding=\"utf-8\") as f:\n",
    "    lines = f.read().split(\"\\n\")\n",
    "for line in lines[: min(num_samples, len(lines) - 1)]:\n",
    "    input_text, target_text, _ = line.split(\"\\t\")\n",
    "    # We use \"tab\" as the \"start sequence\" character\n",
    "    # for the targets, and \"\\n\" as \"end sequence\" character.\n",
    "    target_text = \"\\t\" + target_text + \"\\n\"\n",
    "    input_texts.append(input_text)\n",
    "    target_texts.append(target_text)\n",
    "    for char in input_text:\n",
    "        if char not in input_characters:\n",
    "            input_characters.add(char)\n",
    "    for char in target_text:\n",
    "        if char not in target_characters:\n",
    "            target_characters.add(char)\n",
    "\n",
    "input_characters = sorted(list(input_characters))\n",
    "target_characters = sorted(list(target_characters))\n",
    "num_encoder_tokens = len(input_characters)\n",
    "num_decoder_tokens = len(target_characters)\n",
    "max_encoder_seq_length = max([len(txt) for txt in input_texts])\n",
    "max_decoder_seq_length = max([len(txt) for txt in target_texts])\n",
    "\n",
    "print(\"Number of samples:\", len(input_texts))\n",
    "print(\"Number of unique input tokens:\", num_encoder_tokens)\n",
    "print(\"Number of unique output tokens:\", num_decoder_tokens)\n",
    "print(\"Max sequence length for inputs:\", max_encoder_seq_length)\n",
    "print(\"Max sequence length for outputs:\", max_decoder_seq_length)\n",
    "\n",
    "input_token_index = dict([(char, i) for i, char in enumerate(input_characters)])\n",
    "target_token_index = dict([(char, i) for i, char in enumerate(target_characters)])\n",
    "\n",
    "encoder_input_data = np.zeros(\n",
    "    (len(input_texts), max_encoder_seq_length, num_encoder_tokens), dtype=\"float32\"\n",
    ")\n",
    "decoder_input_data = np.zeros(\n",
    "    (len(input_texts), max_decoder_seq_length, num_decoder_tokens), dtype=\"float32\"\n",
    ")\n",
    "decoder_target_data = np.zeros(\n",
    "    (len(input_texts), max_decoder_seq_length, num_decoder_tokens), dtype=\"float32\"\n",
    ")\n",
    "\n",
    "for i, (input_text, target_text) in enumerate(zip(input_texts, target_texts)):\n",
    "    for t, char in enumerate(input_text):\n",
    "        encoder_input_data[i, t, input_token_index[char]] = 1.0\n",
    "    encoder_input_data[i, t + 1 :, input_token_index[\" \"]] = 1.0\n",
    "    for t, char in enumerate(target_text):\n",
    "        # decoder_target_data is ahead of decoder_input_data by one timestep\n",
    "        decoder_input_data[i, t, target_token_index[char]] = 1.0\n",
    "        if t > 0:\n",
    "            # decoder_target_data will be ahead by one timestep\n",
    "            # and will not include the start character.\n",
    "            decoder_target_data[i, t - 1, target_token_index[char]] = 1.0\n",
    "    decoder_input_data[i, t + 1 :, target_token_index[\" \"]] = 1.0\n",
    "    decoder_target_data[i, t:, target_token_index[\" \"]] = 1.0"
   ]
  },
  {
   "cell_type": "code",
   "execution_count": 4,
   "metadata": {},
   "outputs": [],
   "source": [
    "# Define an input sequence and process it.\n",
    "encoder_inputs = keras.Input(shape=(None, num_encoder_tokens))\n",
    "encoder = keras.layers.LSTM(latent_dim, return_state=True)\n",
    "encoder_outputs, state_h, state_c = encoder(encoder_inputs)\n",
    "\n",
    "# We discard `encoder_outputs` and only keep the states.\n",
    "encoder_states = [state_h, state_c]\n",
    "\n",
    "# Set up the decoder, using `encoder_states` as initial state.\n",
    "decoder_inputs = keras.Input(shape=(None, num_decoder_tokens))\n",
    "\n",
    "# We set up our decoder to return full output sequences,\n",
    "# and to return internal states as well. We don't use the\n",
    "# return states in the training model, but we will use them in inference.\n",
    "decoder_lstm = keras.layers.LSTM(latent_dim, return_sequences=True, return_state=True)\n",
    "decoder_outputs, _, _ = decoder_lstm(decoder_inputs, initial_state=encoder_states)\n",
    "decoder_dense = keras.layers.Dense(num_decoder_tokens, activation=\"softmax\")\n",
    "decoder_outputs = decoder_dense(decoder_outputs)\n",
    "\n",
    "# Define the model that will turn\n",
    "# `encoder_input_data` & `decoder_input_data` into `decoder_target_data`\n",
    "model = keras.Model([encoder_inputs, decoder_inputs], decoder_outputs)"
   ]
  },
  {
   "cell_type": "code",
   "execution_count": 5,
   "metadata": {},
   "outputs": [
    {
     "name": "stdout",
     "output_type": "stream",
     "text": [
      "Epoch 1/100\n",
      "125/125 [==============================] - 10s 15ms/step - loss: 1.6629 - accuracy: 0.7461 - val_loss: 0.8896 - val_accuracy: 0.7637\n",
      "Epoch 2/100\n",
      "125/125 [==============================] - 1s 9ms/step - loss: 0.7714 - accuracy: 0.7924 - val_loss: 0.7492 - val_accuracy: 0.8016\n",
      "Epoch 3/100\n",
      "125/125 [==============================] - 1s 11ms/step - loss: 0.6553 - accuracy: 0.8277 - val_loss: 0.6527 - val_accuracy: 0.8219\n",
      "Epoch 4/100\n",
      "125/125 [==============================] - 1s 8ms/step - loss: 0.5705 - accuracy: 0.8436 - val_loss: 0.5960 - val_accuracy: 0.8315\n",
      "Epoch 5/100\n",
      "125/125 [==============================] - 1s 12ms/step - loss: 0.7568 - accuracy: 0.8243 - val_loss: 0.6657 - val_accuracy: 0.8192\n",
      "Epoch 6/100\n",
      "125/125 [==============================] - 1s 12ms/step - loss: 0.5926 - accuracy: 0.8363 - val_loss: 0.6084 - val_accuracy: 0.8296\n",
      "Epoch 7/100\n",
      "125/125 [==============================] - 2s 12ms/step - loss: 0.5471 - accuracy: 0.8457 - val_loss: 0.5861 - val_accuracy: 0.8315\n",
      "Epoch 8/100\n",
      "125/125 [==============================] - 1s 11ms/step - loss: 0.5267 - accuracy: 0.8505 - val_loss: 0.5698 - val_accuracy: 0.8373\n",
      "Epoch 9/100\n",
      "125/125 [==============================] - 2s 12ms/step - loss: 0.5096 - accuracy: 0.8544 - val_loss: 0.5560 - val_accuracy: 0.8418\n",
      "Epoch 10/100\n",
      "125/125 [==============================] - 1s 11ms/step - loss: 0.4963 - accuracy: 0.8576 - val_loss: 0.5439 - val_accuracy: 0.8442\n",
      "Epoch 11/100\n",
      "125/125 [==============================] - 1s 12ms/step - loss: 0.4826 - accuracy: 0.8603 - val_loss: 0.5318 - val_accuracy: 0.8461\n",
      "Epoch 12/100\n",
      "125/125 [==============================] - 1s 8ms/step - loss: 0.4754 - accuracy: 0.8618 - val_loss: 0.5253 - val_accuracy: 0.8466\n",
      "Epoch 13/100\n",
      "125/125 [==============================] - 1s 11ms/step - loss: 0.4645 - accuracy: 0.8644 - val_loss: 0.5148 - val_accuracy: 0.8510\n",
      "Epoch 14/100\n",
      "125/125 [==============================] - 1s 10ms/step - loss: 0.4560 - accuracy: 0.8663 - val_loss: 0.5066 - val_accuracy: 0.8531\n",
      "Epoch 15/100\n",
      "125/125 [==============================] - 2s 12ms/step - loss: 0.4472 - accuracy: 0.8691 - val_loss: 0.4978 - val_accuracy: 0.8547\n",
      "Epoch 16/100\n",
      "125/125 [==============================] - 1s 10ms/step - loss: 0.4460 - accuracy: 0.8692 - val_loss: 0.4925 - val_accuracy: 0.8556\n",
      "Epoch 17/100\n",
      "125/125 [==============================] - 2s 15ms/step - loss: 0.4346 - accuracy: 0.8728 - val_loss: 0.4879 - val_accuracy: 0.8572\n",
      "Epoch 18/100\n",
      "125/125 [==============================] - 2s 15ms/step - loss: 0.4276 - accuracy: 0.8744 - val_loss: 0.4812 - val_accuracy: 0.8592\n",
      "Epoch 19/100\n",
      "125/125 [==============================] - 1s 12ms/step - loss: 0.4208 - accuracy: 0.8765 - val_loss: 0.4768 - val_accuracy: 0.8602\n",
      "Epoch 20/100\n",
      "125/125 [==============================] - 1s 8ms/step - loss: 0.4155 - accuracy: 0.8779 - val_loss: 0.4724 - val_accuracy: 0.8627\n",
      "Epoch 21/100\n",
      "125/125 [==============================] - 1s 11ms/step - loss: 0.4093 - accuracy: 0.8807 - val_loss: 0.4649 - val_accuracy: 0.8642\n",
      "Epoch 22/100\n",
      "125/125 [==============================] - 1s 12ms/step - loss: 0.3991 - accuracy: 0.8830 - val_loss: 0.4597 - val_accuracy: 0.8660\n",
      "Epoch 23/100\n",
      "125/125 [==============================] - 2s 15ms/step - loss: 0.3916 - accuracy: 0.8857 - val_loss: 0.4651 - val_accuracy: 0.8644\n",
      "Epoch 24/100\n",
      "125/125 [==============================] - 1s 9ms/step - loss: 0.3952 - accuracy: 0.8840 - val_loss: 0.4561 - val_accuracy: 0.8675\n",
      "Epoch 25/100\n",
      "125/125 [==============================] - 1s 12ms/step - loss: 0.3818 - accuracy: 0.8884 - val_loss: 0.4487 - val_accuracy: 0.8698\n",
      "Epoch 26/100\n",
      "125/125 [==============================] - 1s 8ms/step - loss: 0.3701 - accuracy: 0.8918 - val_loss: 0.4477 - val_accuracy: 0.8710\n",
      "Epoch 27/100\n",
      "125/125 [==============================] - 1s 8ms/step - loss: 0.3719 - accuracy: 0.8913 - val_loss: 0.4421 - val_accuracy: 0.8719\n",
      "Epoch 28/100\n",
      "125/125 [==============================] - 2s 13ms/step - loss: 0.3600 - accuracy: 0.8947 - val_loss: 0.4443 - val_accuracy: 0.8727\n",
      "Epoch 29/100\n",
      "125/125 [==============================] - 1s 8ms/step - loss: 0.3575 - accuracy: 0.8959 - val_loss: 0.4364 - val_accuracy: 0.8758\n",
      "Epoch 30/100\n",
      "125/125 [==============================] - 2s 13ms/step - loss: 0.3491 - accuracy: 0.8981 - val_loss: 0.4337 - val_accuracy: 0.8757\n",
      "Epoch 31/100\n",
      "125/125 [==============================] - 2s 18ms/step - loss: 0.3444 - accuracy: 0.8993 - val_loss: 0.4352 - val_accuracy: 0.8758\n",
      "Epoch 32/100\n",
      "125/125 [==============================] - 2s 13ms/step - loss: 0.3387 - accuracy: 0.9014 - val_loss: 0.4292 - val_accuracy: 0.8778\n",
      "Epoch 33/100\n",
      "125/125 [==============================] - 1s 11ms/step - loss: 0.3321 - accuracy: 0.9027 - val_loss: 0.4233 - val_accuracy: 0.8791\n",
      "Epoch 34/100\n",
      "125/125 [==============================] - 2s 17ms/step - loss: 0.3303 - accuracy: 0.9036 - val_loss: 0.4209 - val_accuracy: 0.8799\n",
      "Epoch 35/100\n",
      "125/125 [==============================] - 2s 14ms/step - loss: 0.3198 - accuracy: 0.9067 - val_loss: 0.4195 - val_accuracy: 0.8810\n",
      "Epoch 36/100\n",
      "125/125 [==============================] - 1s 10ms/step - loss: 0.3149 - accuracy: 0.9079 - val_loss: 0.4208 - val_accuracy: 0.8795\n",
      "Epoch 37/100\n",
      "125/125 [==============================] - 2s 14ms/step - loss: 0.3096 - accuracy: 0.9096 - val_loss: 0.4152 - val_accuracy: 0.8816\n",
      "Epoch 38/100\n",
      "125/125 [==============================] - 1s 9ms/step - loss: 0.3050 - accuracy: 0.9104 - val_loss: 0.4155 - val_accuracy: 0.8821\n",
      "Epoch 39/100\n",
      "125/125 [==============================] - 2s 15ms/step - loss: 0.2981 - accuracy: 0.9126 - val_loss: 0.4150 - val_accuracy: 0.8821\n",
      "Epoch 40/100\n",
      "125/125 [==============================] - 2s 18ms/step - loss: 0.2947 - accuracy: 0.9133 - val_loss: 0.4125 - val_accuracy: 0.8831\n",
      "Epoch 41/100\n",
      "125/125 [==============================] - 3s 21ms/step - loss: 0.2854 - accuracy: 0.9162 - val_loss: 0.4087 - val_accuracy: 0.8847\n",
      "Epoch 42/100\n",
      "125/125 [==============================] - 1s 12ms/step - loss: 0.2831 - accuracy: 0.9167 - val_loss: 0.4097 - val_accuracy: 0.8845\n",
      "Epoch 43/100\n",
      "125/125 [==============================] - 2s 15ms/step - loss: 0.2778 - accuracy: 0.9186 - val_loss: 0.4105 - val_accuracy: 0.8848\n",
      "Epoch 44/100\n",
      "125/125 [==============================] - 3s 20ms/step - loss: 0.2711 - accuracy: 0.9204 - val_loss: 0.4066 - val_accuracy: 0.8848\n",
      "Epoch 45/100\n",
      "125/125 [==============================] - 2s 18ms/step - loss: 0.2677 - accuracy: 0.9214 - val_loss: 0.4031 - val_accuracy: 0.8857\n",
      "Epoch 46/100\n",
      "125/125 [==============================] - 2s 13ms/step - loss: 0.2614 - accuracy: 0.9227 - val_loss: 0.4058 - val_accuracy: 0.8859\n",
      "Epoch 47/100\n",
      "125/125 [==============================] - 2s 14ms/step - loss: 0.2542 - accuracy: 0.9247 - val_loss: 0.4054 - val_accuracy: 0.8867\n",
      "Epoch 48/100\n",
      "125/125 [==============================] - 1s 11ms/step - loss: 0.2504 - accuracy: 0.9260 - val_loss: 0.4067 - val_accuracy: 0.8871\n",
      "Epoch 49/100\n",
      "125/125 [==============================] - 1s 9ms/step - loss: 0.2432 - accuracy: 0.9281 - val_loss: 0.4039 - val_accuracy: 0.8874\n",
      "Epoch 50/100\n",
      "125/125 [==============================] - 2s 14ms/step - loss: 0.2384 - accuracy: 0.9297 - val_loss: 0.4030 - val_accuracy: 0.8882\n",
      "Epoch 51/100\n",
      "125/125 [==============================] - 1s 11ms/step - loss: 0.2367 - accuracy: 0.9303 - val_loss: 0.4010 - val_accuracy: 0.8893\n",
      "Epoch 52/100\n",
      "125/125 [==============================] - 1s 8ms/step - loss: 0.2316 - accuracy: 0.9318 - val_loss: 0.4039 - val_accuracy: 0.8885\n",
      "Epoch 53/100\n",
      "125/125 [==============================] - 1s 9ms/step - loss: 0.2269 - accuracy: 0.9332 - val_loss: 0.4043 - val_accuracy: 0.8888\n",
      "Epoch 54/100\n",
      "125/125 [==============================] - 1s 8ms/step - loss: 0.2200 - accuracy: 0.9348 - val_loss: 0.4045 - val_accuracy: 0.8890\n",
      "Epoch 55/100\n",
      "125/125 [==============================] - 1s 8ms/step - loss: 0.2169 - accuracy: 0.9355 - val_loss: 0.4037 - val_accuracy: 0.8901\n",
      "Epoch 56/100\n",
      "125/125 [==============================] - 1s 10ms/step - loss: 0.2115 - accuracy: 0.9372 - val_loss: 0.4063 - val_accuracy: 0.8899\n",
      "Epoch 57/100\n",
      "125/125 [==============================] - 1s 9ms/step - loss: 0.2053 - accuracy: 0.9391 - val_loss: 0.4049 - val_accuracy: 0.8906\n",
      "Epoch 58/100\n",
      "125/125 [==============================] - 1s 10ms/step - loss: 0.2009 - accuracy: 0.9400 - val_loss: 0.4071 - val_accuracy: 0.8904\n",
      "Epoch 59/100\n",
      "125/125 [==============================] - 1s 11ms/step - loss: 0.1969 - accuracy: 0.9416 - val_loss: 0.4048 - val_accuracy: 0.8915\n",
      "Epoch 60/100\n",
      "125/125 [==============================] - 1s 9ms/step - loss: 0.1946 - accuracy: 0.9421 - val_loss: 0.4116 - val_accuracy: 0.8906\n",
      "Epoch 61/100\n",
      "125/125 [==============================] - 1s 9ms/step - loss: 0.1885 - accuracy: 0.9439 - val_loss: 0.4120 - val_accuracy: 0.8910\n",
      "Epoch 62/100\n",
      "125/125 [==============================] - 2s 15ms/step - loss: 0.1853 - accuracy: 0.9449 - val_loss: 0.4161 - val_accuracy: 0.8907\n",
      "Epoch 63/100\n",
      "125/125 [==============================] - 1s 9ms/step - loss: 0.1800 - accuracy: 0.9467 - val_loss: 0.4148 - val_accuracy: 0.8910\n",
      "Epoch 64/100\n",
      "125/125 [==============================] - 1s 9ms/step - loss: 0.1770 - accuracy: 0.9477 - val_loss: 0.4219 - val_accuracy: 0.8894\n",
      "Epoch 65/100\n",
      "125/125 [==============================] - 1s 10ms/step - loss: 0.1739 - accuracy: 0.9484 - val_loss: 0.4232 - val_accuracy: 0.8901\n",
      "Epoch 66/100\n",
      "125/125 [==============================] - 1s 10ms/step - loss: 0.1702 - accuracy: 0.9493 - val_loss: 0.4231 - val_accuracy: 0.8911\n",
      "Epoch 67/100\n",
      "125/125 [==============================] - 1s 8ms/step - loss: 0.1644 - accuracy: 0.9507 - val_loss: 0.4241 - val_accuracy: 0.8910\n",
      "Epoch 68/100\n",
      "125/125 [==============================] - 1s 9ms/step - loss: 0.1613 - accuracy: 0.9517 - val_loss: 0.4258 - val_accuracy: 0.8917\n",
      "Epoch 69/100\n",
      "125/125 [==============================] - 1s 9ms/step - loss: 0.1580 - accuracy: 0.9530 - val_loss: 0.4297 - val_accuracy: 0.8909\n",
      "Epoch 70/100\n",
      "125/125 [==============================] - 1s 8ms/step - loss: 0.1529 - accuracy: 0.9543 - val_loss: 0.4266 - val_accuracy: 0.8920\n",
      "Epoch 71/100\n",
      "125/125 [==============================] - 1s 8ms/step - loss: 0.1484 - accuracy: 0.9553 - val_loss: 0.4402 - val_accuracy: 0.8898\n",
      "Epoch 72/100\n",
      "125/125 [==============================] - 1s 9ms/step - loss: 0.1442 - accuracy: 0.9566 - val_loss: 0.4379 - val_accuracy: 0.8920\n",
      "Epoch 73/100\n",
      "125/125 [==============================] - 1s 9ms/step - loss: 0.1433 - accuracy: 0.9572 - val_loss: 0.4393 - val_accuracy: 0.8918\n",
      "Epoch 74/100\n",
      "125/125 [==============================] - 1s 11ms/step - loss: 0.1400 - accuracy: 0.9582 - val_loss: 0.4446 - val_accuracy: 0.8916\n",
      "Epoch 75/100\n",
      "125/125 [==============================] - 1s 9ms/step - loss: 0.1370 - accuracy: 0.9588 - val_loss: 0.4440 - val_accuracy: 0.8914\n",
      "Epoch 76/100\n",
      "125/125 [==============================] - 1s 8ms/step - loss: 0.1314 - accuracy: 0.9605 - val_loss: 0.4523 - val_accuracy: 0.8913\n",
      "Epoch 77/100\n",
      "125/125 [==============================] - 1s 10ms/step - loss: 0.1304 - accuracy: 0.9609 - val_loss: 0.4530 - val_accuracy: 0.8919\n",
      "Epoch 78/100\n",
      "125/125 [==============================] - 1s 9ms/step - loss: 0.1277 - accuracy: 0.9617 - val_loss: 0.4561 - val_accuracy: 0.8912\n",
      "Epoch 79/100\n",
      "125/125 [==============================] - 1s 8ms/step - loss: 0.1237 - accuracy: 0.9628 - val_loss: 0.4580 - val_accuracy: 0.8923\n",
      "Epoch 80/100\n",
      "125/125 [==============================] - 1s 9ms/step - loss: 0.1234 - accuracy: 0.9632 - val_loss: 0.4604 - val_accuracy: 0.8916\n",
      "Epoch 81/100\n",
      "125/125 [==============================] - 1s 9ms/step - loss: 0.1176 - accuracy: 0.9647 - val_loss: 0.4633 - val_accuracy: 0.8914\n",
      "Epoch 82/100\n",
      "125/125 [==============================] - 1s 9ms/step - loss: 0.1169 - accuracy: 0.9645 - val_loss: 0.4707 - val_accuracy: 0.8906\n",
      "Epoch 83/100\n",
      "125/125 [==============================] - 1s 10ms/step - loss: 0.1126 - accuracy: 0.9658 - val_loss: 0.4766 - val_accuracy: 0.8910\n",
      "Epoch 84/100\n",
      "125/125 [==============================] - 1s 10ms/step - loss: 0.1081 - accuracy: 0.9675 - val_loss: 0.4791 - val_accuracy: 0.8909\n",
      "Epoch 85/100\n",
      "125/125 [==============================] - 1s 9ms/step - loss: 0.1081 - accuracy: 0.9674 - val_loss: 0.4803 - val_accuracy: 0.8909\n",
      "Epoch 86/100\n",
      "125/125 [==============================] - 1s 9ms/step - loss: 0.1062 - accuracy: 0.9681 - val_loss: 0.4921 - val_accuracy: 0.8908\n",
      "Epoch 87/100\n",
      "125/125 [==============================] - 1s 8ms/step - loss: 0.1021 - accuracy: 0.9689 - val_loss: 0.4867 - val_accuracy: 0.8913\n",
      "Epoch 88/100\n",
      "125/125 [==============================] - 1s 8ms/step - loss: 0.1006 - accuracy: 0.9693 - val_loss: 0.4950 - val_accuracy: 0.8906\n",
      "Epoch 89/100\n",
      "125/125 [==============================] - 1s 8ms/step - loss: 0.0960 - accuracy: 0.9709 - val_loss: 0.4939 - val_accuracy: 0.8901\n",
      "Epoch 90/100\n",
      "125/125 [==============================] - 1s 8ms/step - loss: 0.0959 - accuracy: 0.9703 - val_loss: 0.5025 - val_accuracy: 0.8905\n",
      "Epoch 91/100\n",
      "125/125 [==============================] - 1s 9ms/step - loss: 0.0930 - accuracy: 0.9717 - val_loss: 0.5019 - val_accuracy: 0.8907\n",
      "Epoch 92/100\n",
      "125/125 [==============================] - 1s 8ms/step - loss: 0.0910 - accuracy: 0.9722 - val_loss: 0.5147 - val_accuracy: 0.8901\n",
      "Epoch 93/100\n",
      "125/125 [==============================] - 1s 8ms/step - loss: 0.0896 - accuracy: 0.9724 - val_loss: 0.5117 - val_accuracy: 0.8903\n",
      "Epoch 94/100\n",
      "125/125 [==============================] - 1s 8ms/step - loss: 0.0873 - accuracy: 0.9734 - val_loss: 0.5165 - val_accuracy: 0.8908\n",
      "Epoch 95/100\n",
      "125/125 [==============================] - 1s 8ms/step - loss: 0.0832 - accuracy: 0.9746 - val_loss: 0.5166 - val_accuracy: 0.8908\n",
      "Epoch 96/100\n",
      "125/125 [==============================] - 1s 8ms/step - loss: 0.0823 - accuracy: 0.9746 - val_loss: 0.5229 - val_accuracy: 0.8903\n",
      "Epoch 97/100\n",
      "125/125 [==============================] - 1s 10ms/step - loss: 0.0794 - accuracy: 0.9755 - val_loss: 0.5263 - val_accuracy: 0.8892\n",
      "Epoch 98/100\n",
      "125/125 [==============================] - 1s 8ms/step - loss: 0.0801 - accuracy: 0.9747 - val_loss: 0.5303 - val_accuracy: 0.8903\n",
      "Epoch 99/100\n",
      "125/125 [==============================] - 1s 8ms/step - loss: 0.0761 - accuracy: 0.9764 - val_loss: 0.5313 - val_accuracy: 0.8907\n",
      "Epoch 100/100\n",
      "125/125 [==============================] - 1s 9ms/step - loss: 0.0746 - accuracy: 0.9768 - val_loss: 0.5374 - val_accuracy: 0.8895\n"
     ]
    },
    {
     "name": "stderr",
     "output_type": "stream",
     "text": [
      "WARNING:absl:Found untraced functions such as lstm_cell_layer_call_fn, lstm_cell_layer_call_and_return_conditional_losses, lstm_cell_1_layer_call_fn, lstm_cell_1_layer_call_and_return_conditional_losses, lstm_cell_layer_call_fn while saving (showing 5 of 10). These functions will not be directly callable after loading.\n",
      "WARNING:absl:Found untraced functions such as lstm_cell_layer_call_fn, lstm_cell_layer_call_and_return_conditional_losses, lstm_cell_1_layer_call_fn, lstm_cell_1_layer_call_and_return_conditional_losses, lstm_cell_layer_call_fn while saving (showing 5 of 10). These functions will not be directly callable after loading.\n"
     ]
    },
    {
     "name": "stdout",
     "output_type": "stream",
     "text": [
      "INFO:tensorflow:Assets written to: s2s/assets\n"
     ]
    },
    {
     "name": "stderr",
     "output_type": "stream",
     "text": [
      "INFO:tensorflow:Assets written to: s2s/assets\n"
     ]
    }
   ],
   "source": [
    "model.compile(\n",
    "    optimizer=\"adam\", loss=\"categorical_crossentropy\", metrics=[\"accuracy\"]\n",
    ")\n",
    "history = model.fit(\n",
    "    [encoder_input_data, decoder_input_data],\n",
    "    decoder_target_data,\n",
    "    batch_size=batch_size,\n",
    "    epochs=epochs,\n",
    "    validation_split=0.2,\n",
    ")\n",
    "# Save model\n",
    "model.save(\"s2s\")"
   ]
  },
  {
   "cell_type": "markdown",
   "metadata": {},
   "source": [
    "Использование"
   ]
  },
  {
   "cell_type": "code",
   "execution_count": 6,
   "metadata": {},
   "outputs": [],
   "source": [
    "# Define sampling models\n",
    "# Restore the model and construct the encoder and decoder.\n",
    "model = keras.models.load_model(\"s2s\")\n",
    "\n",
    "encoder_inputs = model.input[0]  # input_1\n",
    "encoder_outputs, state_h_enc, state_c_enc = model.layers[2].output  # lstm_1\n",
    "encoder_states = [state_h_enc, state_c_enc]\n",
    "encoder_model = keras.Model(encoder_inputs, encoder_states)\n",
    "\n",
    "decoder_inputs = model.input[1]  # input_2\n",
    "decoder_state_input_h = keras.Input(shape=(latent_dim,), name=\"input_3\")\n",
    "decoder_state_input_c = keras.Input(shape=(latent_dim,), name=\"input_4\")\n",
    "decoder_states_inputs = [decoder_state_input_h, decoder_state_input_c]\n",
    "decoder_lstm = model.layers[3]\n",
    "decoder_outputs, state_h_dec, state_c_dec = decoder_lstm(\n",
    "    decoder_inputs, initial_state=decoder_states_inputs\n",
    ")\n",
    "decoder_states = [state_h_dec, state_c_dec]\n",
    "decoder_dense = model.layers[4]\n",
    "decoder_outputs = decoder_dense(decoder_outputs)\n",
    "decoder_model = keras.Model(\n",
    "    [decoder_inputs] + decoder_states_inputs, [decoder_outputs] + decoder_states\n",
    ")\n",
    "\n",
    "# Reverse-lookup token index to decode sequences back to\n",
    "# something readable.\n",
    "reverse_input_char_index = dict((i, char) for char, i in input_token_index.items())\n",
    "reverse_target_char_index = dict((i, char) for char, i in target_token_index.items())\n",
    "\n",
    "\n",
    "def decode_sequence(input_seq):\n",
    "    # Encode the input as state vectors.\n",
    "    states_value = encoder_model.predict(input_seq)\n",
    "\n",
    "    # Generate empty target sequence of length 1.\n",
    "    target_seq = np.zeros((1, 1, num_decoder_tokens))\n",
    "    # Populate the first character of target sequence with the start character.\n",
    "    target_seq[0, 0, target_token_index[\"\\t\"]] = 1.0\n",
    "\n",
    "    # Sampling loop for a batch of sequences\n",
    "    # (to simplify, here we assume a batch of size 1).\n",
    "    stop_condition = False\n",
    "    decoded_sentence = \"\"\n",
    "    while not stop_condition:\n",
    "        output_tokens, h, c = decoder_model.predict([target_seq] + states_value)\n",
    "\n",
    "        # Sample a token\n",
    "        sampled_token_index = np.argmax(output_tokens[0, -1, :])\n",
    "        sampled_char = reverse_target_char_index[sampled_token_index]\n",
    "        decoded_sentence += sampled_char\n",
    "\n",
    "        # Exit condition: either hit max length\n",
    "        # or find stop character.\n",
    "        if sampled_char == \"\\n\" or len(decoded_sentence) > max_decoder_seq_length:\n",
    "            stop_condition = True\n",
    "\n",
    "        # Update the target sequence (of length 1).\n",
    "        target_seq = np.zeros((1, 1, num_decoder_tokens))\n",
    "        target_seq[0, 0, sampled_token_index] = 1.0\n",
    "\n",
    "        # Update states\n",
    "        states_value = [h, c]\n",
    "    return decoded_sentence"
   ]
  },
  {
   "cell_type": "code",
   "execution_count": 29,
   "metadata": {},
   "outputs": [
    {
     "name": "stdout",
     "output_type": "stream",
     "text": [
      "-\n",
      "Input sentence: Go.\n",
      "Decoded sentence: Иди.\n",
      "\n",
      "-\n",
      "Input sentence: Hi.\n",
      "Decoded sentence: Здоро́во!\n",
      "\n",
      "-\n",
      "Input sentence: Run.\n",
      "Decoded sentence: Беги!\n",
      "\n",
      "-\n",
      "Input sentence: Wow!\n",
      "Decoded sentence: Круто!\n",
      "\n",
      "-\n",
      "Input sentence: Fire!\n",
      "Decoded sentence: Огонь!\n",
      "\n",
      "-\n",
      "Input sentence: We loved you.\n",
      "Decoded sentence: Мы вас любим.\n",
      "\n",
      "-\n",
      "Input sentence: We might die.\n",
      "Decoded sentence: Мы солжны пойти.\n",
      "\n",
      "-\n",
      "Input sentence: We must talk.\n",
      "Decoded sentence: Мы должны бежать.\n",
      "\n",
      "-\n",
      "Input sentence: We need more.\n",
      "Decoded sentence: Ты нам нужен.\n",
      "\n",
      "-\n",
      "Input sentence: We need this.\n",
      "Decoded sentence: Она нам нужна.\n",
      "\n"
     ]
    }
   ],
   "source": [
    "for seq_index in range(0, 25, 5):\n",
    "    # Take one sequence (part of the training set)\n",
    "    # for trying out decoding.\n",
    "    input_seq = encoder_input_data[seq_index : seq_index + 1]\n",
    "    decoded_sentence = decode_sequence(input_seq)\n",
    "    print(\"-\")\n",
    "    print(\"Input sentence:\", input_texts[seq_index])\n",
    "    print(\"Decoded sentence:\", decoded_sentence)\n",
    "\n",
    "\n",
    "for seq_index in range(8600, 8625, 5):\n",
    "    # Take one sequence (part of the training set)\n",
    "    # for trying out decoding.\n",
    "    input_seq = encoder_input_data[seq_index : seq_index + 1]\n",
    "    decoded_sentence = decode_sequence(input_seq)\n",
    "    print(\"-\")\n",
    "    print(\"Input sentence:\", input_texts[seq_index])\n",
    "    print(\"Decoded sentence:\", decoded_sentence)"
   ]
  },
  {
   "cell_type": "markdown",
   "metadata": {},
   "source": [
    "# Attention!"
   ]
  },
  {
   "cell_type": "code",
   "execution_count": 4,
   "metadata": {},
   "outputs": [],
   "source": [
    "import tensorflow as tf\n",
    "\n",
    "import matplotlib.pyplot as plt\n",
    "import matplotlib.ticker as ticker\n",
    "from sklearn.model_selection import train_test_split\n",
    "\n",
    "import unicodedata\n",
    "import re\n",
    "import numpy as np\n",
    "import os\n",
    "import io\n",
    "import time"
   ]
  },
  {
   "cell_type": "markdown",
   "metadata": {},
   "source": [
    "## Подготовка данных"
   ]
  },
  {
   "cell_type": "code",
   "execution_count": 5,
   "metadata": {},
   "outputs": [],
   "source": [
    "# Vectorize the data.\n",
    "input_texts = []\n",
    "target_texts = []\n",
    "input_characters = set()\n",
    "target_characters = set()\n",
    "data_path = \"rus.txt\""
   ]
  },
  {
   "cell_type": "code",
   "execution_count": 6,
   "metadata": {},
   "outputs": [],
   "source": [
    "def preprocess_sentence(w):\n",
    "    w = w.lower().strip()\n",
    "\n",
    "    # creating a space between a word and the punctuation following it\n",
    "    # eg: \"he is a boy.\" => \"he is a boy .\"\n",
    "    # Reference:- https://stackoverflow.com/questions/3645931/python-padding-punctuation-with-white-spaces-keeping-punctuation\n",
    "    w = re.sub(r\"([?.!,¿])\", r\" \\1 \", w)\n",
    "    w = re.sub(r'[\" \"]+', \" \", w)\n",
    "\n",
    "    # replacing everything with space except (a-z, A-Z, \".\", \"?\", \"!\", \",\")\n",
    "    # w = re.sub(r\"[^a-zA-Z?.!,¿]+\", \" \", w)\n",
    "\n",
    "    w = w.strip()\n",
    "\n",
    "    # adding a start and an end token to the sentence\n",
    "    # so that the model know when to start and stop predicting.\n",
    "    w = '<start> ' + w + ' <end>'\n",
    "    return w"
   ]
  },
  {
   "cell_type": "code",
   "execution_count": 7,
   "metadata": {},
   "outputs": [],
   "source": [
    "# 1. Remove the accents\n",
    "# 2. Clean the sentences\n",
    "# 3. Return word pairs in the format: [ENGLISH, SPANISH]\n",
    "def create_dataset(path, num_examples):\n",
    "    lines = io.open(path, \"r\", encoding='UTF-8').read().strip().split('\\n')\n",
    "\n",
    "    word_pairs = [[preprocess_sentence(w) for w in line.split('\\t')[:2]]\n",
    "                for line in lines[:min(num_examples, len(lines)-1)]]\n",
    "\n",
    "    return zip(*word_pairs)"
   ]
  },
  {
   "cell_type": "code",
   "execution_count": 8,
   "metadata": {},
   "outputs": [],
   "source": [
    "def tokenize(lang):\n",
    "    lang_tokenizer = tf.keras.preprocessing.text.Tokenizer(filters='')\n",
    "    lang_tokenizer.fit_on_texts(lang)\n",
    "\n",
    "    tensor = lang_tokenizer.texts_to_sequences(lang)\n",
    "\n",
    "    tensor = tf.keras.preprocessing.sequence.pad_sequences(tensor,\n",
    "                                                         padding='post')\n",
    "    \n",
    "    return tensor, lang_tokenizer"
   ]
  },
  {
   "cell_type": "code",
   "execution_count": 9,
   "metadata": {},
   "outputs": [],
   "source": [
    "def load_dataset(path, num_examples=None):\n",
    "    # creating cleaned input, output pairs\n",
    "    targ_lang, inp_lang = create_dataset(path, num_examples)\n",
    "\n",
    "    input_tensor, inp_lang_tokenizer = tokenize(inp_lang)\n",
    "    target_tensor, targ_lang_tokenizer = tokenize(targ_lang)\n",
    "\n",
    "    return input_tensor, target_tensor, inp_lang_tokenizer, targ_lang_tokenizer"
   ]
  },
  {
   "cell_type": "code",
   "execution_count": 12,
   "metadata": {},
   "outputs": [],
   "source": [
    "# Try experimenting with the size of that dataset\n",
    "num_examples = 100000\n",
    "input_tensor, target_tensor, inp_lang, targ_lang = load_dataset(data_path,\n",
    "                                                                num_examples)"
   ]
  },
  {
   "cell_type": "code",
   "execution_count": 13,
   "metadata": {},
   "outputs": [
    {
     "name": "stdout",
     "output_type": "stream",
     "text": [
      "['<start> беги ! <end>']\n",
      "['<start> run . <end>']\n"
     ]
    }
   ],
   "source": [
    "print(inp_lang.sequences_to_texts(input_tensor[10:11]))\n",
    "print(targ_lang.sequences_to_texts(target_tensor[10:11]))"
   ]
  },
  {
   "cell_type": "code",
   "execution_count": 14,
   "metadata": {},
   "outputs": [
    {
     "name": "stdout",
     "output_type": "stream",
     "text": [
      "80000 80000 20000 20000\n"
     ]
    }
   ],
   "source": [
    "# Creating training and validation sets using an 80-20 split\n",
    "input_tensor_train, input_tensor_val, target_tensor_train, target_tensor_val = train_test_split(input_tensor, target_tensor, test_size=0.2)\n",
    "\n",
    "# Show length\n",
    "print(len(input_tensor_train), len(target_tensor_train), len(input_tensor_val), len(target_tensor_val))"
   ]
  },
  {
   "cell_type": "code",
   "execution_count": 15,
   "metadata": {},
   "outputs": [],
   "source": [
    "BUFFER_SIZE = len(input_tensor_train)\n",
    "BATCH_SIZE = 64\n",
    "steps_per_epoch = len(input_tensor_train)//BATCH_SIZE\n",
    "embedding_dim = 256\n",
    "units = 1024\n",
    "vocab_inp_size = len(inp_lang.word_index)+1\n",
    "vocab_tar_size = len(targ_lang.word_index)+1\n",
    "\n",
    "dataset = tf.data.Dataset.from_tensor_slices((input_tensor_train, target_tensor_train)).shuffle(BUFFER_SIZE)\n",
    "dataset = dataset.batch(BATCH_SIZE, drop_remainder=True)"
   ]
  },
  {
   "cell_type": "code",
   "execution_count": 16,
   "metadata": {},
   "outputs": [
    {
     "data": {
      "text/plain": [
       "(TensorShape([64, 15]), TensorShape([64, 11]))"
      ]
     },
     "execution_count": 16,
     "metadata": {},
     "output_type": "execute_result"
    }
   ],
   "source": [
    "example_input_batch, example_target_batch = next(iter(dataset))\n",
    "example_input_batch.shape, example_target_batch.shape"
   ]
  },
  {
   "cell_type": "markdown",
   "metadata": {},
   "source": [
    "## Создание модели"
   ]
  },
  {
   "cell_type": "code",
   "execution_count": 17,
   "metadata": {},
   "outputs": [],
   "source": [
    "class Encoder(tf.keras.Model):\n",
    "    def __init__(self, vocab_size, embedding_dim, enc_units, batch_sz):\n",
    "        super(Encoder, self).__init__()\n",
    "        self.batch_sz = batch_sz\n",
    "        self.enc_units = enc_units\n",
    "        self.embedding = tf.keras.layers.Embedding(vocab_size, embedding_dim)\n",
    "        self.gru = tf.keras.layers.GRU(self.enc_units,\n",
    "                                   return_sequences=True,\n",
    "                                   return_state=True,\n",
    "                                   recurrent_initializer='glorot_uniform')\n",
    "\n",
    "    def call(self, x, hidden):\n",
    "        x = self.embedding(x)\n",
    "        output, state = self.gru(x, initial_state=hidden)\n",
    "        return output, state\n",
    "\n",
    "    def initialize_hidden_state(self):\n",
    "        return tf.zeros((self.batch_sz, self.enc_units))\n"
   ]
  },
  {
   "cell_type": "code",
   "execution_count": 18,
   "metadata": {},
   "outputs": [],
   "source": [
    "class BahdanauAttention(tf.keras.layers.Layer):\n",
    "    def __init__(self, units):\n",
    "        super(BahdanauAttention, self).__init__()\n",
    "        self.W1 = tf.keras.layers.Dense(units)\n",
    "        self.W2 = tf.keras.layers.Dense(units)\n",
    "        self.V = tf.keras.layers.Dense(1)\n",
    "\n",
    "    def call(self, query, values):\n",
    "        # query hidden state shape == (batch_size, hidden size)\n",
    "        # query_with_time_axis shape == (batch_size, 1, hidden size)\n",
    "        # values shape == (batch_size, max_len, hidden size)\n",
    "        # we are doing this to broadcast addition along the time axis to calculate the score\n",
    "        query_with_time_axis = tf.expand_dims(query, 1)\n",
    "\n",
    "        # score shape == (batch_size, max_length, 1)\n",
    "        # we get 1 at the last axis because we are applying score to self.V\n",
    "        # the shape of the tensor before applying self.V is (batch_size, max_length, units)\n",
    "        score = self.V(tf.nn.tanh(\n",
    "            self.W1(query_with_time_axis) + self.W2(values)))\n",
    "\n",
    "        # attention_weights shape == (batch_size, max_length, 1)\n",
    "        attention_weights = tf.nn.softmax(score, axis=1)\n",
    "\n",
    "        # context_vector shape after sum == (batch_size, hidden_size)\n",
    "        context_vector = attention_weights * values\n",
    "        context_vector = tf.reduce_sum(context_vector, axis=1)\n",
    "\n",
    "        return context_vector, attention_weights"
   ]
  },
  {
   "cell_type": "code",
   "execution_count": 19,
   "metadata": {},
   "outputs": [],
   "source": [
    "class Decoder(tf.keras.Model):\n",
    "    def __init__(self, vocab_size, embedding_dim, dec_units, batch_sz):\n",
    "        super(Decoder, self).__init__()\n",
    "        self.batch_sz = batch_sz\n",
    "        self.dec_units = dec_units\n",
    "        self.embedding = tf.keras.layers.Embedding(vocab_size, embedding_dim)\n",
    "        self.gru = tf.keras.layers.GRU(self.dec_units,\n",
    "                                   return_sequences=True,\n",
    "                                   return_state=True,\n",
    "                                   recurrent_initializer='glorot_uniform')\n",
    "        self.fc = tf.keras.layers.Dense(vocab_size)\n",
    "\n",
    "        # used for attention\n",
    "        self.attention = BahdanauAttention(self.dec_units)\n",
    "\n",
    "    def call(self, x, hidden, enc_output):\n",
    "        # enc_output shape == (batch_size, max_length, hidden_size)\n",
    "        context_vector, attention_weights = self.attention(hidden, enc_output)\n",
    "\n",
    "        # x shape after passing through embedding == (batch_size, 1, embedding_dim)\n",
    "        x = self.embedding(x)\n",
    "\n",
    "        # x shape after concatenation == (batch_size, 1, embedding_dim + hidden_size)\n",
    "        x = tf.concat([tf.expand_dims(context_vector, 1), x], axis=-1)\n",
    "\n",
    "        # passing the concatenated vector to the GRU\n",
    "        output, state = self.gru(x)\n",
    "\n",
    "        # output shape == (batch_size * 1, hidden_size)\n",
    "        output = tf.reshape(output, (-1, output.shape[2]))\n",
    "\n",
    "        # output shape == (batch_size, vocab)\n",
    "        x = self.fc(output)\n",
    "\n",
    "        return x, state, attention_weights"
   ]
  },
  {
   "cell_type": "code",
   "execution_count": 20,
   "metadata": {},
   "outputs": [
    {
     "name": "stdout",
     "output_type": "stream",
     "text": [
      "Encoder output shape: (batch size, sequence length, units) (64, 15, 1024)\n",
      "Encoder Hidden state shape: (batch size, units) (64, 1024)\n"
     ]
    }
   ],
   "source": [
    "encoder = Encoder(vocab_inp_size, embedding_dim, units, BATCH_SIZE)\n",
    "\n",
    "# sample input\n",
    "sample_hidden = encoder.initialize_hidden_state()\n",
    "sample_output, sample_hidden = encoder(example_input_batch, sample_hidden)\n",
    "print('Encoder output shape: (batch size, sequence length, units)', sample_output.shape)\n",
    "print('Encoder Hidden state shape: (batch size, units)', sample_hidden.shape)"
   ]
  },
  {
   "cell_type": "code",
   "execution_count": 21,
   "metadata": {},
   "outputs": [
    {
     "name": "stdout",
     "output_type": "stream",
     "text": [
      "Attention result shape: (batch size, units) (64, 1024)\n",
      "Attention weights shape: (batch_size, sequence_length, 1) (64, 15, 1)\n"
     ]
    }
   ],
   "source": [
    "attention_layer = BahdanauAttention(10)\n",
    "attention_result, attention_weights = attention_layer(sample_hidden, sample_output)\n",
    "\n",
    "print(\"Attention result shape: (batch size, units)\", attention_result.shape)\n",
    "print(\"Attention weights shape: (batch_size, sequence_length, 1)\", attention_weights.shape)"
   ]
  },
  {
   "cell_type": "code",
   "execution_count": 22,
   "metadata": {},
   "outputs": [
    {
     "name": "stdout",
     "output_type": "stream",
     "text": [
      "Decoder output shape: (batch_size, vocab size) (64, 7274)\n"
     ]
    }
   ],
   "source": [
    "decoder = Decoder(vocab_tar_size, embedding_dim, units, BATCH_SIZE)\n",
    "\n",
    "sample_decoder_output, _, _ = decoder(tf.random.uniform((BATCH_SIZE, 1)),\n",
    "                                      sample_hidden, sample_output)\n",
    "\n",
    "print('Decoder output shape: (batch_size, vocab size)', sample_decoder_output.shape)"
   ]
  },
  {
   "cell_type": "code",
   "execution_count": 23,
   "metadata": {},
   "outputs": [],
   "source": [
    "optimizer = tf.keras.optimizers.Adam()\n",
    "loss_object = tf.keras.losses.SparseCategoricalCrossentropy(from_logits=True,\n",
    "                                                            reduction='none')\n",
    "\n",
    "def loss_function(real, pred):\n",
    "    mask = tf.math.logical_not(tf.math.equal(real, 0))\n",
    "    loss_ = loss_object(real, pred)\n",
    "\n",
    "    mask = tf.cast(mask, dtype=loss_.dtype)\n",
    "    loss_ *= mask\n",
    "\n",
    "    return tf.reduce_mean(loss_)"
   ]
  },
  {
   "cell_type": "code",
   "execution_count": 24,
   "metadata": {},
   "outputs": [],
   "source": [
    "checkpoint_dir = './training_checkpoints'\n",
    "checkpoint_prefix = os.path.join(checkpoint_dir, \"ckpt\")\n",
    "checkpoint = tf.train.Checkpoint(optimizer=optimizer,\n",
    "                                 encoder=encoder,\n",
    "                                 decoder=decoder)"
   ]
  },
  {
   "cell_type": "markdown",
   "metadata": {},
   "source": [
    "## Обучение"
   ]
  },
  {
   "cell_type": "code",
   "execution_count": 25,
   "metadata": {},
   "outputs": [],
   "source": [
    "@tf.function\n",
    "def train_step(inp, targ, enc_hidden):\n",
    "    loss = 0\n",
    "\n",
    "    with tf.GradientTape() as tape:\n",
    "        enc_output, enc_hidden = encoder(inp, enc_hidden)\n",
    "\n",
    "        dec_hidden = enc_hidden\n",
    "\n",
    "        dec_input = tf.expand_dims([targ_lang.word_index['<start>']] * BATCH_SIZE, 1)\n",
    "\n",
    "        # Teacher forcing - feeding the target as the next input\n",
    "        for t in range(1, targ.shape[1]):\n",
    "            # passing enc_output to the decoder\n",
    "            predictions, dec_hidden, _ = decoder(dec_input, dec_hidden, enc_output)\n",
    "\n",
    "            loss += loss_function(targ[:, t], predictions)\n",
    "\n",
    "            # using teacher forcing\n",
    "            dec_input = tf.expand_dims(targ[:, t], 1)\n",
    "\n",
    "    batch_loss = (loss / int(targ.shape[1]))\n",
    "\n",
    "    variables = encoder.trainable_variables + decoder.trainable_variables\n",
    "\n",
    "    gradients = tape.gradient(loss, variables)\n",
    "\n",
    "    optimizer.apply_gradients(zip(gradients, variables))\n",
    "\n",
    "    return batch_loss"
   ]
  },
  {
   "cell_type": "code",
   "execution_count": 68,
   "metadata": {},
   "outputs": [
    {
     "name": "stdout",
     "output_type": "stream",
     "text": [
      "Epoch 1 Loss 0.0507\n",
      "Time taken for 1 epoch 88.88 sec\n",
      "\n"
     ]
    },
    {
     "ename": "KeyboardInterrupt",
     "evalue": "",
     "output_type": "error",
     "traceback": [
      "\u001b[0;31m---------------------------------------------------------------------------\u001b[0m",
      "\u001b[0;31mKeyboardInterrupt\u001b[0m                         Traceback (most recent call last)",
      "\u001b[0;32m<ipython-input-68-e4b6d17fe181>\u001b[0m in \u001b[0;36m<module>\u001b[0;34m\u001b[0m\n\u001b[1;32m      8\u001b[0m \u001b[0;34m\u001b[0m\u001b[0m\n\u001b[1;32m      9\u001b[0m     \u001b[0;32mfor\u001b[0m \u001b[0;34m(\u001b[0m\u001b[0mbatch\u001b[0m\u001b[0;34m,\u001b[0m \u001b[0;34m(\u001b[0m\u001b[0minp\u001b[0m\u001b[0;34m,\u001b[0m \u001b[0mtarg\u001b[0m\u001b[0;34m)\u001b[0m\u001b[0;34m)\u001b[0m \u001b[0;32min\u001b[0m \u001b[0menumerate\u001b[0m\u001b[0;34m(\u001b[0m\u001b[0mdataset\u001b[0m\u001b[0;34m.\u001b[0m\u001b[0mtake\u001b[0m\u001b[0;34m(\u001b[0m\u001b[0msteps_per_epoch\u001b[0m\u001b[0;34m)\u001b[0m\u001b[0;34m)\u001b[0m\u001b[0;34m:\u001b[0m\u001b[0;34m\u001b[0m\u001b[0;34m\u001b[0m\u001b[0m\n\u001b[0;32m---> 10\u001b[0;31m         \u001b[0mbatch_loss\u001b[0m \u001b[0;34m=\u001b[0m \u001b[0mtrain_step\u001b[0m\u001b[0;34m(\u001b[0m\u001b[0minp\u001b[0m\u001b[0;34m,\u001b[0m \u001b[0mtarg\u001b[0m\u001b[0;34m,\u001b[0m \u001b[0menc_hidden\u001b[0m\u001b[0;34m)\u001b[0m\u001b[0;34m\u001b[0m\u001b[0;34m\u001b[0m\u001b[0m\n\u001b[0m\u001b[1;32m     11\u001b[0m         \u001b[0mtotal_loss\u001b[0m \u001b[0;34m+=\u001b[0m \u001b[0mbatch_loss\u001b[0m\u001b[0;34m\u001b[0m\u001b[0;34m\u001b[0m\u001b[0m\n\u001b[1;32m     12\u001b[0m \u001b[0;34m\u001b[0m\u001b[0m\n",
      "\u001b[0;32m~/anaconda3/envs/maxifer/lib/python3.7/site-packages/tensorflow/python/eager/def_function.py\u001b[0m in \u001b[0;36m__call__\u001b[0;34m(self, *args, **kwds)\u001b[0m\n\u001b[1;32m    826\u001b[0m     \u001b[0mtracing_count\u001b[0m \u001b[0;34m=\u001b[0m \u001b[0mself\u001b[0m\u001b[0;34m.\u001b[0m\u001b[0mexperimental_get_tracing_count\u001b[0m\u001b[0;34m(\u001b[0m\u001b[0;34m)\u001b[0m\u001b[0;34m\u001b[0m\u001b[0;34m\u001b[0m\u001b[0m\n\u001b[1;32m    827\u001b[0m     \u001b[0;32mwith\u001b[0m \u001b[0mtrace\u001b[0m\u001b[0;34m.\u001b[0m\u001b[0mTrace\u001b[0m\u001b[0;34m(\u001b[0m\u001b[0mself\u001b[0m\u001b[0;34m.\u001b[0m\u001b[0m_name\u001b[0m\u001b[0;34m)\u001b[0m \u001b[0;32mas\u001b[0m \u001b[0mtm\u001b[0m\u001b[0;34m:\u001b[0m\u001b[0;34m\u001b[0m\u001b[0;34m\u001b[0m\u001b[0m\n\u001b[0;32m--> 828\u001b[0;31m       \u001b[0mresult\u001b[0m \u001b[0;34m=\u001b[0m \u001b[0mself\u001b[0m\u001b[0;34m.\u001b[0m\u001b[0m_call\u001b[0m\u001b[0;34m(\u001b[0m\u001b[0;34m*\u001b[0m\u001b[0margs\u001b[0m\u001b[0;34m,\u001b[0m \u001b[0;34m**\u001b[0m\u001b[0mkwds\u001b[0m\u001b[0;34m)\u001b[0m\u001b[0;34m\u001b[0m\u001b[0;34m\u001b[0m\u001b[0m\n\u001b[0m\u001b[1;32m    829\u001b[0m       \u001b[0mcompiler\u001b[0m \u001b[0;34m=\u001b[0m \u001b[0;34m\"xla\"\u001b[0m \u001b[0;32mif\u001b[0m \u001b[0mself\u001b[0m\u001b[0;34m.\u001b[0m\u001b[0m_experimental_compile\u001b[0m \u001b[0;32melse\u001b[0m \u001b[0;34m\"nonXla\"\u001b[0m\u001b[0;34m\u001b[0m\u001b[0;34m\u001b[0m\u001b[0m\n\u001b[1;32m    830\u001b[0m       \u001b[0mnew_tracing_count\u001b[0m \u001b[0;34m=\u001b[0m \u001b[0mself\u001b[0m\u001b[0;34m.\u001b[0m\u001b[0mexperimental_get_tracing_count\u001b[0m\u001b[0;34m(\u001b[0m\u001b[0;34m)\u001b[0m\u001b[0;34m\u001b[0m\u001b[0;34m\u001b[0m\u001b[0m\n",
      "\u001b[0;32m~/anaconda3/envs/maxifer/lib/python3.7/site-packages/tensorflow/python/eager/def_function.py\u001b[0m in \u001b[0;36m_call\u001b[0;34m(self, *args, **kwds)\u001b[0m\n\u001b[1;32m    853\u001b[0m       \u001b[0;31m# In this case we have created variables on the first call, so we run the\u001b[0m\u001b[0;34m\u001b[0m\u001b[0;34m\u001b[0m\u001b[0;34m\u001b[0m\u001b[0m\n\u001b[1;32m    854\u001b[0m       \u001b[0;31m# defunned version which is guaranteed to never create variables.\u001b[0m\u001b[0;34m\u001b[0m\u001b[0;34m\u001b[0m\u001b[0;34m\u001b[0m\u001b[0m\n\u001b[0;32m--> 855\u001b[0;31m       \u001b[0;32mreturn\u001b[0m \u001b[0mself\u001b[0m\u001b[0;34m.\u001b[0m\u001b[0m_stateless_fn\u001b[0m\u001b[0;34m(\u001b[0m\u001b[0;34m*\u001b[0m\u001b[0margs\u001b[0m\u001b[0;34m,\u001b[0m \u001b[0;34m**\u001b[0m\u001b[0mkwds\u001b[0m\u001b[0;34m)\u001b[0m  \u001b[0;31m# pylint: disable=not-callable\u001b[0m\u001b[0;34m\u001b[0m\u001b[0;34m\u001b[0m\u001b[0m\n\u001b[0m\u001b[1;32m    856\u001b[0m     \u001b[0;32melif\u001b[0m \u001b[0mself\u001b[0m\u001b[0;34m.\u001b[0m\u001b[0m_stateful_fn\u001b[0m \u001b[0;32mis\u001b[0m \u001b[0;32mnot\u001b[0m \u001b[0;32mNone\u001b[0m\u001b[0;34m:\u001b[0m\u001b[0;34m\u001b[0m\u001b[0;34m\u001b[0m\u001b[0m\n\u001b[1;32m    857\u001b[0m       \u001b[0;31m# Release the lock early so that multiple threads can perform the call\u001b[0m\u001b[0;34m\u001b[0m\u001b[0;34m\u001b[0m\u001b[0;34m\u001b[0m\u001b[0m\n",
      "\u001b[0;32m~/anaconda3/envs/maxifer/lib/python3.7/site-packages/tensorflow/python/eager/function.py\u001b[0m in \u001b[0;36m__call__\u001b[0;34m(self, *args, **kwargs)\u001b[0m\n\u001b[1;32m   2941\u001b[0m        filtered_flat_args) = self._maybe_define_function(args, kwargs)\n\u001b[1;32m   2942\u001b[0m     return graph_function._call_flat(\n\u001b[0;32m-> 2943\u001b[0;31m         filtered_flat_args, captured_inputs=graph_function.captured_inputs)  # pylint: disable=protected-access\n\u001b[0m\u001b[1;32m   2944\u001b[0m \u001b[0;34m\u001b[0m\u001b[0m\n\u001b[1;32m   2945\u001b[0m   \u001b[0;34m@\u001b[0m\u001b[0mproperty\u001b[0m\u001b[0;34m\u001b[0m\u001b[0;34m\u001b[0m\u001b[0m\n",
      "\u001b[0;32m~/anaconda3/envs/maxifer/lib/python3.7/site-packages/tensorflow/python/eager/function.py\u001b[0m in \u001b[0;36m_call_flat\u001b[0;34m(self, args, captured_inputs, cancellation_manager)\u001b[0m\n\u001b[1;32m   1917\u001b[0m       \u001b[0;31m# No tape is watching; skip to running the function.\u001b[0m\u001b[0;34m\u001b[0m\u001b[0;34m\u001b[0m\u001b[0;34m\u001b[0m\u001b[0m\n\u001b[1;32m   1918\u001b[0m       return self._build_call_outputs(self._inference_function.call(\n\u001b[0;32m-> 1919\u001b[0;31m           ctx, args, cancellation_manager=cancellation_manager))\n\u001b[0m\u001b[1;32m   1920\u001b[0m     forward_backward = self._select_forward_and_backward_functions(\n\u001b[1;32m   1921\u001b[0m         \u001b[0margs\u001b[0m\u001b[0;34m,\u001b[0m\u001b[0;34m\u001b[0m\u001b[0;34m\u001b[0m\u001b[0m\n",
      "\u001b[0;32m~/anaconda3/envs/maxifer/lib/python3.7/site-packages/tensorflow/python/eager/function.py\u001b[0m in \u001b[0;36mcall\u001b[0;34m(self, ctx, args, cancellation_manager)\u001b[0m\n\u001b[1;32m    558\u001b[0m               \u001b[0minputs\u001b[0m\u001b[0;34m=\u001b[0m\u001b[0margs\u001b[0m\u001b[0;34m,\u001b[0m\u001b[0;34m\u001b[0m\u001b[0;34m\u001b[0m\u001b[0m\n\u001b[1;32m    559\u001b[0m               \u001b[0mattrs\u001b[0m\u001b[0;34m=\u001b[0m\u001b[0mattrs\u001b[0m\u001b[0;34m,\u001b[0m\u001b[0;34m\u001b[0m\u001b[0;34m\u001b[0m\u001b[0m\n\u001b[0;32m--> 560\u001b[0;31m               ctx=ctx)\n\u001b[0m\u001b[1;32m    561\u001b[0m         \u001b[0;32melse\u001b[0m\u001b[0;34m:\u001b[0m\u001b[0;34m\u001b[0m\u001b[0;34m\u001b[0m\u001b[0m\n\u001b[1;32m    562\u001b[0m           outputs = execute.execute_with_cancellation(\n",
      "\u001b[0;32m~/anaconda3/envs/maxifer/lib/python3.7/site-packages/tensorflow/python/eager/execute.py\u001b[0m in \u001b[0;36mquick_execute\u001b[0;34m(op_name, num_outputs, inputs, attrs, ctx, name)\u001b[0m\n\u001b[1;32m     58\u001b[0m     \u001b[0mctx\u001b[0m\u001b[0;34m.\u001b[0m\u001b[0mensure_initialized\u001b[0m\u001b[0;34m(\u001b[0m\u001b[0;34m)\u001b[0m\u001b[0;34m\u001b[0m\u001b[0;34m\u001b[0m\u001b[0m\n\u001b[1;32m     59\u001b[0m     tensors = pywrap_tfe.TFE_Py_Execute(ctx._handle, device_name, op_name,\n\u001b[0;32m---> 60\u001b[0;31m                                         inputs, attrs, num_outputs)\n\u001b[0m\u001b[1;32m     61\u001b[0m   \u001b[0;32mexcept\u001b[0m \u001b[0mcore\u001b[0m\u001b[0;34m.\u001b[0m\u001b[0m_NotOkStatusException\u001b[0m \u001b[0;32mas\u001b[0m \u001b[0me\u001b[0m\u001b[0;34m:\u001b[0m\u001b[0;34m\u001b[0m\u001b[0;34m\u001b[0m\u001b[0m\n\u001b[1;32m     62\u001b[0m     \u001b[0;32mif\u001b[0m \u001b[0mname\u001b[0m \u001b[0;32mis\u001b[0m \u001b[0;32mnot\u001b[0m \u001b[0;32mNone\u001b[0m\u001b[0;34m:\u001b[0m\u001b[0;34m\u001b[0m\u001b[0;34m\u001b[0m\u001b[0m\n",
      "\u001b[0;31mKeyboardInterrupt\u001b[0m: "
     ]
    }
   ],
   "source": [
    "EPOCHS = 10\n",
    "\n",
    "for epoch in range(EPOCHS):\n",
    "    start = time.time()\n",
    "\n",
    "    enc_hidden = encoder.initialize_hidden_state()\n",
    "    total_loss = 0\n",
    "\n",
    "    for (batch, (inp, targ)) in enumerate(dataset.take(steps_per_epoch)):\n",
    "        batch_loss = train_step(inp, targ, enc_hidden)\n",
    "        total_loss += batch_loss\n",
    "\n",
    "    if batch % 100 == 0:\n",
    "        print(f'Epoch {epoch+1} Batch {batch} Loss {batch_loss.numpy():.4f}')\n",
    "    \n",
    "    # saving (checkpoint) the model every 2 epochs\n",
    "    if (epoch + 1) % 4 == 0:\n",
    "        checkpoint.save(file_prefix=checkpoint_prefix)\n",
    "\n",
    "    print(f'Epoch {epoch+1} Loss {total_loss/steps_per_epoch:.4f}')\n",
    "    print(f'Time taken for 1 epoch {time.time()-start:.2f} sec\\n')"
   ]
  },
  {
   "cell_type": "markdown",
   "metadata": {},
   "source": [
    "## Использование и визуализация"
   ]
  },
  {
   "cell_type": "code",
   "execution_count": 107,
   "metadata": {},
   "outputs": [
    {
     "data": {
      "text/plain": [
       "<tensorflow.python.training.tracking.util.CheckpointLoadStatus at 0x7ff3b7672a50>"
      ]
     },
     "execution_count": 107,
     "metadata": {},
     "output_type": "execute_result"
    }
   ],
   "source": [
    "checkpoint_dir = ''\n",
    "# restoring the latest checkpoint in checkpoint_dir\n",
    "checkpoint.restore('./training_checkpoints/ckpt-5')"
   ]
  },
  {
   "cell_type": "code",
   "execution_count": 108,
   "metadata": {},
   "outputs": [],
   "source": [
    "max_length_inp = input_tensor.shape[1]\n",
    "max_length_targ = target_tensor.shape[1]\n",
    "def evaluate(sentence):\n",
    "    attention_plot = np.zeros((max_length_targ, max_length_inp))\n",
    "\n",
    "    sentence = preprocess_sentence(sentence)\n",
    "\n",
    "    inputs = [inp_lang.word_index[i] for i in sentence.split(' ')]\n",
    "    inputs = tf.keras.preprocessing.sequence.pad_sequences([inputs],\n",
    "                                                         maxlen=max_length_inp,\n",
    "                                                         padding='post')\n",
    "    inputs = tf.convert_to_tensor(inputs)\n",
    "\n",
    "    result = ''\n",
    "\n",
    "    hidden = [tf.zeros((1, units))]\n",
    "    enc_out, enc_hidden = encoder(inputs, hidden)\n",
    "\n",
    "    dec_hidden = enc_hidden\n",
    "    dec_input = tf.expand_dims([targ_lang.word_index['<start>']], 0)\n",
    "\n",
    "    for t in range(max_length_targ):\n",
    "        predictions, dec_hidden, attention_weights = decoder(dec_input,\n",
    "                                                         dec_hidden,\n",
    "                                                         enc_out)\n",
    "\n",
    "        # storing the attention weights to plot later on\n",
    "        attention_weights = tf.reshape(attention_weights, (-1, ))\n",
    "        attention_plot[t] = attention_weights.numpy()\n",
    "\n",
    "        predicted_id = tf.argmax(predictions[0]).numpy()\n",
    "\n",
    "        result += targ_lang.index_word[predicted_id] + ' '\n",
    "\n",
    "        if targ_lang.index_word[predicted_id] == '<end>':\n",
    "            return result, sentence, attention_plot\n",
    "\n",
    "        # the predicted ID is fed back into the model\n",
    "        dec_input = tf.expand_dims([predicted_id], 0)\n",
    "\n",
    "    return result, sentence, attention_plot"
   ]
  },
  {
   "cell_type": "code",
   "execution_count": 109,
   "metadata": {},
   "outputs": [],
   "source": [
    "# function for plotting the attention weights\n",
    "def plot_attention(attention, sentence, predicted_sentence):\n",
    "    fig = plt.figure(figsize=(10, 10))\n",
    "    ax = fig.add_subplot(1, 1, 1)\n",
    "    ax.matshow(attention, cmap='viridis')\n",
    "\n",
    "    fontdict = {'fontsize': 14}\n",
    "\n",
    "    ax.set_xticklabels([''] + sentence, fontdict=fontdict, rotation=90)\n",
    "    ax.set_yticklabels([''] + predicted_sentence, fontdict=fontdict)\n",
    "\n",
    "    ax.xaxis.set_major_locator(ticker.MultipleLocator(1))\n",
    "    ax.yaxis.set_major_locator(ticker.MultipleLocator(1))\n",
    "\n",
    "    plt.show()"
   ]
  },
  {
   "cell_type": "code",
   "execution_count": 110,
   "metadata": {},
   "outputs": [],
   "source": [
    "def translate(sentence):\n",
    "    result, sentence, attention_plot = evaluate(sentence)\n",
    "\n",
    "    print('Input:', sentence)\n",
    "    print('Predicted translation:', result)\n",
    "\n",
    "    attention_plot = attention_plot[:len(result.split(' ')),\n",
    "                                  :len(sentence.split(' '))]\n",
    "    plot_attention(attention_plot, sentence.split(' '), result.split(' '))"
   ]
  },
  {
   "cell_type": "code",
   "execution_count": 111,
   "metadata": {},
   "outputs": [
    {
     "name": "stdout",
     "output_type": "stream",
     "text": [
      "Input: <start> ты всё ещё дома ? <end>\n",
      "Predicted translation: are you still at home ? <end> \n"
     ]
    },
    {
     "data": {
      "image/png": "[encoded data removed]",
      "text/plain": [
       "<Figure size 720x720 with 1 Axes>"
      ]
     },
     "metadata": {
      "needs_background": "light"
     },
     "output_type": "display_data"
    }
   ],
   "source": [
    "translate(u'ты всё ещё дома?')"
   ]
  },
  {
   "cell_type": "code",
   "execution_count": 112,
   "metadata": {},
   "outputs": [
    {
     "name": "stdout",
     "output_type": "stream",
     "text": [
      "Input: <start> здесь довольно холодно <end>\n",
      "Predicted translation: it's pretty cold here ? <end> \n"
     ]
    },
    {
     "data": {
      "image/png": "[encoded data removed]",
      "text/plain": [
       "<Figure size 720x720 with 1 Axes>"
      ]
     },
     "metadata": {
      "needs_background": "light"
     },
     "output_type": "display_data"
    }
   ],
   "source": [
    "translate(u'здесь довольно холодно')"
   ]
  },
  {
   "cell_type": "code",
   "execution_count": 113,
   "metadata": {},
   "outputs": [
    {
     "name": "stdout",
     "output_type": "stream",
     "text": [
      "Input: <start> холодно здесь <end>\n",
      "Predicted translation: it's cold in here ? <end> \n"
     ]
    },
    {
     "data": {
      "image/png": "[encoded data removed]",
      "text/plain": [
       "<Figure size 720x720 with 1 Axes>"
      ]
     },
     "metadata": {
      "needs_background": "light"
     },
     "output_type": "display_data"
    }
   ],
   "source": [
    "translate(u'холодно здесь')"
   ]
  },
  {
   "cell_type": "markdown",
   "metadata": {},
   "source": [
    "# Ссылки\n",
    "- https://keras.io/examples/nlp/lstm_seq2seq/\n",
    "- https://www.tensorflow.org/api_docs/python/tf/keras/layers/Attention"
   ]
  },
  {
   "cell_type": "code",
   "execution_count": null,
   "metadata": {},
   "outputs": [],
   "source": []
  }
 ],
 "metadata": {
  "kernelspec": {
   "display_name": "Python 3",
   "language": "python",
   "name": "python3"
  },
  "language_info": {
   "codemirror_mode": {
    "name": "ipython",
    "version": 3
   },
   "file_extension": ".py",
   "mimetype": "text/x-python",
   "name": "python",
   "nbconvert_exporter": "python",
   "pygments_lexer": "ipython3",
   "version": "3.7.7"
  }
 },
 "nbformat": 4,
 "nbformat_minor": 4
}
