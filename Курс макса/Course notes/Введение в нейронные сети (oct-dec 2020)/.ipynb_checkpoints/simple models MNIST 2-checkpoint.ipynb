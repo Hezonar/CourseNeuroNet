{
 "cells": [
  {
   "cell_type": "markdown",
   "metadata": {},
   "source": [
    "# Простые классификаторы MNIST. Часть 2.\n",
    "\n",
    "Пример обучения полносвязных сетей для классификации изображений MNIST. "
   ]
  },
  {
   "cell_type": "markdown",
   "metadata": {},
   "source": [
    "## Однослойная модель\n",
    "\n",
    "Импортируем нужные библиотеки"
   ]
  },
  {
   "cell_type": "code",
   "execution_count": 1,
   "metadata": {},
   "outputs": [
    {
     "name": "stdout",
     "output_type": "stream",
     "text": [
      "2.4.3\n"
     ]
    }
   ],
   "source": [
    "import keras\n",
    "from keras.datasets import mnist # Датасет\n",
    "from keras.models import Sequential # Базовый класс для создания нейронной сети\n",
    "from keras.layers import Flatten, Dense # Два вида слоёв нейронное сети, которые будут использоваться\n",
    "from keras.utils import np_utils # Утилиты для one-hot encoding\n",
    "\n",
    "import numpy as np\n",
    "import matplotlib.pyplot as plt\n",
    "\n",
    "print(keras.__version__)"
   ]
  },
  {
   "cell_type": "markdown",
   "metadata": {},
   "source": [
    "Выполним загрузку и подготовку данных."
   ]
  },
  {
   "cell_type": "code",
   "execution_count": 2,
   "metadata": {},
   "outputs": [],
   "source": [
    "(train_images, train_labels), (test_images, test_labels) = mnist.load_data()\n",
    "\n",
    "train_images = train_images / 255.0\n",
    "test_images = test_images / 255.0\n",
    "\n",
    "validation_images = train_images[:1000]\n",
    "validation_labels = train_labels[:1000]\n",
    "\n",
    "train_images = train_images[1000:]\n",
    "train_labels = train_labels[1000:]"
   ]
  },
  {
   "cell_type": "markdown",
   "metadata": {},
   "source": [
    "Создадим и обучим простую однослойную модель. Модель будет иметь 128 нейронов с активацией relu на единственном скрытом слое."
   ]
  },
  {
   "cell_type": "code",
   "execution_count": 3,
   "metadata": {},
   "outputs": [],
   "source": [
    "model = Sequential([\n",
    "    Flatten(input_shape=(28, 28)),\n",
    "    Dense(128, activation='relu'),\n",
    "    Dense(10, activation='softmax')\n",
    "])"
   ]
  },
  {
   "cell_type": "code",
   "execution_count": 4,
   "metadata": {},
   "outputs": [],
   "source": [
    "model.compile(optimizer='adam',\n",
    "              loss='sparse_categorical_crossentropy',\n",
    "              metrics=['accuracy'])"
   ]
  },
  {
   "cell_type": "code",
   "execution_count": 5,
   "metadata": {},
   "outputs": [
    {
     "name": "stdout",
     "output_type": "stream",
     "text": [
      "Epoch 1/20\n",
      "461/461 [==============================] - 0s 1ms/step - loss: 0.3610 - accuracy: 0.9003 - val_loss: 0.2230 - val_accuracy: 0.9350\n",
      "Epoch 2/20\n",
      "461/461 [==============================] - 0s 851us/step - loss: 0.1683 - accuracy: 0.9520 - val_loss: 0.1577 - val_accuracy: 0.9560\n",
      "Epoch 3/20\n",
      "461/461 [==============================] - 0s 830us/step - loss: 0.1210 - accuracy: 0.9655 - val_loss: 0.1299 - val_accuracy: 0.9630\n",
      "Epoch 4/20\n",
      "461/461 [==============================] - 0s 855us/step - loss: 0.0921 - accuracy: 0.9743 - val_loss: 0.1133 - val_accuracy: 0.9670\n",
      "Epoch 5/20\n",
      "461/461 [==============================] - 0s 843us/step - loss: 0.0736 - accuracy: 0.9792 - val_loss: 0.1108 - val_accuracy: 0.9670\n",
      "Epoch 6/20\n",
      "461/461 [==============================] - 0s 850us/step - loss: 0.0601 - accuracy: 0.9822 - val_loss: 0.1097 - val_accuracy: 0.9680\n",
      "Epoch 7/20\n",
      "461/461 [==============================] - 0s 852us/step - loss: 0.0504 - accuracy: 0.9855 - val_loss: 0.0965 - val_accuracy: 0.9670\n",
      "Epoch 8/20\n",
      "461/461 [==============================] - 0s 863us/step - loss: 0.0425 - accuracy: 0.9880 - val_loss: 0.0916 - val_accuracy: 0.9710\n",
      "Epoch 9/20\n",
      "461/461 [==============================] - 0s 856us/step - loss: 0.0362 - accuracy: 0.9897 - val_loss: 0.0928 - val_accuracy: 0.9700\n",
      "Epoch 10/20\n",
      "461/461 [==============================] - 0s 851us/step - loss: 0.0305 - accuracy: 0.9919 - val_loss: 0.0969 - val_accuracy: 0.9730\n",
      "Epoch 11/20\n",
      "461/461 [==============================] - 0s 864us/step - loss: 0.0258 - accuracy: 0.9931 - val_loss: 0.0962 - val_accuracy: 0.9730\n",
      "Epoch 12/20\n",
      "461/461 [==============================] - 0s 863us/step - loss: 0.0219 - accuracy: 0.9944 - val_loss: 0.1037 - val_accuracy: 0.9700\n",
      "Epoch 13/20\n",
      "461/461 [==============================] - 0s 853us/step - loss: 0.0188 - accuracy: 0.9956 - val_loss: 0.0999 - val_accuracy: 0.9740\n",
      "Epoch 14/20\n",
      "461/461 [==============================] - 0s 857us/step - loss: 0.0159 - accuracy: 0.9962 - val_loss: 0.0918 - val_accuracy: 0.9710\n",
      "Epoch 15/20\n",
      "461/461 [==============================] - 0s 855us/step - loss: 0.0137 - accuracy: 0.9967 - val_loss: 0.1145 - val_accuracy: 0.9680\n",
      "Epoch 16/20\n",
      "461/461 [==============================] - 0s 895us/step - loss: 0.0115 - accuracy: 0.9975 - val_loss: 0.1006 - val_accuracy: 0.9740\n",
      "Epoch 17/20\n",
      "461/461 [==============================] - 0s 880us/step - loss: 0.0095 - accuracy: 0.9982 - val_loss: 0.1118 - val_accuracy: 0.9710\n",
      "Epoch 18/20\n",
      "461/461 [==============================] - 0s 896us/step - loss: 0.0087 - accuracy: 0.9983 - val_loss: 0.1109 - val_accuracy: 0.9660\n",
      "Epoch 19/20\n",
      "461/461 [==============================] - 0s 905us/step - loss: 0.0074 - accuracy: 0.9987 - val_loss: 0.1044 - val_accuracy: 0.9680\n",
      "Epoch 20/20\n",
      "461/461 [==============================] - 0s 915us/step - loss: 0.0060 - accuracy: 0.9992 - val_loss: 0.1045 - val_accuracy: 0.9710\n"
     ]
    }
   ],
   "source": [
    "history = model.fit(\n",
    "    train_images, \n",
    "    train_labels, \n",
    "    epochs=20, \n",
    "    batch_size=128, \n",
    "    validation_data=(validation_images, validation_labels)\n",
    ")"
   ]
  },
  {
   "cell_type": "markdown",
   "metadata": {},
   "source": [
    "Оценим точность и построим графики обучения."
   ]
  },
  {
   "cell_type": "code",
   "execution_count": 6,
   "metadata": {},
   "outputs": [
    {
     "name": "stdout",
     "output_type": "stream",
     "text": [
      "313/313 - 0s - loss: 0.0771 - accuracy: 0.9785\n",
      "\n",
      "Точность на проверочных данных: 0.9785000085830688\n"
     ]
    }
   ],
   "source": [
    "test_loss, test_acc = model.evaluate(test_images,  test_labels, verbose=2)\n",
    "\n",
    "print('\\nТочность на проверочных данных:', test_acc)"
   ]
  },
  {
   "cell_type": "code",
   "execution_count": 7,
   "metadata": {},
   "outputs": [],
   "source": [
    "def show_loss(history):\n",
    "    loss = history.history['loss']\n",
    "    val_loss = history.history['val_loss']\n",
    "    epochs = range(1, len(loss) + 1)\n",
    "    plt.plot(epochs, loss, 'bo', label='Training loss')\n",
    "    plt.plot(epochs, val_loss, 'b', label='Validation loss')\n",
    "    plt.xlabel('Epochs')\n",
    "    plt.ylabel('Loss')\n",
    "    plt.legend(['Train', 'Test'], loc='upper left')\n",
    "\n",
    "    plt.show()\n",
    "\n",
    "    plt.plot(history.history['accuracy'])\n",
    "    plt.plot(history.history['val_accuracy'])\n",
    "    plt.title('Model accuracy')\n",
    "    plt.ylabel('Accuracy')\n",
    "    plt.xlabel('Epoch')\n",
    "    plt.legend(['Train', 'Test'], loc='upper left')\n",
    "    plt.show()"
   ]
  },
  {
   "cell_type": "code",
   "execution_count": 8,
   "metadata": {},
   "outputs": [
    {
     "data": {
      "image/png": "[encoded data removed]",
      "text/plain": [
       "<Figure size 432x288 with 1 Axes>"
      ]
     },
     "metadata": {
      "needs_background": "light"
     },
     "output_type": "display_data"
    },
    {
     "data": {
      "image/png": "[encoded data removed]",
      "text/plain": [
       "<Figure size 432x288 with 1 Axes>"
      ]
     },
     "metadata": {
      "needs_background": "light"
     },
     "output_type": "display_data"
    }
   ],
   "source": [
    "show_loss(history)"
   ]
  },
  {
   "cell_type": "markdown",
   "metadata": {},
   "source": [
    "## Полносвязная многослойная модель\n",
    "\n",
    "Импортируем нужные библиотеки"
   ]
  },
  {
   "cell_type": "code",
   "execution_count": 9,
   "metadata": {},
   "outputs": [
    {
     "name": "stdout",
     "output_type": "stream",
     "text": [
      "2.4.3\n"
     ]
    }
   ],
   "source": [
    "import keras\n",
    "from keras.datasets import mnist # Датасет\n",
    "from keras.models import Sequential # Базовый класс для создания нейронной сети\n",
    "from keras.layers import Flatten, Dense # Два вида слоёв нейронное сети, которые будут использоваться\n",
    "from keras.utils import np_utils # Утилиты для one-hot encoding\n",
    "\n",
    "import numpy as np\n",
    "import matplotlib.pyplot as plt\n",
    "\n",
    "print(keras.__version__)"
   ]
  },
  {
   "cell_type": "markdown",
   "metadata": {},
   "source": [
    "Выполним загрузку и подготовку данных."
   ]
  },
  {
   "cell_type": "code",
   "execution_count": 10,
   "metadata": {},
   "outputs": [],
   "source": [
    "(train_images, train_labels), (test_images, test_labels) = mnist.load_data()\n",
    "\n",
    "train_images = train_images / 255.0\n",
    "test_images = test_images / 255.0\n",
    "\n",
    "validation_images = train_images[:1000]\n",
    "validation_labels = train_labels[:1000]\n",
    "\n",
    "train_images = train_images[1000:]\n",
    "train_labels = train_labels[1000:]"
   ]
  },
  {
   "cell_type": "markdown",
   "metadata": {},
   "source": [
    "Создадим и обучим простую многослойную модель. Модель будет иметь 3 скрытых слоя: 256, 128 И 64 узлов."
   ]
  },
  {
   "cell_type": "code",
   "execution_count": 11,
   "metadata": {},
   "outputs": [],
   "source": [
    "model = Sequential([\n",
    "    Flatten(input_shape=(28, 28)),\n",
    "    Dense(256, activation='relu'),\n",
    "    Dense(128, activation='relu'),\n",
    "    Dense(64, activation='relu'),\n",
    "    Dense(10, activation='softmax')\n",
    "])"
   ]
  },
  {
   "cell_type": "code",
   "execution_count": 12,
   "metadata": {},
   "outputs": [],
   "source": [
    "model.compile(optimizer='adam',\n",
    "              loss='sparse_categorical_crossentropy',\n",
    "              metrics=['accuracy'])"
   ]
  },
  {
   "cell_type": "code",
   "execution_count": 13,
   "metadata": {},
   "outputs": [
    {
     "name": "stdout",
     "output_type": "stream",
     "text": [
      "Epoch 1/20\n",
      "461/461 [==============================] - 2s 4ms/step - loss: 0.2813 - accuracy: 0.9200 - val_loss: 0.1712 - val_accuracy: 0.9500\n",
      "Epoch 2/20\n",
      "461/461 [==============================] - 2s 4ms/step - loss: 0.1036 - accuracy: 0.9695 - val_loss: 0.1241 - val_accuracy: 0.9670\n",
      "Epoch 3/20\n",
      "461/461 [==============================] - 2s 4ms/step - loss: 0.0680 - accuracy: 0.9789 - val_loss: 0.0834 - val_accuracy: 0.9760\n",
      "Epoch 4/20\n",
      "461/461 [==============================] - 2s 4ms/step - loss: 0.0508 - accuracy: 0.9843 - val_loss: 0.1076 - val_accuracy: 0.9680\n",
      "Epoch 5/20\n",
      "461/461 [==============================] - 2s 5ms/step - loss: 0.0383 - accuracy: 0.9879 - val_loss: 0.0842 - val_accuracy: 0.9760\n",
      "Epoch 6/20\n",
      "461/461 [==============================] - 2s 4ms/step - loss: 0.0310 - accuracy: 0.9899 - val_loss: 0.0878 - val_accuracy: 0.9770\n",
      "Epoch 7/20\n",
      "461/461 [==============================] - 1s 2ms/step - loss: 0.0250 - accuracy: 0.9918 - val_loss: 0.1204 - val_accuracy: 0.9690\n",
      "Epoch 8/20\n",
      "461/461 [==============================] - 2s 4ms/step - loss: 0.0194 - accuracy: 0.9938 - val_loss: 0.0938 - val_accuracy: 0.9810\n",
      "Epoch 9/20\n",
      "461/461 [==============================] - 2s 3ms/step - loss: 0.0197 - accuracy: 0.9934 - val_loss: 0.0918 - val_accuracy: 0.9780\n",
      "Epoch 10/20\n",
      "461/461 [==============================] - 1s 2ms/step - loss: 0.0162 - accuracy: 0.9943 - val_loss: 0.1148 - val_accuracy: 0.9760\n",
      "Epoch 11/20\n",
      "461/461 [==============================] - 2s 5ms/step - loss: 0.0123 - accuracy: 0.9960 - val_loss: 0.1167 - val_accuracy: 0.9800\n",
      "Epoch 12/20\n",
      "461/461 [==============================] - 1s 2ms/step - loss: 0.0127 - accuracy: 0.9958 - val_loss: 0.1464 - val_accuracy: 0.9730\n",
      "Epoch 13/20\n",
      "461/461 [==============================] - 2s 5ms/step - loss: 0.0150 - accuracy: 0.9950 - val_loss: 0.1192 - val_accuracy: 0.9750\n",
      "Epoch 14/20\n",
      "461/461 [==============================] - 2s 5ms/step - loss: 0.0107 - accuracy: 0.9965 - val_loss: 0.1293 - val_accuracy: 0.9780\n",
      "Epoch 15/20\n",
      "461/461 [==============================] - 2s 5ms/step - loss: 0.0103 - accuracy: 0.9965 - val_loss: 0.1408 - val_accuracy: 0.9780\n",
      "Epoch 16/20\n",
      "461/461 [==============================] - 1s 1ms/step - loss: 0.0116 - accuracy: 0.9962 - val_loss: 0.1764 - val_accuracy: 0.9660\n",
      "Epoch 17/20\n",
      "461/461 [==============================] - 2s 5ms/step - loss: 0.0093 - accuracy: 0.9970 - val_loss: 0.1464 - val_accuracy: 0.9770\n",
      "Epoch 18/20\n",
      "461/461 [==============================] - 2s 5ms/step - loss: 0.0113 - accuracy: 0.9965 - val_loss: 0.1366 - val_accuracy: 0.9740\n",
      "Epoch 19/20\n",
      "461/461 [==============================] - 1s 2ms/step - loss: 0.0072 - accuracy: 0.9977 - val_loss: 0.1267 - val_accuracy: 0.9810\n",
      "Epoch 20/20\n",
      "461/461 [==============================] - 2s 4ms/step - loss: 0.0107 - accuracy: 0.9968 - val_loss: 0.1273 - val_accuracy: 0.9800\n"
     ]
    }
   ],
   "source": [
    "history = model.fit(\n",
    "    train_images, \n",
    "    train_labels, \n",
    "    epochs=20, \n",
    "    batch_size=128, \n",
    "    validation_data=(validation_images, validation_labels)\n",
    ")"
   ]
  },
  {
   "cell_type": "markdown",
   "metadata": {},
   "source": [
    "Оценим точность и построим графики обучения."
   ]
  },
  {
   "cell_type": "code",
   "execution_count": 14,
   "metadata": {},
   "outputs": [
    {
     "name": "stdout",
     "output_type": "stream",
     "text": [
      "313/313 - 0s - loss: 0.0982 - accuracy: 0.9802\n",
      "\n",
      "Точность на проверочных данных: 0.9801999926567078\n"
     ]
    }
   ],
   "source": [
    "test_loss, test_acc = model.evaluate(test_images,  test_labels, verbose=2)\n",
    "\n",
    "print('\\nТочность на проверочных данных:', test_acc)"
   ]
  },
  {
   "cell_type": "code",
   "execution_count": 15,
   "metadata": {},
   "outputs": [],
   "source": [
    "def show_loss(history):\n",
    "    loss = history.history['loss']\n",
    "    val_loss = history.history['val_loss']\n",
    "    epochs = range(1, len(loss) + 1)\n",
    "    plt.plot(epochs, loss, 'bo', label='Training loss')\n",
    "    plt.plot(epochs, val_loss, 'b', label='Validation loss')\n",
    "    plt.xlabel('Epochs')\n",
    "    plt.ylabel('Loss')\n",
    "    plt.legend(['Train', 'Test'], loc='upper left')\n",
    "\n",
    "    plt.show()\n",
    "\n",
    "    plt.plot(history.history['accuracy'])\n",
    "    plt.plot(history.history['val_accuracy'])\n",
    "    plt.title('Model accuracy')\n",
    "    plt.ylabel('Accuracy')\n",
    "    plt.xlabel('Epoch')\n",
    "    plt.legend(['Train', 'Test'], loc='upper left')\n",
    "    plt.show()"
   ]
  },
  {
   "cell_type": "code",
   "execution_count": 16,
   "metadata": {},
   "outputs": [
    {
     "data": {
      "image/png": "[encoded data removed]",
      "text/plain": [
       "<Figure size 432x288 with 1 Axes>"
      ]
     },
     "metadata": {
      "needs_background": "light"
     },
     "output_type": "display_data"
    },
    {
     "data": {
      "image/png": "[encoded data removed]",
      "text/plain": [
       "<Figure size 432x288 with 1 Axes>"
      ]
     },
     "metadata": {
      "needs_background": "light"
     },
     "output_type": "display_data"
    }
   ],
   "source": [
    "show_loss(history)"
   ]
  },
  {
   "cell_type": "markdown",
   "metadata": {},
   "source": [
    "На первом графике явно видно переобучение: в какой-то момент ошибка на валидационных данных начинает расти. Далее рассмотрены способы избежать данной ситуации."
   ]
  },
  {
   "cell_type": "markdown",
   "metadata": {},
   "source": [
    "<b>Переобучение</b> — это результат чрезмерной подгонки параметров модели к зависимостям, содержащимся в обучающем множестве. Если происходит переобучение, то модель не приобретает способности к обобщению — возможности распространять обнаруженные на обучающем множестве зависимости и закономерности на новые данные. Такая модель на практике оказывается бесполезной, даже если её ошибка обучения мала."
   ]
  },
  {
   "cell_type": "markdown",
   "metadata": {},
   "source": [
    "## Полносвязная многослойная модель. Регуляризация и Dropout.\n",
    "\n",
    "Импортируем нужные библиотеки"
   ]
  },
  {
   "cell_type": "code",
   "execution_count": 10,
   "metadata": {},
   "outputs": [
    {
     "name": "stdout",
     "output_type": "stream",
     "text": [
      "2.4.3\n"
     ]
    }
   ],
   "source": [
    "import keras\n",
    "from keras import regularizers # Регуляризаторы\n",
    "from keras.datasets import mnist # Датасет\n",
    "from keras.models import Sequential # Базовый класс для создания нейронной сети\n",
    "from keras.layers import Flatten, Dense, Dropout # Два вида слоёв нейронное сети, которые будут использоваться\n",
    "from keras.utils import np_utils # Утилиты для one-hot encoding\n",
    "\n",
    "import numpy as np\n",
    "import matplotlib.pyplot as plt\n",
    "\n",
    "print(keras.__version__)"
   ]
  },
  {
   "cell_type": "markdown",
   "metadata": {},
   "source": [
    "Выполним загрузку и подготовку данных."
   ]
  },
  {
   "cell_type": "code",
   "execution_count": 11,
   "metadata": {},
   "outputs": [],
   "source": [
    "(train_images, train_labels), (test_images, test_labels) = mnist.load_data()\n",
    "\n",
    "train_images = train_images / 255.0\n",
    "test_images = test_images / 255.0\n",
    "\n",
    "validation_images = train_images[:1000]\n",
    "validation_labels = train_labels[:1000]\n",
    "\n",
    "train_images = train_images[1000:]\n",
    "train_labels = train_labels[1000:]"
   ]
  },
  {
   "cell_type": "markdown",
   "metadata": {},
   "source": [
    "### Регуляризация\n",
    "\n",
    "Попробуем избежать переобучения, добавив регуляризацию l2 на каждый слой. В Keras это можно сделать с помощью аргумента `kernel_regularizer` при создании слоя."
   ]
  },
  {
   "cell_type": "code",
   "execution_count": 12,
   "metadata": {},
   "outputs": [],
   "source": [
    "model = Sequential([\n",
    "    Flatten(input_shape=(28, 28)),\n",
    "    Dense(256, activation='relu', kernel_regularizer=regularizers.l2(0.01)),\n",
    "    Dense(128, activation='relu', kernel_regularizer=regularizers.l2(0.01)),\n",
    "    Dense(64, activation='relu', kernel_regularizer=regularizers.l2(0.01)),\n",
    "    Dense(10, activation='softmax')\n",
    "])"
   ]
  },
  {
   "cell_type": "markdown",
   "metadata": {},
   "source": [
    "Далее обучим модель и посмотрим на графики."
   ]
  },
  {
   "cell_type": "code",
   "execution_count": 13,
   "metadata": {},
   "outputs": [],
   "source": [
    "model.compile(optimizer='adam',\n",
    "              loss='sparse_categorical_crossentropy',\n",
    "              metrics=['accuracy'])"
   ]
  },
  {
   "cell_type": "code",
   "execution_count": 14,
   "metadata": {},
   "outputs": [
    {
     "name": "stdout",
     "output_type": "stream",
     "text": [
      "Epoch 1/20\n",
      "461/461 [==============================] - 1s 2ms/step - loss: 1.5748 - accuracy: 0.8814 - val_loss: 0.7490 - val_accuracy: 0.9150\n",
      "Epoch 2/20\n",
      "461/461 [==============================] - 1s 1ms/step - loss: 0.6852 - accuracy: 0.9176 - val_loss: 0.6132 - val_accuracy: 0.9370\n",
      "Epoch 3/20\n",
      "461/461 [==============================] - 1s 1ms/step - loss: 0.6021 - accuracy: 0.9254 - val_loss: 0.5700 - val_accuracy: 0.9240\n",
      "Epoch 4/20\n",
      "461/461 [==============================] - 1s 1ms/step - loss: 0.5558 - accuracy: 0.9326 - val_loss: 0.5516 - val_accuracy: 0.9370\n",
      "Epoch 5/20\n",
      "461/461 [==============================] - 1s 1ms/step - loss: 0.5179 - accuracy: 0.9381 - val_loss: 0.5100 - val_accuracy: 0.9320\n",
      "Epoch 6/20\n",
      "461/461 [==============================] - 1s 1ms/step - loss: 0.4949 - accuracy: 0.9410 - val_loss: 0.4711 - val_accuracy: 0.9510\n",
      "Epoch 7/20\n",
      "461/461 [==============================] - 1s 2ms/step - loss: 0.4685 - accuracy: 0.9445 - val_loss: 0.4549 - val_accuracy: 0.9510\n",
      "Epoch 8/20\n",
      "461/461 [==============================] - 1s 1ms/step - loss: 0.4500 - accuracy: 0.9464 - val_loss: 0.4787 - val_accuracy: 0.9300\n",
      "Epoch 9/20\n",
      "461/461 [==============================] - 1s 1ms/step - loss: 0.4349 - accuracy: 0.9486 - val_loss: 0.4257 - val_accuracy: 0.9540\n",
      "Epoch 10/20\n",
      "461/461 [==============================] - 1s 1ms/step - loss: 0.4183 - accuracy: 0.9509 - val_loss: 0.4294 - val_accuracy: 0.9510\n",
      "Epoch 11/20\n",
      "461/461 [==============================] - 1s 2ms/step - loss: 0.4073 - accuracy: 0.9513 - val_loss: 0.4288 - val_accuracy: 0.9510\n",
      "Epoch 12/20\n",
      "461/461 [==============================] - 1s 2ms/step - loss: 0.3967 - accuracy: 0.9536 - val_loss: 0.3888 - val_accuracy: 0.9580\n",
      "Epoch 13/20\n",
      "461/461 [==============================] - 1s 1ms/step - loss: 0.3890 - accuracy: 0.9531 - val_loss: 0.3874 - val_accuracy: 0.9630\n",
      "Epoch 14/20\n",
      "461/461 [==============================] - 1s 2ms/step - loss: 0.3771 - accuracy: 0.9558 - val_loss: 0.3686 - val_accuracy: 0.9670\n",
      "Epoch 15/20\n",
      "461/461 [==============================] - 1s 2ms/step - loss: 0.3695 - accuracy: 0.9557 - val_loss: 0.3681 - val_accuracy: 0.9640\n",
      "Epoch 16/20\n",
      "461/461 [==============================] - 1s 2ms/step - loss: 0.3622 - accuracy: 0.9574 - val_loss: 0.3823 - val_accuracy: 0.9570\n",
      "Epoch 17/20\n",
      "461/461 [==============================] - 1s 2ms/step - loss: 0.3591 - accuracy: 0.9562 - val_loss: 0.3659 - val_accuracy: 0.9580\n",
      "Epoch 18/20\n",
      "461/461 [==============================] - 1s 2ms/step - loss: 0.3511 - accuracy: 0.9571 - val_loss: 0.3656 - val_accuracy: 0.9650\n",
      "Epoch 19/20\n",
      "461/461 [==============================] - 1s 2ms/step - loss: 0.3460 - accuracy: 0.9580 - val_loss: 0.3462 - val_accuracy: 0.9630\n",
      "Epoch 20/20\n",
      "461/461 [==============================] - 1s 2ms/step - loss: 0.3401 - accuracy: 0.9588 - val_loss: 0.3570 - val_accuracy: 0.9560\n"
     ]
    }
   ],
   "source": [
    "history = model.fit(\n",
    "    train_images, \n",
    "    train_labels, \n",
    "    epochs=20, \n",
    "    batch_size=128, \n",
    "    validation_data=(validation_images, validation_labels)\n",
    ")"
   ]
  },
  {
   "cell_type": "code",
   "execution_count": 15,
   "metadata": {},
   "outputs": [
    {
     "name": "stdout",
     "output_type": "stream",
     "text": [
      "313/313 - 0s - loss: 0.3452 - accuracy: 0.9538\n",
      "\n",
      "Точность на проверочных данных: 0.9538000226020813\n"
     ]
    }
   ],
   "source": [
    "test_loss, test_acc = model.evaluate(test_images,  test_labels, verbose=2)\n",
    "\n",
    "print('\\nТочность на проверочных данных:', test_acc)"
   ]
  },
  {
   "cell_type": "code",
   "execution_count": 16,
   "metadata": {},
   "outputs": [],
   "source": [
    "def show_loss(history):\n",
    "    loss = history.history['loss']\n",
    "    val_loss = history.history['val_loss']\n",
    "    epochs = range(1, len(loss) + 1)\n",
    "    plt.plot(epochs, loss, 'bo', label='Training loss')\n",
    "    plt.plot(epochs, val_loss, 'b', label='Validation loss')\n",
    "    plt.xlabel('Epochs')\n",
    "    plt.ylabel('Loss')\n",
    "    plt.legend(['Train', 'Test'], loc='upper left')\n",
    "\n",
    "    plt.show()\n",
    "\n",
    "    plt.plot(history.history['accuracy'])\n",
    "    plt.plot(history.history['val_accuracy'])\n",
    "    plt.title('Model accuracy')\n",
    "    plt.ylabel('Accuracy')\n",
    "    plt.xlabel('Epoch')\n",
    "    plt.legend(['Train', 'Test'], loc='upper left')\n",
    "    plt.show()"
   ]
  },
  {
   "cell_type": "code",
   "execution_count": 17,
   "metadata": {},
   "outputs": [
    {
     "data": {
      "image/png": "[encoded data removed]",
      "text/plain": [
       "<Figure size 432x288 with 1 Axes>"
      ]
     },
     "metadata": {
      "needs_background": "light"
     },
     "output_type": "display_data"
    },
    {
     "data": {
      "image/png": "[encoded data removed]",
      "text/plain": [
       "<Figure size 432x288 with 1 Axes>"
      ]
     },
     "metadata": {
      "needs_background": "light"
     },
     "output_type": "display_data"
    }
   ],
   "source": [
    "show_loss(history)"
   ]
  },
  {
   "cell_type": "markdown",
   "metadata": {},
   "source": [
    "Как видно, переобучения удалось избежать, однако численно точность на тестовых данных в этот раз меньше. Отсюда можно сделать вывод, что регуляризация замедляет обучение. Однако стоит заметить, что в основном важнее именно избежать переобучения, а не добиться максимальной скорости."
   ]
  },
  {
   "cell_type": "markdown",
   "metadata": {},
   "source": [
    "### Dropout\n",
    "\n",
    "Следующий способ борьбы с переобучением: Dropout. В Keras данный метод реализован в виде отдельного слоя. Возьмём ту же самую модель и добавим Dropout к каждому скрытому слою. dropout_rate везде положим равным 0.5."
   ]
  },
  {
   "cell_type": "code",
   "execution_count": 18,
   "metadata": {},
   "outputs": [],
   "source": [
    "model = Sequential([\n",
    "    Flatten(input_shape=(28, 28)),\n",
    "    Dense(256, activation='relu'),\n",
    "    Dropout(0.5),\n",
    "    Dense(128, activation='relu'),\n",
    "    Dropout(0.5),\n",
    "    Dense(64, activation='relu'),\n",
    "    Dropout(0.5),\n",
    "    Dense(10, activation='softmax')\n",
    "])"
   ]
  },
  {
   "cell_type": "markdown",
   "metadata": {},
   "source": [
    "Обучим модель и посмотрим на графики."
   ]
  },
  {
   "cell_type": "code",
   "execution_count": 19,
   "metadata": {},
   "outputs": [],
   "source": [
    "model.compile(optimizer='adam',\n",
    "              loss='sparse_categorical_crossentropy',\n",
    "              metrics=['accuracy'])"
   ]
  },
  {
   "cell_type": "code",
   "execution_count": 20,
   "metadata": {},
   "outputs": [
    {
     "name": "stdout",
     "output_type": "stream",
     "text": [
      "Epoch 1/20\n",
      "461/461 [==============================] - 1s 2ms/step - loss: 0.7986 - accuracy: 0.7468 - val_loss: 0.2206 - val_accuracy: 0.9420\n",
      "Epoch 2/20\n",
      "461/461 [==============================] - 1s 2ms/step - loss: 0.3365 - accuracy: 0.9106 - val_loss: 0.1813 - val_accuracy: 0.9540\n",
      "Epoch 3/20\n",
      "461/461 [==============================] - 1s 2ms/step - loss: 0.2625 - accuracy: 0.9328 - val_loss: 0.1429 - val_accuracy: 0.9600\n",
      "Epoch 4/20\n",
      "461/461 [==============================] - 1s 2ms/step - loss: 0.2304 - accuracy: 0.9415 - val_loss: 0.1318 - val_accuracy: 0.9690\n",
      "Epoch 5/20\n",
      "461/461 [==============================] - 1s 2ms/step - loss: 0.1986 - accuracy: 0.9479 - val_loss: 0.1300 - val_accuracy: 0.9660\n",
      "Epoch 6/20\n",
      "461/461 [==============================] - 1s 2ms/step - loss: 0.1844 - accuracy: 0.9528 - val_loss: 0.1264 - val_accuracy: 0.9680\n",
      "Epoch 7/20\n",
      "461/461 [==============================] - 1s 2ms/step - loss: 0.1669 - accuracy: 0.9569 - val_loss: 0.1197 - val_accuracy: 0.9710\n",
      "Epoch 8/20\n",
      "461/461 [==============================] - 1s 2ms/step - loss: 0.1582 - accuracy: 0.9599 - val_loss: 0.1134 - val_accuracy: 0.9740\n",
      "Epoch 9/20\n",
      "461/461 [==============================] - 1s 2ms/step - loss: 0.1489 - accuracy: 0.9622 - val_loss: 0.1042 - val_accuracy: 0.9730\n",
      "Epoch 10/20\n",
      "461/461 [==============================] - 1s 2ms/step - loss: 0.1433 - accuracy: 0.9622 - val_loss: 0.1000 - val_accuracy: 0.9750\n",
      "Epoch 11/20\n",
      "461/461 [==============================] - 1s 2ms/step - loss: 0.1366 - accuracy: 0.9647 - val_loss: 0.1110 - val_accuracy: 0.9750\n",
      "Epoch 12/20\n",
      "461/461 [==============================] - 1s 2ms/step - loss: 0.1276 - accuracy: 0.9669 - val_loss: 0.1183 - val_accuracy: 0.9700\n",
      "Epoch 13/20\n",
      "461/461 [==============================] - 1s 2ms/step - loss: 0.1182 - accuracy: 0.9692 - val_loss: 0.1126 - val_accuracy: 0.9760\n",
      "Epoch 14/20\n",
      "461/461 [==============================] - 1s 2ms/step - loss: 0.1191 - accuracy: 0.9692 - val_loss: 0.1093 - val_accuracy: 0.9780\n",
      "Epoch 15/20\n",
      "461/461 [==============================] - 1s 2ms/step - loss: 0.1182 - accuracy: 0.9684 - val_loss: 0.1133 - val_accuracy: 0.9760\n",
      "Epoch 16/20\n",
      "461/461 [==============================] - 1s 2ms/step - loss: 0.1101 - accuracy: 0.9701 - val_loss: 0.1020 - val_accuracy: 0.9800\n",
      "Epoch 17/20\n",
      "461/461 [==============================] - 1s 2ms/step - loss: 0.1075 - accuracy: 0.9707 - val_loss: 0.1174 - val_accuracy: 0.9770\n",
      "Epoch 18/20\n",
      "461/461 [==============================] - 1s 2ms/step - loss: 0.1039 - accuracy: 0.9716 - val_loss: 0.1147 - val_accuracy: 0.9770\n",
      "Epoch 19/20\n",
      "461/461 [==============================] - 1s 2ms/step - loss: 0.1011 - accuracy: 0.9725 - val_loss: 0.1171 - val_accuracy: 0.9740\n",
      "Epoch 20/20\n",
      "461/461 [==============================] - 1s 2ms/step - loss: 0.1016 - accuracy: 0.9730 - val_loss: 0.1090 - val_accuracy: 0.9770\n"
     ]
    }
   ],
   "source": [
    "history = model.fit(\n",
    "    train_images, \n",
    "    train_labels, \n",
    "    epochs=20, \n",
    "    batch_size=128, \n",
    "    validation_data=(validation_images, validation_labels)\n",
    ")"
   ]
  },
  {
   "cell_type": "code",
   "execution_count": 28,
   "metadata": {},
   "outputs": [
    {
     "name": "stdout",
     "output_type": "stream",
     "text": [
      "313/313 - 0s - loss: 0.0866 - accuracy: 0.9803\n",
      "\n",
      "Точность на проверочных данных: 0.9803000092506409\n"
     ]
    }
   ],
   "source": [
    "test_loss, test_acc = model.evaluate(test_images,  test_labels, verbose=2)\n",
    "\n",
    "print('\\nТочность на проверочных данных:', test_acc)"
   ]
  },
  {
   "cell_type": "code",
   "execution_count": 29,
   "metadata": {},
   "outputs": [],
   "source": [
    "def show_loss(history):\n",
    "    loss = history.history['loss']\n",
    "    val_loss = history.history['val_loss']\n",
    "    epochs = range(1, len(loss) + 1)\n",
    "    plt.plot(epochs, loss, 'bo', label='Training loss')\n",
    "    plt.plot(epochs, val_loss, 'b', label='Validation loss')\n",
    "    plt.xlabel('Epochs')\n",
    "    plt.ylabel('Loss')\n",
    "    plt.legend(['Train', 'Test'], loc='upper left')\n",
    "\n",
    "    plt.show()\n",
    "\n",
    "    plt.plot(history.history['accuracy'])\n",
    "    plt.plot(history.history['val_accuracy'])\n",
    "    plt.title('Model accuracy')\n",
    "    plt.ylabel('Accuracy')\n",
    "    plt.xlabel('Epoch')\n",
    "    plt.legend(['Train', 'Test'], loc='upper left')\n",
    "    plt.show()"
   ]
  },
  {
   "cell_type": "code",
   "execution_count": 30,
   "metadata": {},
   "outputs": [
    {
     "data": {
      "image/png": "[encoded data removed]",
      "text/plain": [
       "<Figure size 432x288 with 1 Axes>"
      ]
     },
     "metadata": {
      "needs_background": "light"
     },
     "output_type": "display_data"
    },
    {
     "data": {
      "image/png": "[encoded data removed]",
      "text/plain": [
       "<Figure size 432x288 with 1 Axes>"
      ]
     },
     "metadata": {
      "needs_background": "light"
     },
     "output_type": "display_data"
    }
   ],
   "source": [
    "show_loss(history)"
   ]
  },
  {
   "cell_type": "markdown",
   "metadata": {},
   "source": [
    "В данном случае dropout отработал просто отлично: точность на тренировочных данных даже повысилась, а переобучения почти нет. Однако стоит заметить, что время обучения возрасло в 2-3 раза."
   ]
  }
 ],
 "metadata": {
  "kernelspec": {
   "display_name": "Python 3",
   "language": "python",
   "name": "python3"
  },
  "language_info": {
   "codemirror_mode": {
    "name": "ipython",
    "version": 3
   },
   "file_extension": ".py",
   "mimetype": "text/x-python",
   "name": "python",
   "nbconvert_exporter": "python",
   "pygments_lexer": "ipython3",
   "version": "3.7.7"
  }
 },
 "nbformat": 4,
 "nbformat_minor": 4
}
