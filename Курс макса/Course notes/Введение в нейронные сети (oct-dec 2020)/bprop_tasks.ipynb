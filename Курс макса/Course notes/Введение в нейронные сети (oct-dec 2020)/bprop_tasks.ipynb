{
 "cells": [
  {
   "cell_type": "markdown",
   "metadata": {},
   "source": [
    "1. Постройте граф вычислений и найдите производную $\\frac{\\partial f}{\\partial x}$ для функции $$f(h(x))$$\n",
    "\n",
    "    *Ответ*:\n",
    "    $$\\frac{\\partial f}{\\partial h}*\n",
    "\\frac{\\partial h}{\\partial x}$$\n",
    "    \n",
    "    ![ответ](backprop_answers/1.png)"
   ]
  },
  {
   "cell_type": "markdown",
   "metadata": {},
   "source": [
    "2. Постройте граф вычислений и найдите производную $\\frac{\\partial f}{\\partial x}$ для функции $$f(h(x), g(x))$$\n",
    "\n",
    "    *Ответ*:\n",
    "    \n",
    "    $$\\frac{\\partial f}{\\partial h}*\n",
    "\\frac{\\partial h}{\\partial x} \n",
    "+ \n",
    "\\frac{\\partial f}{\\partial g}*\n",
    "\\frac{\\partial g}{\\partial x}$$\n",
    "\n",
    "    ![ответ](backprop_answers/2.png)"
   ]
  },
  {
   "cell_type": "markdown",
   "metadata": {},
   "source": [
    "3. Постройте граф вычислений и найдите производную по $x$ для функции $$f(h(w(x), y(x)), g(y(x), z(x)))$$\n",
    "\n",
    "    <details>\n",
    "      <summary markdown=\"span\">Ответ</summary>\n",
    "\n",
    "      $$\\frac{\\partial f}{\\partial h}*(\n",
    "      \\frac{\\partial h}{\\partial w}*\\frac{\\partial w}{\\partial x}+\n",
    "      \\frac{\\partial h}{\\partial y}*\\frac{\\partial y}{\\partial x})\n",
    "      + \n",
    "      \\frac{\\partial f}{\\partial g}*(\n",
    "      \\frac{\\partial g}{\\partial y}*\\frac{\\partial y}{\\partial x}\n",
    "      +\n",
    "      \\frac{\\partial g}{\\partial z}**\\frac{\\partial z}{\\partial x})$$\n",
    "\n",
    "      ![ответ](backprop_answers/3.png)\n",
    "    </details>"
   ]
  },
  {
   "cell_type": "markdown",
   "metadata": {},
   "source": [
    "4. Даны функции: \n",
    "    $$a=w_{ab}*b+w_{ac}*c+w_{ad}*d+w_{a},$$\n",
    "    $$b=w_{bx}*x+w_{b},$$\n",
    "    $$c=w_{cx}*x+w_{c},$$\n",
    "    $$d=w_{dx}*x+w_{d};$$\n",
    "    \n",
    "    1) Найдите производные $\\frac{\\partial a}{\\partial b}$, $\\frac{\\partial a}{\\partial c}$, $\\frac{\\partial a}{\\partial d}$, $\\frac{\\partial b}{\\partial x}$, $\\frac{\\partial c}{\\partial x}$, $\\frac{\\partial d}{\\partial x}$;\n",
    "    \n",
    "    2) Постройте граф вычислений и найдите производную $\\frac{\\partial a}{\\partial x}$ (без подстановки из шага 1);\n",
    "    \n",
    "    3) Используя предыдущие шаги, найдите производную $\\frac{\\partial a}{\\partial x}$.\n",
    "    \n",
    "    4) Используя предыдущие шаги, найдите производные $\\frac{\\partial a}{\\partial w_{ab}}$, $\\frac{\\partial a}{\\partial w_{ac}}$, $\\frac{\\partial a}{\\partial w_{ad}}$, $\\frac{\\partial a}{\\partial w_{a}}$, $\\frac{\\partial a}{\\partial w_{bx}}$, $\\frac{\\partial a}{\\partial w_{b}}$, $\\frac{\\partial a}{\\partial w_{cx}}$, $\\frac{\\partial a}{\\partial w_{c}}$, $\\frac{\\partial a}{\\partial w_{dx}}$, $\\frac{\\partial a}{\\partial w_{d}}$."
   ]
  },
  {
   "cell_type": "markdown",
   "metadata": {},
   "source": [
    "5. Дан граф (прямое распространение слева направо):\n",
    "    \n",
    "    ![граф](backprop_answers/6.png)\n",
    "    \n",
    "    Каждый из узлов имеет вид: $j=\\sum{w_{ji}*x_{ji}}+b_j$, где j - текущий узел, $x_{ji}$ - i-й вход узла j, $w_{ji}$ - i-й вес, $b_j$ - смещение. Например, $y$ имеет вид:\n",
    "    $$y=w_{ya}*a+w_{yb}*b+w_{yc}*c+b_y$$\n",
    "    \n",
    "    1) Найдите производные вида $\\frac{\\partial j}{\\partial x_{ji}}$, т.е. производные каждого узла по каждому его входу.\n",
    "    \n",
    "    2) Не расписывая в полную цепочку, найдите производные вида $\\frac{\\partial y}{\\partial j}$, т.е. производные $y$ по каждому узлу (включая $\\frac{\\partial y}{\\partial x}$).\n",
    "    \n",
    "    3) Найдите производные вида $\\frac{\\partial j}{\\partial w_{ji}}$, т.е. производные каждого узла по каждому его весу.\n",
    "    \n",
    "    4) Найдите производные вида $\\frac{\\partial y}{\\partial w_{ji}}$, т.е. производные $y$ по каждому весу каждого узла."
   ]
  },
  {
   "cell_type": "code",
   "execution_count": null,
   "metadata": {},
   "outputs": [],
   "source": []
  }
 ],
 "metadata": {
  "kernelspec": {
   "display_name": "Python 3",
   "language": "python",
   "name": "python3"
  },
  "language_info": {
   "codemirror_mode": {
    "name": "ipython",
    "version": 3
   },
   "file_extension": ".py",
   "mimetype": "text/x-python",
   "name": "python",
   "nbconvert_exporter": "python",
   "pygments_lexer": "ipython3",
   "version": "3.7.7"
  }
 },
 "nbformat": 4,
 "nbformat_minor": 4
}
