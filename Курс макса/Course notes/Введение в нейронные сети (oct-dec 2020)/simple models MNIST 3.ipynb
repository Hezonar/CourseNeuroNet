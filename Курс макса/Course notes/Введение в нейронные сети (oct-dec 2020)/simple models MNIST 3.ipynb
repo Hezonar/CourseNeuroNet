{
 "cells": [
  {
   "cell_type": "markdown",
   "metadata": {},
   "source": [
    "# Простые классификаторы MNIST. Часть 3. Сверточные архитектуры.\n",
    "\n",
    "Пример обучения сверточных сетей для классификации изображений MNIST. "
   ]
  },
  {
   "cell_type": "code",
   "execution_count": 11,
   "metadata": {},
   "outputs": [
    {
     "name": "stdout",
     "output_type": "stream",
     "text": [
      "2.3.1\n"
     ]
    }
   ],
   "source": [
    "import keras\n",
    "from keras.regularizers import l1_l2 # Регуляризаторы\n",
    "from keras.datasets import mnist # Датасет\n",
    "from keras.models import Sequential # Базовый класс для создания нейронной сети\n",
    "from keras.layers import Flatten, Dense # Два вида слоёв нейронное сети, которые будут использоваться\n",
    "from keras.layers import Conv2D, MaxPooling2D, Flatten, Dense, BatchNormalization, Dropout, LeakyReLU\n",
    "from keras.utils import np_utils # Утилиты для one-hot encoding\n",
    "from keras.preprocessing.image import ImageDataGenerator\n",
    "\n",
    "import numpy as np\n",
    "import matplotlib.pyplot as plt\n",
    "\n",
    "print(keras.__version__)"
   ]
  },
  {
   "cell_type": "markdown",
   "metadata": {},
   "source": [
    "Загрузим данные."
   ]
  },
  {
   "cell_type": "code",
   "execution_count": 4,
   "metadata": {},
   "outputs": [],
   "source": [
    "(train_images, train_labels), (test_images, test_labels) = mnist.load_data()"
   ]
  },
  {
   "cell_type": "markdown",
   "metadata": {},
   "source": [
    "Как мы уже знаем, изображения в нашем датасете представляют из себя матрицы 28 на 28. Сверточные же слои в keras устроены таким образом, чтобы удобно работать с rgb-изображениями и т.п., которые представляют из себя несколько матриц или трехмерного тензора. Чтобы соответствовать данному требованию, добавим одну размерность к нашим изображениям, чтобы получилось 28 на 28 на 1. Фактически, это то же самое, что и 28 на 28, но тензоры данного вида можно подавать в сверточную сеть."
   ]
  },
  {
   "cell_type": "code",
   "execution_count": 5,
   "metadata": {},
   "outputs": [],
   "source": [
    "train_images = train_images.reshape(60000, 28, 28, 1)\n",
    "test_images = test_images.reshape(10000, 28, 28, 1)"
   ]
  },
  {
   "cell_type": "markdown",
   "metadata": {},
   "source": [
    "Кроме того, подготовим данные так же, как и в предыдущих примерах."
   ]
  },
  {
   "cell_type": "code",
   "execution_count": 6,
   "metadata": {},
   "outputs": [],
   "source": [
    "train_images = train_images / 255.0\n",
    "test_images = test_images / 255.0\n",
    "\n",
    "validation_images = train_images[:1000]\n",
    "validation_labels = train_labels[:1000]\n",
    "\n",
    "train_images = train_images[1000:]\n",
    "train_labels = train_labels[1000:]"
   ]
  },
  {
   "cell_type": "markdown",
   "metadata": {},
   "source": [
    "Аугментация данных."
   ]
  },
  {
   "cell_type": "code",
   "execution_count": 12,
   "metadata": {},
   "outputs": [],
   "source": [
    "datagen = ImageDataGenerator(\n",
    "    rotation_range=30,\n",
    "    width_shift_range=0.2,\n",
    "    height_shift_range=0.2,\n",
    "    horizontal_flip=True,\n",
    "    vertical_flip=True)"
   ]
  },
  {
   "cell_type": "code",
   "execution_count": 13,
   "metadata": {},
   "outputs": [],
   "source": [
    "datagen.fit(train_images)"
   ]
  },
  {
   "cell_type": "markdown",
   "metadata": {},
   "source": [
    "Сверточная сеть."
   ]
  },
  {
   "cell_type": "code",
   "execution_count": 24,
   "metadata": {},
   "outputs": [
    {
     "name": "stdout",
     "output_type": "stream",
     "text": [
      "Model: \"sequential_2\"\n",
      "_________________________________________________________________\n",
      "Layer (type)                 Output Shape              Param #   \n",
      "=================================================================\n",
      "conv2d_3 (Conv2D)            (None, 26, 26, 32)        320       \n",
      "_________________________________________________________________\n",
      "leaky_re_lu_4 (LeakyReLU)    (None, 26, 26, 32)        0         \n",
      "_________________________________________________________________\n",
      "max_pooling2d_3 (MaxPooling2 (None, 13, 13, 32)        0         \n",
      "_________________________________________________________________\n",
      "conv2d_4 (Conv2D)            (None, 11, 11, 64)        18496     \n",
      "_________________________________________________________________\n",
      "leaky_re_lu_5 (LeakyReLU)    (None, 11, 11, 64)        0         \n",
      "_________________________________________________________________\n",
      "conv2d_5 (Conv2D)            (None, 9, 9, 64)          36928     \n",
      "_________________________________________________________________\n",
      "leaky_re_lu_6 (LeakyReLU)    (None, 9, 9, 64)          0         \n",
      "_________________________________________________________________\n",
      "max_pooling2d_4 (MaxPooling2 (None, 4, 4, 64)          0         \n",
      "_________________________________________________________________\n",
      "flatten_2 (Flatten)          (None, 1024)              0         \n",
      "_________________________________________________________________\n",
      "dense_3 (Dense)              (None, 64)                65600     \n",
      "_________________________________________________________________\n",
      "batch_normalization_2 (Batch (None, 64)                256       \n",
      "_________________________________________________________________\n",
      "leaky_re_lu_7 (LeakyReLU)    (None, 64)                0         \n",
      "_________________________________________________________________\n",
      "dropout_2 (Dropout)          (None, 64)                0         \n",
      "_________________________________________________________________\n",
      "dense_4 (Dense)              (None, 10)                650       \n",
      "=================================================================\n",
      "Total params: 122,250\n",
      "Trainable params: 122,122\n",
      "Non-trainable params: 128\n",
      "_________________________________________________________________\n"
     ]
    }
   ],
   "source": [
    "model = Sequential([\n",
    "    Conv2D(32, (3, 3), kernel_regularizer=l1_l2(l1=1e-4, l2=1e-3), input_shape=(28, 28, 1)),\n",
    "    LeakyReLU(),\n",
    "    MaxPooling2D((2, 2)),\n",
    "    \n",
    "    Conv2D(64, (3, 3), kernel_regularizer=l1_l2(l1=1e-4, l2=1e-3)),\n",
    "    LeakyReLU(),\n",
    "    Conv2D(64, (3, 3), kernel_regularizer=l1_l2(l1=1e-4, l2=1e-3)),\n",
    "    LeakyReLU(),\n",
    "    MaxPooling2D((2, 2)),\n",
    "    \n",
    "    Flatten(),\n",
    "    Dense(64, kernel_regularizer=l1_l2(l1=1e-4, l2=1e-3)),\n",
    "    BatchNormalization(),\n",
    "    LeakyReLU(),\n",
    "    Dropout(0.4),\n",
    "    \n",
    "    Dense(10, activation='softmax')\n",
    "])\n",
    "\n",
    "model.summary()"
   ]
  },
  {
   "cell_type": "code",
   "execution_count": 25,
   "metadata": {},
   "outputs": [],
   "source": [
    "model.compile(optimizer='adam',\n",
    "              loss='sparse_categorical_crossentropy',\n",
    "              metrics=['accuracy'])"
   ]
  },
  {
   "cell_type": "code",
   "execution_count": 26,
   "metadata": {},
   "outputs": [
    {
     "name": "stdout",
     "output_type": "stream",
     "text": [
      "Epoch 1/25\n",
      "922/921 [==============================] - 42s 45ms/step - loss: 1.3598 - accuracy: 0.5448 - val_loss: 0.7472 - val_accuracy: 0.7880\n",
      "Epoch 2/25\n",
      "922/921 [==============================] - 41s 44ms/step - loss: 0.8928 - accuracy: 0.7247 - val_loss: 0.7042 - val_accuracy: 0.8120\n",
      "Epoch 3/25\n",
      "922/921 [==============================] - 42s 46ms/step - loss: 0.7431 - accuracy: 0.7822 - val_loss: 0.8954 - val_accuracy: 0.7520\n",
      "Epoch 4/25\n",
      "922/921 [==============================] - 44s 47ms/step - loss: 0.6806 - accuracy: 0.8052 - val_loss: 0.5217 - val_accuracy: 0.8610\n",
      "Epoch 5/25\n",
      "922/921 [==============================] - 41s 45ms/step - loss: 0.6428 - accuracy: 0.8215 - val_loss: 0.4267 - val_accuracy: 0.8900\n",
      "Epoch 6/25\n",
      "922/921 [==============================] - 41s 45ms/step - loss: 0.6166 - accuracy: 0.8326 - val_loss: 0.4160 - val_accuracy: 0.9140\n",
      "Epoch 7/25\n",
      "922/921 [==============================] - 42s 46ms/step - loss: 0.6069 - accuracy: 0.8375 - val_loss: 0.9960 - val_accuracy: 0.7330\n",
      "Epoch 8/25\n",
      "922/921 [==============================] - 41s 45ms/step - loss: 0.5926 - accuracy: 0.8419 - val_loss: 0.5851 - val_accuracy: 0.8510\n",
      "Epoch 9/25\n",
      "922/921 [==============================] - 42s 45ms/step - loss: 0.5855 - accuracy: 0.8457 - val_loss: 0.4203 - val_accuracy: 0.9120\n",
      "Epoch 10/25\n",
      "922/921 [==============================] - 43s 47ms/step - loss: 0.5730 - accuracy: 0.8501 - val_loss: 0.5383 - val_accuracy: 0.8710\n",
      "Epoch 11/25\n",
      "922/921 [==============================] - 45s 49ms/step - loss: 0.5656 - accuracy: 0.8535 - val_loss: 0.5091 - val_accuracy: 0.8720\n",
      "Epoch 12/25\n",
      "922/921 [==============================] - 45s 49ms/step - loss: 0.5635 - accuracy: 0.8540 - val_loss: 0.5639 - val_accuracy: 0.8530\n",
      "Epoch 13/25\n",
      "922/921 [==============================] - 45s 49ms/step - loss: 0.5547 - accuracy: 0.8582 - val_loss: 0.5334 - val_accuracy: 0.8700\n",
      "Epoch 14/25\n",
      "922/921 [==============================] - 47s 51ms/step - loss: 0.5530 - accuracy: 0.8581 - val_loss: 0.3931 - val_accuracy: 0.9200\n",
      "Epoch 15/25\n",
      "922/921 [==============================] - 47s 51ms/step - loss: 0.5539 - accuracy: 0.8586 - val_loss: 0.3975 - val_accuracy: 0.9110\n",
      "Epoch 16/25\n",
      "922/921 [==============================] - 46s 50ms/step - loss: 0.5416 - accuracy: 0.8624 - val_loss: 0.4509 - val_accuracy: 0.9050\n",
      "Epoch 17/25\n",
      "922/921 [==============================] - 49s 53ms/step - loss: 0.5428 - accuracy: 0.8621 - val_loss: 0.3688 - val_accuracy: 0.9210\n",
      "Epoch 18/25\n",
      "922/921 [==============================] - 50s 54ms/step - loss: 0.5374 - accuracy: 0.8638 - val_loss: 0.4633 - val_accuracy: 0.8840\n",
      "Epoch 19/25\n",
      "922/921 [==============================] - 47s 51ms/step - loss: 0.5349 - accuracy: 0.8653 - val_loss: 0.4345 - val_accuracy: 0.9100\n",
      "Epoch 20/25\n",
      "922/921 [==============================] - 47s 51ms/step - loss: 0.5290 - accuracy: 0.8696 - val_loss: 0.4927 - val_accuracy: 0.8930\n",
      "Epoch 21/25\n",
      "922/921 [==============================] - 47s 51ms/step - loss: 0.5344 - accuracy: 0.8658 - val_loss: 0.4482 - val_accuracy: 0.8960\n",
      "Epoch 22/25\n",
      "922/921 [==============================] - 46s 50ms/step - loss: 0.5239 - accuracy: 0.8701 - val_loss: 0.3953 - val_accuracy: 0.9200\n",
      "Epoch 23/25\n",
      "922/921 [==============================] - 47s 51ms/step - loss: 0.5229 - accuracy: 0.8699 - val_loss: 0.4278 - val_accuracy: 0.9070\n",
      "Epoch 24/25\n",
      "922/921 [==============================] - 48s 52ms/step - loss: 0.5234 - accuracy: 0.8700 - val_loss: 0.4232 - val_accuracy: 0.8990\n",
      "Epoch 25/25\n",
      "922/921 [==============================] - 48s 52ms/step - loss: 0.5182 - accuracy: 0.8714 - val_loss: 0.3511 - val_accuracy: 0.9300\n"
     ]
    }
   ],
   "source": [
    "EPOCHS = 25\n",
    "BATCH_SIZE = 64\n",
    "\n",
    "history = model.fit(\n",
    "    datagen.flow(train_images, train_labels, batch_size=BATCH_SIZE),\n",
    "    steps_per_epoch=len(train_images) / BATCH_SIZE, \n",
    "    epochs=EPOCHS,\n",
    "    validation_data=(validation_images, validation_labels)\n",
    ")"
   ]
  },
  {
   "cell_type": "markdown",
   "metadata": {},
   "source": [
    "Оценим точность и выведем историю обучения."
   ]
  },
  {
   "cell_type": "code",
   "execution_count": 27,
   "metadata": {},
   "outputs": [
    {
     "name": "stdout",
     "output_type": "stream",
     "text": [
      "\n",
      "Точность на проверочных данных: 0.925000011920929\n"
     ]
    }
   ],
   "source": [
    "test_loss, test_acc = model.evaluate(test_images,  test_labels, verbose=2)\n",
    "\n",
    "print('\\nТочность на проверочных данных:', test_acc)"
   ]
  },
  {
   "cell_type": "code",
   "execution_count": 28,
   "metadata": {},
   "outputs": [],
   "source": [
    "def show_loss(history):\n",
    "    loss = history.history['loss']\n",
    "    val_loss = history.history['val_loss']\n",
    "    epochs = range(1, len(loss) + 1)\n",
    "    plt.plot(epochs, loss, 'bo', label='Training loss')\n",
    "    plt.plot(epochs, val_loss, 'b', label='Validation loss')\n",
    "    plt.xlabel('Epochs')\n",
    "    plt.ylabel('Loss')\n",
    "    plt.legend(['Train', 'Test'], loc='upper left')\n",
    "\n",
    "    plt.show()\n",
    "\n",
    "    plt.plot(history.history['accuracy'])\n",
    "    plt.plot(history.history['val_accuracy'])\n",
    "    plt.title('Model accuracy')\n",
    "    plt.ylabel('Accuracy')\n",
    "    plt.xlabel('Epoch')\n",
    "    plt.legend(['Train', 'Test'], loc='upper left')\n",
    "    plt.show()"
   ]
  },
  {
   "cell_type": "code",
   "execution_count": 29,
   "metadata": {},
   "outputs": [
    {
     "data": {
      "image/png": "[encoded data removed]",
      "text/plain": [
       "<Figure size 432x288 with 1 Axes>"
      ]
     },
     "metadata": {
      "needs_background": "light"
     },
     "output_type": "display_data"
    },
    {
     "data": {
      "image/png": "[encoded data removed]",
      "text/plain": [
       "<Figure size 432x288 with 1 Axes>"
      ]
     },
     "metadata": {
      "needs_background": "light"
     },
     "output_type": "display_data"
    }
   ],
   "source": [
    "show_loss(history)"
   ]
  },
  {
   "cell_type": "markdown",
   "metadata": {},
   "source": [
    "На самом деле точность - не самая показательная метрика. Представим себе, что данные состоят на 99% из класса 1, и на 1% из класса 2, а модель выдает константу - класс 1. Мы будем видеть точность 99%, но на самом деле модель работает очень плохо. Для решения этой проблемы стоит использовать более показательные метрики, например, f1 score.\n",
    "\n",
    "В данном примере воспользуемся так называемой confusion matrix, которая будет более детально описывать выводы модели. Идея простая: строки матрицы будут отвечать за класс, а столбцы за то, с какой частотой этот класс принимается за другой. В идеальном случае матрица будет единичной."
   ]
  },
  {
   "cell_type": "code",
   "execution_count": 2,
   "metadata": {},
   "outputs": [],
   "source": [
    "import itertools\n",
    "def plot_confusion_matrix(cm, class_names):\n",
    "    \"\"\"\n",
    "    Returns a matplotlib figure containing the plotted confusion matrix.\n",
    "    \n",
    "    Args:\n",
    "        cm (array, shape = [n, n]): a confusion matrix of integer classes\n",
    "        class_names (array, shape = [n]): String names of the integer classes\n",
    "    \"\"\"\n",
    "    figure = plt.figure(figsize=(8, 8))\n",
    "    plt.imshow(cm, interpolation='nearest', cmap=plt.cm.Blues)\n",
    "    plt.title(\"Confusion matrix\")\n",
    "    plt.colorbar()\n",
    "    tick_marks = np.arange(len(class_names))\n",
    "    plt.xticks(tick_marks, class_names, rotation=45)\n",
    "    plt.yticks(tick_marks, class_names)\n",
    "\n",
    "    # Normalize the confusion matrix.\n",
    "    cm = np.around(cm.astype('float') / cm.sum(axis=1)[:, np.newaxis], decimals=2)\n",
    "\n",
    "    # Use white text if squares are dark; otherwise black.\n",
    "    threshold = cm.max() / 2.\n",
    "    for i, j in itertools.product(range(cm.shape[0]), range(cm.shape[1])):\n",
    "        color = \"white\" if cm[i, j] > threshold else \"black\"\n",
    "        plt.text(j, i, cm[i, j], horizontalalignment=\"center\", color=color)\n",
    "\n",
    "    plt.tight_layout()\n",
    "    plt.ylabel('True label')\n",
    "    plt.xlabel('Predicted label')\n",
    "    return figure"
   ]
  },
  {
   "cell_type": "code",
   "execution_count": 31,
   "metadata": {},
   "outputs": [
    {
     "data": {
      "image/png": "[encoded data removed]",
      "text/plain": [
       "<Figure size 576x576 with 2 Axes>"
      ]
     },
     "metadata": {
      "needs_background": "light"
     },
     "output_type": "display_data"
    }
   ],
   "source": [
    "pred_labels = model.predict(test_images)\n",
    "\n",
    "from sklearn import metrics\n",
    "class_names = ['0', '1', '2', '3', '4', '5', '6', '7', '8', '9']\n",
    "con_mat = metrics.confusion_matrix(test_labels, pred_labels.argmax(axis=1))\n",
    "\n",
    "plot_confusion_matrix(con_mat, class_names)\n",
    "plt.show()"
   ]
  },
  {
   "cell_type": "markdown",
   "metadata": {},
   "source": [
    "В примере выше мы видим, что цифру 6 с частотой 0.8 модель распознает правильно, а в 0.14 случаях как 9. Можно сделать предположение, что данная проблема вызвана поворотами и отражениями при аугментации данных, ведь при достаточном повороте цифра 9 превращается в 6 и наоборот.\n",
    "\n",
    "Таким образом, с помощью несложной визуализации мы теперь отчетливо видим, какой класс плохо распознается, с какими другими классами его путает модель и т.д. "
   ]
  },
  {
   "cell_type": "code",
   "execution_count": null,
   "metadata": {},
   "outputs": [],
   "source": []
  }
 ],
 "metadata": {
  "kernelspec": {
   "display_name": "Python 3",
   "language": "python",
   "name": "python3"
  },
  "language_info": {
   "codemirror_mode": {
    "name": "ipython",
    "version": 3
   },
   "file_extension": ".py",
   "mimetype": "text/x-python",
   "name": "python",
   "nbconvert_exporter": "python",
   "pygments_lexer": "ipython3",
   "version": "3.7.7"
  }
 },
 "nbformat": 4,
 "nbformat_minor": 4
}
