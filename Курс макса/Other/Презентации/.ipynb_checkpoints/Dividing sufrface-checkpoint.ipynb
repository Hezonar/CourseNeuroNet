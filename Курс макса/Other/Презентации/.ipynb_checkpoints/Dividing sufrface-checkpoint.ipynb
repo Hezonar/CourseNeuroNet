{
 "cells": [
  {
   "cell_type": "markdown",
   "metadata": {},
   "source": [
    "# Разделяющая поверхность"
   ]
  },
  {
   "cell_type": "markdown",
   "metadata": {},
   "source": [
    "Рассмотрим нейрон с пороговой функией активации:\n",
    "\n",
    "$$y = f(W*X + b)$$\n",
    "$$f(x) = \\begin{cases} 1, & \\mbox{if } x > 0 \\\\ 0, & \\mbox{if } x \\leq 0 \\end{cases}$$\n",
    "\n",
    "Значение $y$ меняется, когда меняется знак $W*X + b$. Тогда область, в которой это происходит, задается выражением $W*X + b = 0$. В общем случае такая область называется *разделяющей поверхностью*. Т.е. $W*X + b$ - линейная операция, то и $W*X + b = 0$ будет задавать линейный объект (прямую, плоскость и т.п.)."
   ]
  },
  {
   "cell_type": "markdown",
   "metadata": {},
   "source": [
    "### Пример 1\n",
    "\n",
    "Попробуем посмотреть, как один нейрон разделяет область данных\n",
    "\n",
    "Импортируем необходимые библиотеки"
   ]
  },
  {
   "cell_type": "code",
   "execution_count": 1,
   "metadata": {},
   "outputs": [
    {
     "name": "stderr",
     "output_type": "stream",
     "text": [
      "Using TensorFlow backend.\n"
     ]
    },
    {
     "name": "stdout",
     "output_type": "stream",
     "text": [
      "2.3.1\n"
     ]
    }
   ],
   "source": [
    "import keras\n",
    "\n",
    "import numpy as np\n",
    "import matplotlib.pyplot as plt\n",
    "\n",
    "print(keras.__version__)"
   ]
  },
  {
   "cell_type": "markdown",
   "metadata": {},
   "source": [
    "Объявим функцию, вход которой: пара (x, y), а выход {1, если x >= y, иначе 0}"
   ]
  },
  {
   "cell_type": "code",
   "execution_count": 3,
   "metadata": {},
   "outputs": [],
   "source": [
    "def fun(xy):\n",
    "    return xy[0] >= xy[1]"
   ]
  },
  {
   "cell_type": "code",
   "execution_count": 9,
   "metadata": {},
   "outputs": [],
   "source": [
    "x = np.linspace(0, 10, num=50)\n",
    "y = np.linspace(0, 10, num=50)\n",
    "\n",
    "data = np.zeros((50, 50, 2))\n",
    "for i in range(50):\n",
    "    for j in range(50):\n",
    "        data[i][j][0] = x[i]\n",
    "        data[i][j][1] = y[j]"
   ]
  },
  {
   "cell_type": "code",
   "execution_count": 5,
   "metadata": {},
   "outputs": [],
   "source": [
    "N_train = 500\n",
    "\n",
    "tdata = data.copy()\n",
    "tdata.resize(50*50, 2)\n",
    "np.random.shuffle(tdata)\n",
    "tdata = tdata[:N_train]"
   ]
  },
  {
   "cell_type": "code",
   "execution_count": 6,
   "metadata": {},
   "outputs": [],
   "source": [
    "labels = np.array([int(fun(tdata[i])) for i in range(N_train)])"
   ]
  },
  {
   "cell_type": "code",
   "execution_count": 7,
   "metadata": {},
   "outputs": [
    {
     "data": {
      "text/plain": [
       "(500,)"
      ]
     },
     "execution_count": 7,
     "metadata": {},
     "output_type": "execute_result"
    }
   ],
   "source": [
    "labels.shape"
   ]
  },
  {
   "cell_type": "markdown",
   "metadata": {},
   "source": [
    "Создадим и обучим нейронную сеть, состоящую всего из одного нейрона с сигмоидой в качестве функции активации."
   ]
  },
  {
   "cell_type": "code",
   "execution_count": 29,
   "metadata": {},
   "outputs": [
    {
     "data": {
      "text/plain": [
       "<keras.callbacks.callbacks.History at 0x1eec284ce88>"
      ]
     },
     "execution_count": 29,
     "metadata": {},
     "output_type": "execute_result"
    }
   ],
   "source": [
    "model = keras.models.Sequential([\n",
    "    keras.layers.Dense(1, activation='sigmoid', input_shape=(2,)),\n",
    "])\n",
    "\n",
    "model.compile(optimizer='rmsprop',\n",
    "              loss='binary_crossentropy',\n",
    "              metrics=['accuracy'])\n",
    "\n",
    "model.fit(tdata, labels, epochs=500, verbose=0) # Укажем verbose=0, чтобы скрыть 500 строк печати "
   ]
  },
  {
   "cell_type": "markdown",
   "metadata": {},
   "source": [
    "Посмотрим, что выдает нейронная сеть на всей сетке"
   ]
  },
  {
   "cell_type": "code",
   "execution_count": 37,
   "metadata": {},
   "outputs": [],
   "source": [
    "data.resize(50*50, 2)\n",
    "z = model.predict(data)\n",
    "# z = z > 0.5\n",
    "z.resize(50, 50)"
   ]
  },
  {
   "cell_type": "code",
   "execution_count": 38,
   "metadata": {},
   "outputs": [
    {
     "data": {
      "text/plain": [
       "<matplotlib.colorbar.Colorbar at 0x1eec51c9b88>"
      ]
     },
     "execution_count": 38,
     "metadata": {},
     "output_type": "execute_result"
    },
    {
     "data": {
      "image/png": "[encoded data removed]",
      "text/plain": [
       "<Figure size 432x288 with 2 Axes>"
      ]
     },
     "metadata": {
      "needs_background": "light"
     },
     "output_type": "display_data"
    }
   ],
   "source": [
    "plt.contourf(xx,yy,z)\n",
    "plt.colorbar()"
   ]
  },
  {
   "cell_type": "markdown",
   "metadata": {},
   "source": [
    "А также найдем истинные значения на каждом участке сетки"
   ]
  },
  {
   "cell_type": "code",
   "execution_count": 39,
   "metadata": {},
   "outputs": [],
   "source": [
    "xx, yy = np.array(np.meshgrid(x, y))\n",
    "z = (yy >= xx)"
   ]
  },
  {
   "cell_type": "code",
   "execution_count": 40,
   "metadata": {},
   "outputs": [
    {
     "data": {
      "text/plain": [
       "<matplotlib.colorbar.Colorbar at 0x1eec5290bc8>"
      ]
     },
     "execution_count": 40,
     "metadata": {},
     "output_type": "execute_result"
    },
    {
     "data": {
      "image/png": "[encoded data removed]",
      "text/plain": [
       "<Figure size 432x288 with 2 Axes>"
      ]
     },
     "metadata": {
      "needs_background": "light"
     },
     "output_type": "display_data"
    }
   ],
   "source": [
    "plt.contourf(xx,yy,z)\n",
    "plt.colorbar()"
   ]
  },
  {
   "cell_type": "markdown",
   "metadata": {},
   "source": [
    "### Пример 2"
   ]
  },
  {
   "cell_type": "markdown",
   "metadata": {},
   "source": [
    "Зададим функцию \"или\"."
   ]
  },
  {
   "cell_type": "code",
   "execution_count": 2,
   "metadata": {},
   "outputs": [],
   "source": [
    "x = np.array([[0, 0],\n",
    "             [0, 1],\n",
    "             [1, 0],\n",
    "             [1, 1]])"
   ]
  },
  {
   "cell_type": "code",
   "execution_count": 3,
   "metadata": {},
   "outputs": [
    {
     "data": {
      "text/plain": [
       "(4, 2)"
      ]
     },
     "execution_count": 3,
     "metadata": {},
     "output_type": "execute_result"
    }
   ],
   "source": [
    "x.shape"
   ]
  },
  {
   "cell_type": "code",
   "execution_count": 4,
   "metadata": {},
   "outputs": [],
   "source": [
    "y = [0, 1, 1, 1]"
   ]
  },
  {
   "cell_type": "markdown",
   "metadata": {},
   "source": [
    "Обучим модель"
   ]
  },
  {
   "cell_type": "code",
   "execution_count": 5,
   "metadata": {},
   "outputs": [
    {
     "data": {
      "text/plain": [
       "<keras.callbacks.callbacks.History at 0x2576abea888>"
      ]
     },
     "execution_count": 5,
     "metadata": {},
     "output_type": "execute_result"
    }
   ],
   "source": [
    "model = keras.models.Sequential([\n",
    "    keras.layers.Dense(1, activation='sigmoid', input_shape=(2,)),\n",
    "])\n",
    "\n",
    "model.compile(optimizer='rmsprop',\n",
    "              loss='binary_crossentropy',\n",
    "              metrics=['accuracy'])\n",
    "\n",
    "model.fit(x, y, epochs=10000, verbose=0) # Укажем verbose=0, чтобы скрыть 500 строк печати "
   ]
  },
  {
   "cell_type": "code",
   "execution_count": 6,
   "metadata": {},
   "outputs": [
    {
     "name": "stdout",
     "output_type": "stream",
     "text": [
      "\n",
      "Точность на проверочных данных: 1.0\n"
     ]
    }
   ],
   "source": [
    "test_loss, test_acc = model.evaluate(x,  y, verbose=2)\n",
    "\n",
    "print('\\nТочность на проверочных данных:', test_acc)"
   ]
  },
  {
   "cell_type": "markdown",
   "metadata": {},
   "source": [
    "Построим графики"
   ]
  },
  {
   "cell_type": "code",
   "execution_count": 7,
   "metadata": {},
   "outputs": [],
   "source": [
    "x1 = np.linspace(0-0.1, 1+0.1, num=50)\n",
    "x2 = np.linspace(0-0.1, 1+0.1, num=50)\n",
    "\n",
    "x_plot = np.zeros((50, 50, 2))\n",
    "for i in range(50):\n",
    "    for j in range(50):\n",
    "        x_plot[i][j][0] = x1[i]\n",
    "        x_plot[i][j][1] = x2[j]"
   ]
  },
  {
   "cell_type": "code",
   "execution_count": 8,
   "metadata": {},
   "outputs": [],
   "source": [
    "x_plot.resize(50*50, 2)\n",
    "y_plot = model.predict(x_plot)\n",
    "y_plot.resize(50, 50)"
   ]
  },
  {
   "cell_type": "code",
   "execution_count": 9,
   "metadata": {},
   "outputs": [
    {
     "data": {
      "image/png": "[encoded data removed]",
      "text/plain": [
       "<Figure size 432x288 with 2 Axes>"
      ]
     },
     "metadata": {
      "needs_background": "light"
     },
     "output_type": "display_data"
    }
   ],
   "source": [
    "plt.figure()\n",
    "plt.contourf(x1, x2, y_plot)\n",
    "for i in range(len(y)):\n",
    "    if y[i] == 0:\n",
    "        plt.scatter(x[i][0], x[i][1])\n",
    "    else:\n",
    "        plt.scatter(x[i][0], x[i][1], marker='v')\n",
    "plt.colorbar()\n",
    "plt.show()"
   ]
  },
  {
   "cell_type": "markdown",
   "metadata": {},
   "source": [
    "Как было сказано ранее, разделяющей поверхностью для одного нейрона является прямая. Т.к. сигмоида всё же приближает пороговую функцию, то на практике видно не совсем прямую, а область плавного перехода одного в другое. Тем не менее, эта область так же имеет форму прямой.\n",
    "\n",
    "В связи с этим ограничением существует известная проблема ограниченности одного нейрона, называемая XOR-проблем. Вкратце, один нейрон с пороговой функцией активации не способен решить задачу классификации, если данные линейно неразделимы. \n",
    "\n",
    "Примером таких данных является функция XOR."
   ]
  },
  {
   "cell_type": "markdown",
   "metadata": {},
   "source": [
    "### Пример 3"
   ]
  },
  {
   "cell_type": "code",
   "execution_count": 2,
   "metadata": {},
   "outputs": [],
   "source": [
    "x = np.array([[0, 0],\n",
    "             [0, 1],\n",
    "             [1, 0],\n",
    "             [1, 1]])"
   ]
  },
  {
   "cell_type": "code",
   "execution_count": 3,
   "metadata": {},
   "outputs": [],
   "source": [
    "y = [0, 1, 1, 0]"
   ]
  },
  {
   "cell_type": "code",
   "execution_count": 11,
   "metadata": {},
   "outputs": [
    {
     "data": {
      "text/plain": [
       "<keras.callbacks.callbacks.History at 0x26ca693bb08>"
      ]
     },
     "execution_count": 11,
     "metadata": {},
     "output_type": "execute_result"
    }
   ],
   "source": [
    "model = keras.models.Sequential([\n",
    "    keras.layers.Dense(1, activation='sigmoid', input_shape=(2,)),\n",
    "])\n",
    "\n",
    "model.compile(optimizer='adam',\n",
    "              loss='binary_crossentropy',\n",
    "              metrics=['accuracy'])\n",
    "\n",
    "model.fit(x, y, epochs=10000, verbose=0) # Укажем verbose=0, чтобы скрыть 500 строк печати "
   ]
  },
  {
   "cell_type": "code",
   "execution_count": 13,
   "metadata": {},
   "outputs": [
    {
     "name": "stdout",
     "output_type": "stream",
     "text": [
      "\n",
      "Точность на проверочных данных: 0.5\n"
     ]
    }
   ],
   "source": [
    "test_loss, test_acc = model.evaluate(x,  y, verbose=2)\n",
    "\n",
    "print('\\nТочность на проверочных данных:', test_acc)"
   ]
  },
  {
   "cell_type": "code",
   "execution_count": 14,
   "metadata": {},
   "outputs": [],
   "source": [
    "x1 = np.linspace(0-0.1, 1+0.1, num=50)\n",
    "x2 = np.linspace(0-0.1, 1+0.1, num=50)\n",
    "\n",
    "x_plot = np.zeros((50, 50, 2))\n",
    "for i in range(50):\n",
    "    for j in range(50):\n",
    "        x_plot[i][j][0] = x1[i]\n",
    "        x_plot[i][j][1] = x2[j]"
   ]
  },
  {
   "cell_type": "code",
   "execution_count": 19,
   "metadata": {},
   "outputs": [],
   "source": [
    "x_plot.resize(50*50, 2)\n",
    "y_plot = model.predict(x_plot)\n",
    "y_plot = y_plot > 0.5\n",
    "y_plot.resize(50, 50)"
   ]
  },
  {
   "cell_type": "code",
   "execution_count": 20,
   "metadata": {},
   "outputs": [
    {
     "data": {
      "image/png": "[encoded data removed]",
      "text/plain": [
       "<Figure size 432x288 with 2 Axes>"
      ]
     },
     "metadata": {
      "needs_background": "light"
     },
     "output_type": "display_data"
    }
   ],
   "source": [
    "plt.figure()\n",
    "plt.contourf(x1, x2, y_plot)\n",
    "for i in range(len(y)):\n",
    "    if y[i] == 0:\n",
    "        plt.scatter(x[i][0], x[i][1])\n",
    "    else:\n",
    "        plt.scatter(x[i][0], x[i][1], marker='v')\n",
    "plt.colorbar()\n",
    "plt.show()"
   ]
  },
  {
   "cell_type": "markdown",
   "metadata": {},
   "source": [
    "Как видно из графика, невозможно провести прямую так, чтобы отделить данные друг от друга. Поэтому один нейрон не способен справиться с данной задачей. Но есть и хорошие новости: согласно **универсальной теореме аппроксимации** (Hornik et al., 1989; Cybenko, 1989), нейронная сеть всего с одним скрытым слоем с произвольной «сплющивающей» функцией активации (например, сигмоидой) может аппроксимировать любую измеримую по Борелю функцию, отображающую одно конечномерное пространство в другое с любой точностью, при условии что в сети достаточно скрытых блоков. Понятие измеримости по Борелю выходит за рамки курса; нам достаточно знать, что любая непрерывная функция на замкнутом ограниченном подмножестве $R^n$ измерима по Борелю и потому может быть аппроксимирована нейронной сетью. Нейронная сеть также может аппроксимировать произвольную функцию, отображающую одно конечномерное дискретное пространство в другое. Хотя первоначально эти теоремы были доказаны в терминах блоков с функциями активации, которые насыщаются при стремлении аргумента к бесконечности любого знака, универсальные теоремы аппроксимации справедливы также для более широкого класса функций активации, включающего ныне широко используемые блоки линейной ректификации (ReLU)."
   ]
  },
  {
   "cell_type": "markdown",
   "metadata": {},
   "source": [
    "### Пример 4\n",
    "\n",
    "Составим нейронную сеть с одним скрытым слоем всего из двух нейронов (для данной задачи такого количества будет вполне достаточно) и посмотрим на разделяющую поверхность."
   ]
  },
  {
   "cell_type": "code",
   "execution_count": 22,
   "metadata": {},
   "outputs": [
    {
     "data": {
      "text/plain": [
       "<keras.callbacks.callbacks.History at 0x26ca694df48>"
      ]
     },
     "execution_count": 22,
     "metadata": {},
     "output_type": "execute_result"
    }
   ],
   "source": [
    "model = keras.models.Sequential([\n",
    "    keras.layers.Dense(2, activation='tanh', input_shape=(2,)),\n",
    "    keras.layers.Dense(1, activation='sigmoid', input_shape=(2,)),\n",
    "])\n",
    "\n",
    "model.compile(optimizer='adam',\n",
    "              loss='binary_crossentropy',\n",
    "              metrics=['accuracy'])\n",
    "\n",
    "model.fit(x, y, epochs=10000, verbose=0) # Укажем verbose=0, чтобы скрыть 500 строк печати "
   ]
  },
  {
   "cell_type": "code",
   "execution_count": 25,
   "metadata": {},
   "outputs": [],
   "source": [
    "x_plot.resize(50*50, 2)\n",
    "y_plot = model.predict(x_plot)\n",
    "y_plot.resize(50, 50)"
   ]
  },
  {
   "cell_type": "code",
   "execution_count": 26,
   "metadata": {},
   "outputs": [
    {
     "data": {
      "image/png": "[encoded data removed]",
      "text/plain": [
       "<Figure size 432x288 with 2 Axes>"
      ]
     },
     "metadata": {
      "needs_background": "light"
     },
     "output_type": "display_data"
    }
   ],
   "source": [
    "plt.figure()\n",
    "plt.contourf(x1, x2, y_plot)\n",
    "for i in range(len(y)):\n",
    "    if y[i] == 0:\n",
    "        plt.scatter(x[i][0], x[i][1])\n",
    "    else:\n",
    "        plt.scatter(x[i][0], x[i][1], marker='v')\n",
    "plt.colorbar()\n",
    "plt.show()"
   ]
  },
  {
   "cell_type": "markdown",
   "metadata": {},
   "source": [
    "Универсальная теорема аппроксимации означает, что какой бы ни была обучаемая функция, найдется достаточно большая нейронная сеть,  способная ее *представить*. Однако стоит сделать два важных замечания:\n",
    "1) Теорема ничего не говорит о том, насколько велика эта сеть. Cети прямого распространения с одним слоем достаточно для представления любой функции, но этот слой может оказаться невообразимо большим, не поддающимся обучению и плохо обобщающимся. Во многих случаях применение глубоких моделей позволяет уменьшить число необходимых блоков и величину ошибки обобщения.\n",
    "\n",
    "2)  Не гарантируется, что алгоритм обучения сможет обучить такую нейронную сеть. Даже если она может представить функцию, обучение может оказаться невозможным по двум причинам. Во-первых, применяемый при обучении алгоритм оптимизации может не найти соответствующие ей значения параметров. Во-вторых, из-за переобучения алгоритм оптимизации может выбрать не ту функцию."
   ]
  }
 ],
 "metadata": {
  "kernelspec": {
   "display_name": "Python 3",
   "language": "python",
   "name": "python3"
  },
  "language_info": {
   "codemirror_mode": {
    "name": "ipython",
    "version": 3
   },
   "file_extension": ".py",
   "mimetype": "text/x-python",
   "name": "python",
   "nbconvert_exporter": "python",
   "pygments_lexer": "ipython3",
   "version": "3.7.7"
  }
 },
 "nbformat": 4,
 "nbformat_minor": 4
}
