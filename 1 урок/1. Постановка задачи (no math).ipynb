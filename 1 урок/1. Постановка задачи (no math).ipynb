{
 "cells": [
  {
   "cell_type": "markdown",
   "metadata": {},
   "source": [
    "# Как отличить кошку от собаки? "
   ]
  },
  {
   "cell_type": "markdown",
   "metadata": {},
   "source": [
    "<tr>\n",
    "<td> <img src=\"images/dog.jpg\" alt=\"Drawing\" style=\"width: 820px;height: 300px\"/> </td>\n",
    "<td> <img src=\"images/cat.jpg\" alt=\"Drawing\" style=\"width: 820px;height: 300px\"/> </td>\n",
    "</tr>"
   ]
  },
  {
   "cell_type": "markdown",
   "metadata": {
    "slideshow": {
     "slide_type": "-"
    }
   },
   "source": [
    "# Постановка задачи"
   ]
  },
  {
   "cell_type": "markdown",
   "metadata": {},
   "source": [
    "![image](images/introdution.png)"
   ]
  },
  {
   "cell_type": "markdown",
   "metadata": {},
   "source": [
    "# Основные типы задач"
   ]
  },
  {
   "cell_type": "markdown",
   "metadata": {},
   "source": [
    "### 1) Классификация.\n",
    "Мы уже рассмотрели задачу классификации на примере собак и кошек. По сути главной задачей классификации является разделение объектов на классы. Это может быть 2 класса, как в нашем примере (кошка или собака), тогда это называется **бинарной классификацией**"
   ]
  },
  {
   "cell_type": "markdown",
   "metadata": {},
   "source": [
    "А может быть и разделением на **множество классов**. Например, определение по фотографии какая написана цифра."
   ]
  },
  {
   "cell_type": "markdown",
   "metadata": {},
   "source": [
    "<tr>\n",
    "<td> <img src=\"images/mnist.png\" alt=\"Drawing\" style=\"width: 65%;height: 65%\"/> </td>\n",
    "</tr>"
   ]
  },
  {
   "cell_type": "markdown",
   "metadata": {},
   "source": [
    "### 2) Линейная регрессия.\n",
    "Тут все немного сложнее. В данном типе задач мы хотим установить какую-то **зависимость**. Например, рост человека по его весу или возрасту."
   ]
  },
  {
   "cell_type": "code",
   "execution_count": 21,
   "metadata": {},
   "outputs": [
    {
     "data": {
      "image/png": "[encoded data removed]",
      "text/plain": [
       "<Figure size 432x288 with 1 Axes>"
      ]
     },
     "metadata": {
      "needs_background": "light"
     },
     "output_type": "display_data"
    }
   ],
   "source": [
    "import numpy as np\n",
    "import matplotlib.pyplot as plt\n",
    "\n",
    "x = np.arange(0., 20., 0.2)\n",
    "y = 2*x + 5\n",
    "plt.plot(x, y)\n",
    "plt.show()"
   ]
  },
  {
   "cell_type": "markdown",
   "metadata": {},
   "source": [
    "То есть линейная регрессия подходит для такого типа задач, где один или несколько признаков потенциально могут иметь какую-то зависимость. Условно, заработная плата человека скорее всего зависит от его возраста, места проживания и образования. "
   ]
  },
  {
   "cell_type": "markdown",
   "metadata": {},
   "source": [
    "# Основные понятия и определения"
   ]
  },
  {
   "cell_type": "markdown",
   "metadata": {},
   "source": [
    "Уже несколько раз было упомянуто про такие понятия как **объекты, признаки** и **ответы**. Пора разобраться с определениями.  \n",
    "\n",
    "Давайте рассмотрим предыдущую задачу: определение заработной платы человека по его возрасту, месту проживанию и образованию."
   ]
  },
  {
   "cell_type": "markdown",
   "metadata": {},
   "source": [
    "**Объект** - В нашем случае объектом является **человек**. В нейронных сетях 1 объект обозначается как $x$, тогда множество объектов обозначается $X$"
   ]
  },
  {
   "cell_type": "markdown",
   "metadata": {},
   "source": [
    "**Призаки** - В нашем случае признаками будут являться признаки человека, указанные в задаче, а именно его: **возраст, место проживание, образование**.  \n",
    "В нейронных сетях обычно это называют признаками объекта и обозначаются как нижний индекс у $x_i$ объекта: $x_{i,1}$, $x_{i,2}$, ... , $x_{i,d}$.  \n",
    "Например: второй признак первого объекта будем обозначать как $x_{1,2}$\n",
    "\n",
    "P.S. Если с вещественными признаками, такими как возраст все понятно - они являются числами, то как нам определять признаки по типу \"место проживание\", \"образование\" и тд. ? Об этом будет рассказано на следующих уроках."
   ]
  },
  {
   "cell_type": "markdown",
   "metadata": {},
   "source": [
    "**Ответ** - В нашем случае будет **заработная плата**.  \n",
    "В нейронных сетях по другому это еще называют целевой переменной. Именно эту переменную в конечном итоге нейросеть должна научиться определять. Обозначают ее как ответ на $x_i$ объекте - $y_i$. Тогда ответом на всей выборке $X$ будет множество $Y$"
   ]
  },
  {
   "cell_type": "markdown",
   "metadata": {},
   "source": [
    "# Построение модели"
   ]
  },
  {
   "cell_type": "markdown",
   "metadata": {},
   "source": [
    "Итак, мы уже знаем про выборку объектов, ответов. Пора строить модель.  \n",
    "Из рисунка, который мы уже видели, мы поняли, что наша модель должна строиться из двух выборок: $X$ и $Y$"
   ]
  },
  {
   "cell_type": "markdown",
   "metadata": {},
   "source": [
    "![image](images/introdution2.png)"
   ]
  },
  {
   "cell_type": "markdown",
   "metadata": {},
   "source": [
    "Также стоит отметить, что когда мы говорим про выборку $X$, мы имеем ввиду матрицу \"объектов-признаков\", которая выглядит следующим образом:  \n",
    "\n",
    "$$ X = \\left( \\begin{matrix}\n",
    "x_{1,1} & x_{1,2} &... & x_{1,d}\\\\\n",
    "... & ... & ... & ...\\\\\n",
    "x_{\\ell,d} & x_{\\ell,2} &... & x_{\\ell,d}\n",
    "\\end{matrix} \\right),\n",
    "Y= \\left( \\begin{matrix}\n",
    "y_1\\\\\n",
    "...\\\\\n",
    "y_\\ell\n",
    "\\end{matrix} \\right)  $$\n",
    "$\\ell$ - количество объектов  \n",
    "    d - количество признаков"
   ]
  },
  {
   "cell_type": "markdown",
   "metadata": {},
   "source": [
    "## Задача модели"
   ]
  },
  {
   "cell_type": "markdown",
   "metadata": {},
   "source": [
    "Если говорить простыми словами что нам нужно сделать, то это найти такую функцию, которая бы смогла приближать нашу **ограниченную выборку объектов** из $X$ в выборку ответов $Y$  \n",
    "$f: X \\to Y$  \n",
    "\n",
    "После \"нахождения\" функции, мы сможем, используя ее, находить значение ответа $Y$ на любой выборке $X$"
   ]
  },
  {
   "cell_type": "markdown",
   "metadata": {},
   "source": [
    "Терминами из математики это выглядит примерно вот так:"
   ]
  },
  {
   "cell_type": "markdown",
   "metadata": {},
   "source": [
    "\n",
    "Задано множество объектов $X$, множество допустимых ответов $Y$, и существует *целевая функция* (target function) $y^*: X \\to Y$, значения которой $y_i = y^*(x_i)$ известны только на конечном подмножестве объектов ${x_1,...,x_{\\ell}}\\subset X$. Пары «объект– ответ» $(x_i, y_i)$ называются *прецедентами*. Совокупность пар $X^{\\ell} = (x_i,y_i)^{\\ell}_{i=1}$ называется *обучающей выборкой* (training sample). \n",
    "\n",
    "Задача обучения *по прецедентам* заключается в том, чтобы по выборке $X_{\\ell}$ *восстановить зависимость* $y^∗$, то есть построить *решающую функцию* (decision function) $a: X \\to Y$, которая приближала бы целевую функцию $y^*(x)$, причём не только на объектах обучающей выборки, но и на всём множестве $X$. \n",
    "\n",
    "Решающая функция a должна допускать эффективную компьютерную реализацию; по этой причине будем называть её *алгоритмом*.\n"
   ]
  },
  {
   "cell_type": "markdown",
   "metadata": {},
   "source": [
    "# Обучение модели"
   ]
  },
  {
   "cell_type": "markdown",
   "metadata": {},
   "source": [
    "Для того, чтобы обучить модель, нам нужно как-то показывать ей правильно ли она ответила, или же ошиблась. А если ошиблась, то насколько сильно? Для этого в задачах обучения используют такое понятие как **функционал качества (loss function)**."
   ]
  },
  {
   "cell_type": "markdown",
   "metadata": {},
   "source": [
    "### Функционал качества (loss function)"
   ]
  },
  {
   "cell_type": "markdown",
   "metadata": {},
   "source": [
    "Введем еще один термин как **предсказание модели** для $x_i$ объекта и будем обозначать его как $a_i$"
   ]
  },
  {
   "cell_type": "markdown",
   "metadata": {},
   "source": [
    "Итак, модель используя какую-то сгенерированную функцию получила предсказание для $x_i$ объекта - $a_i$. Тогда для определения качества предсказания(loss), мы можем просто найти разницу между действительным ответом и тем, что получила модель $y_i - a_i$. Это и называется loss функцией"
   ]
  },
  {
   "cell_type": "markdown",
   "metadata": {},
   "source": [
    "Однако мы можем получить в данной формуле ( $y_i - a_i$ ) отрицательное значение, и чтобы это избежать, мы можем взять модуль"
   ]
  },
  {
   "cell_type": "markdown",
   "metadata": {},
   "source": [
    "$\\mathscr{L} = |y_i - a_i|$"
   ]
  },
  {
   "cell_type": "markdown",
   "metadata": {},
   "source": [
    "Теперь, подставив наш loss и пройдясь по всем объектом нашей выборке, мы можем найти функционал качества $Q$:  \n",
    "$$Mean Absolute Error = \\frac{1}{\\ell} \\sum_{i=1}^{\\ell} (|y_i-a_i|)$$"
   ]
  },
  {
   "cell_type": "markdown",
   "metadata": {},
   "source": [
    "На практике чаще применяется формула **Mean Squared Error (MSE)**, потому что если мы возводим в квадрат, то за большие отклонения, наш loss будет огромный, а это помогает модели быстрее сойтись."
   ]
  },
  {
   "cell_type": "markdown",
   "metadata": {},
   "source": [
    "$$MSE = \\frac{1}{\\ell} \\sum_{i=1}^{\\ell} (y_i-a_i)^2$$"
   ]
  },
  {
   "cell_type": "markdown",
   "metadata": {},
   "source": [
    "### Минимизация отклонения"
   ]
  },
  {
   "cell_type": "markdown",
   "metadata": {},
   "source": [
    "Если мы хотим, чтобы наша модель выдавала правильные ответы, это значит мы хотим, чтобы наш функционал качества $Q \\to \\min$"
   ]
  },
  {
   "cell_type": "markdown",
   "metadata": {},
   "source": [
    "Это и **является классическим методом обучения**, по другому называемый минимизацией эмпирического риска (empirical risk minimization, ERM)"
   ]
  },
  {
   "cell_type": "markdown",
   "metadata": {},
   "source": [
    "Суть в том, чтобы определить функционал качества $Q$ на обучающей выборке $X^\\ell$ и минимизировать его. $Q \\to \\min$"
   ]
  }
 ],
 "metadata": {
  "celltoolbar": "Отсутствует",
  "kernelspec": {
   "display_name": "Python 3",
   "language": "python",
   "name": "python3"
  },
  "language_info": {
   "codemirror_mode": {
    "name": "ipython",
    "version": 3
   },
   "file_extension": ".py",
   "mimetype": "text/x-python",
   "name": "python",
   "nbconvert_exporter": "python",
   "pygments_lexer": "ipython3",
   "version": "3.8.3"
  }
 },
 "nbformat": 4,
 "nbformat_minor": 4
}
